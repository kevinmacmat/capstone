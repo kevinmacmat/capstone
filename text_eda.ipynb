{
 "cells": [
  {
   "cell_type": "markdown",
   "metadata": {},
   "source": [
    "### LDA Topic Modeling"
   ]
  },
  {
   "cell_type": "code",
   "execution_count": 52,
   "metadata": {},
   "outputs": [],
   "source": [
    "import pandas as pd\n",
    "from sklearn.feature_extraction.text import CountVectorizer\n",
    "from sklearn.feature_extraction import text #adding stopwords\n",
    "from nltk.tokenize import RegexpTokenizer\n",
    "from gensim import matutils, models\n",
    "from gensim.corpora import Dictionary\n",
    "import scipy.sparse\n",
    "from project_functions import *"
   ]
  },
  {
   "cell_type": "code",
   "execution_count": 53,
   "metadata": {},
   "outputs": [
    {
     "name": "stderr",
     "output_type": "stream",
     "text": [
      "/Users/kevinmacmat/opt/anaconda3/envs/capstone_env/lib/python3.7/site-packages/sklearn/feature_extraction/text.py:386: UserWarning: Your stop_words may be inconsistent with your preprocessing. Tokenizing the stop words generated tokens ['don', 't'] not in stop_words.\n",
      "  'stop_words.' % sorted(inconsistent))\n"
     ]
    },
    {
     "data": {
      "text/plain": [
       "[(0,\n",
       "  '0.007*\"principal\" + 0.005*\"staff\" + 0.005*\"middle\" + 0.005*\"work\" + 0.005*\"know\" + 0.005*\"time\" + 0.005*\"class\" + 0.005*\"community\" + 0.004*\"learning\" + 0.004*\"program\"'),\n",
       " (1,\n",
       "  '0.012*\"program\" + 0.010*\"principal\" + 0.007*\"community\" + 0.006*\"language\" + 0.006*\"programs\" + 0.005*\"prek\" + 0.005*\"class\" + 0.005*\"education\" + 0.004*\"dual\" + 0.004*\"learning\"'),\n",
       " (2,\n",
       "  '0.005*\"gt\" + 0.004*\"principal\" + 0.004*\"know\" + 0.003*\"class\" + 0.003*\"test\" + 0.003*\"program\" + 0.003*\"does\" + 0.003*\"state\" + 0.003*\"admissions\" + 0.003*\"middle\"'),\n",
       " (3,\n",
       "  '0.008*\"education\" + 0.007*\"city\" + 0.006*\"state\" + 0.006*\"principal\" + 0.006*\"list\" + 0.005*\"reportsa\" + 0.004*\"renewal\" + 0.004*\"tag\" + 0.004*\"learning\" + 0.004*\"department\"'),\n",
       " (4,\n",
       "  '0.007*\"class\" + 0.007*\"principal\" + 0.006*\"program\" + 0.005*\"know\" + 0.005*\"time\" + 0.004*\"staff\" + 0.004*\"bad\" + 0.004*\"middle\" + 0.004*\"going\" + 0.004*\"help\"')]"
      ]
     },
     "execution_count": 53,
     "metadata": {},
     "output_type": "execute_result"
    }
   ],
   "source": [
    "# Read in dataset\n",
    "tm = pd.read_csv('csv/sqr_&_comments.csv')\n",
    "\n",
    "# Clean text function from project_functions file. Removes punctuation, whitespace, numbers, and makes text lowercase\n",
    "cleanupText(tm, 'comments')\n",
    "\n",
    "# Add additional stop words to remove\n",
    "add_stop_words = [\n",
    "    'school', 'schools', 'ps', 'teacher', 'teachers', 'student', 'students', 'kid',\n",
    "    'kids', 'th', 'year', 'years', 'grade', 'like', 'good', 'parent', 'parents', 'ms',\n",
    "    'child', 'children', 'read', 'new', 'dont', 'don\\'t', 'just', 'like', 'great', 'high',\n",
    "    'im', 'really', 'say', 'best', 'new', 'york', 'son', 'daughter']\n",
    "stop_words = text.ENGLISH_STOP_WORDS.union(add_stop_words)\n",
    "\n",
    "# Create the document-term-matrix\n",
    "token = RegexpTokenizer(r'[a-zA-Z0-9]+')\n",
    "cv = CountVectorizer(lowercase=True,stop_words=stop_words, ngram_range = (1,1),tokenizer = token.tokenize)\n",
    "text_counts = cv.fit_transform(tm['comments'])\n",
    "dtm = pd.DataFrame(text_counts.todense(),columns = cv.get_feature_names())\n",
    "\n",
    "# Convert to a term-document-matrix\n",
    "tdm = dtm.transpose()\n",
    "\n",
    "# Format term-document-matrix as sparse matrix and corpus for gensim\n",
    "sparse_counts = scipy.sparse.csr_matrix(tdm)\n",
    "corpus = matutils.Sparse2Corpus(sparse_counts)\n",
    "\n",
    "# Create dictionary of all terms and locations from countVectorizer variable\n",
    "id2word = dict((v, k) for k, v in cv.vocabulary_.items())\n",
    "\n",
    "# Run LDA model\n",
    "lda = models.LdaModel(corpus=corpus, id2word=id2word, num_topics=5, passes=100, random_state=34)\n",
    "lda.print_topics()"
   ]
  },
  {
   "cell_type": "code",
   "execution_count": 51,
   "metadata": {},
   "outputs": [
    {
     "data": {
      "text/plain": [
       "[(0,\n",
       "  '0.011*\"york\" + 0.008*\"education\" + 0.008*\"community\" + 0.008*\"reportsa\" + 0.007*\"state\" + 0.007*\"city\" + 0.007*\"program\" + 0.006*\"list\" + 0.005*\"department\" + 0.004*\"reports\"'),\n",
       " (1,\n",
       "  '0.009*\"principal\" + 0.006*\"class\" + 0.006*\"really\" + 0.006*\"program\" + 0.005*\"staff\" + 0.005*\"time\" + 0.005*\"know\" + 0.004*\"son\" + 0.004*\"middle\" + 0.004*\"best\"'),\n",
       " (2,\n",
       "  '0.005*\"class\" + 0.004*\"middle\" + 0.004*\"test\" + 0.004*\"state\" + 0.004*\"math\" + 0.004*\"son\" + 0.004*\"know\" + 0.003*\"admissions\" + 0.003*\"does\" + 0.003*\"graders\"'),\n",
       " (3,\n",
       "  '0.009*\"program\" + 0.007*\"language\" + 0.006*\"dual\" + 0.005*\"practices\" + 0.004*\"principal\" + 0.004*\"programs\" + 0.004*\"area\" + 0.004*\"learning\" + 0.003*\"host\" + 0.003*\"education\"'),\n",
       " (4,\n",
       "  '0.005*\"principal\" + 0.002*\"mott\" + 0.002*\"hall\" + 0.002*\"middle\" + 0.002*\"claire\" + 0.002*\"special\" + 0.002*\"miss\" + 0.002*\"medgar\" + 0.002*\"msc\" + 0.002*\"evers\"')]"
      ]
     },
     "execution_count": 51,
     "metadata": {},
     "output_type": "execute_result"
    }
   ],
   "source": [
    "lda = models.LdaModel(corpus=corpus, id2word=id2word, num_topics=5, passes=100, random_state=3)\n",
    "lda.print_topics()"
   ]
  },
  {
   "cell_type": "code",
   "execution_count": 54,
   "metadata": {},
   "outputs": [
    {
     "data": {
      "text/plain": [
       "[(0,\n",
       "  '0.011*\"program\" + 0.006*\"practices\" + 0.005*\"chancellor\" + 0.005*\"fari\" + 0.005*\"community\" + 0.005*\"education\" + 0.005*\"area\" + 0.004*\"reportsa\" + 0.004*\"host\" + 0.004*\"department\"'),\n",
       " (1,\n",
       "  '0.007*\"middle\" + 0.004*\"state\" + 0.004*\"program\" + 0.004*\"city\" + 0.003*\"test\" + 0.003*\"district\" + 0.003*\"class\" + 0.003*\"admissions\" + 0.003*\"quest\" + 0.003*\"principal\"'),\n",
       " (2,\n",
       "  '0.008*\"principal\" + 0.007*\"gt\" + 0.006*\"program\" + 0.005*\"class\" + 0.004*\"classes\" + 0.004*\"know\" + 0.004*\"middle\" + 0.003*\"work\" + 0.003*\"education\" + 0.003*\"pta\"'),\n",
       " (3,\n",
       "  '0.008*\"principal\" + 0.007*\"class\" + 0.006*\"time\" + 0.006*\"staff\" + 0.006*\"know\" + 0.005*\"middle\" + 0.004*\"work\" + 0.004*\"help\" + 0.004*\"going\" + 0.004*\"did\"'),\n",
       " (4,\n",
       "  '0.009*\"principal\" + 0.008*\"program\" + 0.007*\"community\" + 0.006*\"learning\" + 0.006*\"education\" + 0.005*\"prek\" + 0.005*\"love\" + 0.005*\"staff\" + 0.004*\"programs\" + 0.004*\"time\"')]"
      ]
     },
     "execution_count": 54,
     "metadata": {},
     "output_type": "execute_result"
    }
   ],
   "source": [
    "lda = models.LdaModel(corpus=corpus, id2word=id2word, num_topics=5, passes=100, random_state=10)\n",
    "lda.print_topics()"
   ]
  },
  {
   "cell_type": "markdown",
   "metadata": {},
   "source": [
    "---"
   ]
  },
  {
   "cell_type": "markdown",
   "metadata": {},
   "source": [
    "### Frequency and Named Entity Recognition"
   ]
  },
  {
   "cell_type": "code",
   "execution_count": 3,
   "metadata": {},
   "outputs": [],
   "source": [
    "import matplotlib.pyplot as plt\n",
    "import seaborn as sns\n",
    "from project_functions import *\n",
    "import numpy as np\n",
    "import spacy\n",
    "import textacy\n",
    "from collections import Counter\n",
    "from spacy.lang.en.stop_words import STOP_WORDS\n",
    "sns.set_style()\n",
    "%matplotlib inline"
   ]
  },
  {
   "cell_type": "markdown",
   "metadata": {},
   "source": [
    "---"
   ]
  },
  {
   "cell_type": "markdown",
   "metadata": {},
   "source": [
    "### Load dataframe and Spacy pipeline"
   ]
  },
  {
   "cell_type": "code",
   "execution_count": 4,
   "metadata": {},
   "outputs": [],
   "source": [
    "df = pd.read_csv('csv/sqr_comments_sentiment.csv')"
   ]
  },
  {
   "cell_type": "code",
   "execution_count": 5,
   "metadata": {},
   "outputs": [],
   "source": [
    "# Instantiate Spacy's english language pipeline\n",
    "# Override max length due to large length of characters in documents. Causes large memory usage.\n",
    "nlp = spacy.load('en_core_web_lg', max_length=5000000)"
   ]
  },
  {
   "cell_type": "markdown",
   "metadata": {},
   "source": [
    "---"
   ]
  },
  {
   "cell_type": "markdown",
   "metadata": {},
   "source": [
    "### Clean text"
   ]
  },
  {
   "cell_type": "code",
   "execution_count": 6,
   "metadata": {},
   "outputs": [],
   "source": [
    "# Clean text function from project_functions file. Removes punctuation, whitespace, numbers, and makes text lowercase\n",
    "cleanupText(df, 'comments')"
   ]
  },
  {
   "cell_type": "markdown",
   "metadata": {},
   "source": [
    "---"
   ]
  },
  {
   "cell_type": "markdown",
   "metadata": {},
   "source": [
    "### Join text as a large string"
   ]
  },
  {
   "cell_type": "code",
   "execution_count": 7,
   "metadata": {},
   "outputs": [],
   "source": [
    "# Make all the text in the comments column one large string\n",
    "comments = ''.join(str(df.comments.tolist()))"
   ]
  },
  {
   "cell_type": "markdown",
   "metadata": {},
   "source": [
    "---"
   ]
  },
  {
   "cell_type": "markdown",
   "metadata": {},
   "source": [
    "### Create tokens"
   ]
  },
  {
   "cell_type": "code",
   "execution_count": 8,
   "metadata": {},
   "outputs": [],
   "source": [
    "# Process the comments column texts\n",
    "tokens = nlp(''.join(str(df.comments.tolist())))"
   ]
  },
  {
   "cell_type": "code",
   "execution_count": 9,
   "metadata": {},
   "outputs": [
    {
     "data": {
      "text/plain": [
       "spacy.tokens.doc.Doc"
      ]
     },
     "execution_count": 9,
     "metadata": {},
     "output_type": "execute_result"
    }
   ],
   "source": [
    "# Spacy Doc which is a list of tokens\n",
    "type(tokens)"
   ]
  },
  {
   "cell_type": "code",
   "execution_count": 10,
   "metadata": {},
   "outputs": [],
   "source": [
    "# Create token list\n",
    "token_list = []\n",
    "for token in tokens:\n",
    "    token_list.append(token.text)"
   ]
  },
  {
   "cell_type": "markdown",
   "metadata": {},
   "source": [
    "---"
   ]
  },
  {
   "cell_type": "markdown",
   "metadata": {},
   "source": [
    "### Add and filter stop words"
   ]
  },
  {
   "cell_type": "code",
   "execution_count": 11,
   "metadata": {},
   "outputs": [],
   "source": [
    "# You can add more stop words at any point then run the cells below again\n",
    "comments_stop_words = [u',',u'\\'',u'\\'s',u'year',u'th',u'nt',u'ps',u' ',u's',u'm',u'  ', u'ms', u'mr',u've']\n",
    "# Loops through each new stopword added\n",
    "for word in comments_stop_words:\n",
    "    # Set lexeme to Spacy pipeline's vocab method where each word is passed in\n",
    "    lexeme = nlp.vocab[word]\n",
    "    # is_stop method used to add new word to the stopword list\n",
    "    lexeme.is_stop = True"
   ]
  },
  {
   "cell_type": "code",
   "execution_count": 12,
   "metadata": {},
   "outputs": [],
   "source": [
    "# Create list of word tokens after removing stopwords\n",
    "filtered_tokens =[] \n",
    "# Loop through token list\n",
    "for word in token_list:\n",
    "    # Call vocab \n",
    "    lexeme = nlp.vocab[word]\n",
    "    if lexeme.is_stop == False:\n",
    "        filtered_tokens.append(word) "
   ]
  },
  {
   "cell_type": "markdown",
   "metadata": {},
   "source": [
    "### Unigrams"
   ]
  },
  {
   "cell_type": "code",
   "execution_count": 13,
   "metadata": {},
   "outputs": [],
   "source": [
    "# Find most common unigrams\n",
    "tokens_frequency = Counter(filtered_tokens).most_common(20)\n",
    "tokens_df = pd.DataFrame(tokens_frequency, columns=['text', 'count'])"
   ]
  },
  {
   "cell_type": "code",
   "execution_count": 14,
   "metadata": {},
   "outputs": [
    {
     "data": {
      "image/png": "[encoded data removed]",
      "text/plain": [
       "<Figure size 720x576 with 1 Axes>"
      ]
     },
     "metadata": {
      "needs_background": "light"
     },
     "output_type": "display_data"
    }
   ],
   "source": [
    "tokens_df.plot.barh(x='text', y='count', title=\"Unigrams\", figsize=(10,8), color='orange').invert_yaxis()"
   ]
  },
  {
   "cell_type": "markdown",
   "metadata": {},
   "source": [
    "### Bigrams"
   ]
  },
  {
   "cell_type": "markdown",
   "metadata": {},
   "source": [
    "Compared to the distribution of grade levels (elementary:557, middle:320, k-8:128) there are more instances of the middle school bigram than the elementary school bigram. While much focus is placed on Elementary schools and early learning this could point to the behavioral issues that tend to arise in middle school which could be cause for more comments being made. "
   ]
  },
  {
   "cell_type": "markdown",
   "metadata": {},
   "source": [
    "Another interesting point to note is the "
   ]
  },
  {
   "cell_type": "code",
   "execution_count": 15,
   "metadata": {},
   "outputs": [],
   "source": [
    "bigrams = list(textacy.extract.ngrams(tokens, 2))"
   ]
  },
  {
   "cell_type": "code",
   "execution_count": 16,
   "metadata": {},
   "outputs": [],
   "source": [
    "bigram_list = []\n",
    "for x in bigrams:\n",
    "    bigram_list.append(str(x))"
   ]
  },
  {
   "cell_type": "code",
   "execution_count": 17,
   "metadata": {},
   "outputs": [],
   "source": [
    "bigram_frequency = Counter(bigram_list).most_common(20)\n",
    "bigram_df = pd.DataFrame(bigram_frequency, columns=['text', 'count'])"
   ]
  },
  {
   "cell_type": "code",
   "execution_count": 18,
   "metadata": {},
   "outputs": [
    {
     "data": {
      "image/png": "[encoded data removed]",
      "text/plain": [
       "<Figure size 720x576 with 1 Axes>"
      ]
     },
     "metadata": {
      "needs_background": "light"
     },
     "output_type": "display_data"
    }
   ],
   "source": [
    "bigram_df.plot.barh(x='text', y='count', title=\"Bigrams\", figsize=(10,8)).invert_yaxis()"
   ]
  },
  {
   "cell_type": "markdown",
   "metadata": {},
   "source": [
    "### Trigrams"
   ]
  },
  {
   "cell_type": "code",
   "execution_count": 19,
   "metadata": {},
   "outputs": [],
   "source": [
    "trigrams = list(textacy.extract.ngrams(tokens, 3))"
   ]
  },
  {
   "cell_type": "code",
   "execution_count": 20,
   "metadata": {},
   "outputs": [],
   "source": [
    "trigram_list = []\n",
    "for x in trigrams:\n",
    "    trigram_list.append(str(x))"
   ]
  },
  {
   "cell_type": "code",
   "execution_count": 21,
   "metadata": {},
   "outputs": [],
   "source": [
    "# You can add more stop words at any point then run the cells below again\n",
    "comments_stop_words = [u'new york city', u'department of education']\n",
    "# Loops through each new stopword added\n",
    "for word in comments_stop_words:\n",
    "    # Set lexeme to Spacy pipeline's vocab method where each word is passed in\n",
    "    lexeme = nlp.vocab[word]\n",
    "    # is_stop method used to add new word to the stopword list\n",
    "    lexeme.is_stop = True"
   ]
  },
  {
   "cell_type": "code",
   "execution_count": 22,
   "metadata": {},
   "outputs": [],
   "source": [
    "# Create list of word tokens after removing stopwords\n",
    "trigram_tokens =[] \n",
    "# Loop through token list\n",
    "for word in trigram_list:\n",
    "    # Call vocab \n",
    "    lexeme = nlp.vocab[word]\n",
    "    if lexeme.is_stop == False:\n",
    "        trigram_tokens.append(word) "
   ]
  },
  {
   "cell_type": "code",
   "execution_count": 23,
   "metadata": {},
   "outputs": [],
   "source": [
    "trigram_frequency = Counter(trigram_tokens).most_common(20)\n",
    "trigram_df = pd.DataFrame(trigram_frequency, columns=['trigrams', 'count'])"
   ]
  },
  {
   "cell_type": "code",
   "execution_count": 24,
   "metadata": {},
   "outputs": [
    {
     "data": {
      "image/png": "[encoded data removed]",
      "text/plain": [
       "<Figure size 720x576 with 1 Axes>"
      ]
     },
     "metadata": {
      "needs_background": "light"
     },
     "output_type": "display_data"
    }
   ],
   "source": [
    "trigram_df.plot.barh(x='trigrams', y='count', title=\"Trigrams\", figsize=(10,8), color='red').invert_yaxis()"
   ]
  },
  {
   "cell_type": "markdown",
   "metadata": {},
   "source": [
    "---"
   ]
  },
  {
   "cell_type": "markdown",
   "metadata": {},
   "source": [
    "### List of lemmas"
   ]
  },
  {
   "cell_type": "code",
   "execution_count": 25,
   "metadata": {},
   "outputs": [],
   "source": [
    "lemma_list = [] \n",
    "for token in tokens:\n",
    "    lemma_list.append(token.lemma_)"
   ]
  },
  {
   "cell_type": "code",
   "execution_count": 26,
   "metadata": {},
   "outputs": [],
   "source": [
    "# You can add more stop words at any point then run the cells below again\n",
    "comments_stop_words = [u'-PRON-']\n",
    "# Loops through each new stopword added\n",
    "for word in comments_stop_words:\n",
    "    # Set lexeme to Spacy pipeline's vocab method where each word is passed in\n",
    "    lexeme = nlp.vocab[word]\n",
    "    # is_stop method used to add new word to the stopword list\n",
    "    lexeme.is_stop = True"
   ]
  },
  {
   "cell_type": "code",
   "execution_count": 27,
   "metadata": {},
   "outputs": [],
   "source": [
    "# Create list of word tokens after removing stopwords\n",
    "filtered_lemma =[] \n",
    "# Loop through token list\n",
    "for word in lemma_list:\n",
    "    # Call vocab \n",
    "    lexeme = nlp.vocab[word]\n",
    "    if lexeme.is_stop == False:\n",
    "        filtered_lemma.append(word)"
   ]
  },
  {
   "cell_type": "code",
   "execution_count": 28,
   "metadata": {},
   "outputs": [],
   "source": [
    "# Find most common entities\n",
    "lemma_frequency = Counter(filtered_lemma).most_common(20)\n",
    "lemma_df = pd.DataFrame(lemma_frequency, columns=['text', 'count'])"
   ]
  },
  {
   "cell_type": "code",
   "execution_count": 29,
   "metadata": {},
   "outputs": [
    {
     "data": {
      "image/png": "[encoded data removed]",
      "text/plain": [
       "<Figure size 720x576 with 1 Axes>"
      ]
     },
     "metadata": {
      "needs_background": "light"
     },
     "output_type": "display_data"
    }
   ],
   "source": [
    "lemma_df.plot.barh(x='text', y='count', title=\"Lemmas\", figsize=(10,8)).invert_yaxis()"
   ]
  },
  {
   "cell_type": "markdown",
   "metadata": {},
   "source": [
    "---"
   ]
  },
  {
   "cell_type": "markdown",
   "metadata": {},
   "source": [
    "---"
   ]
  },
  {
   "cell_type": "markdown",
   "metadata": {},
   "source": [
    "### Named Entity Recognition (NER) Categories"
   ]
  },
  {
   "cell_type": "markdown",
   "metadata": {},
   "source": [
    "**PERSON:**    People, including fictional. <br>\n",
    "**NORP:**\tNationalities or religious or political groups.<br>\n",
    "**FAC:**\tBuildings, airports, highways, bridges, etc.<br>\n",
    "**ORG:**\tCompanies, agencies, institutions, etc.<br>\n",
    "**GPE:**\tCountries, cities, states.<br>\n",
    "**LOC:**\tNon-GPE locations, mountain ranges, bodies of water.<br>\n",
    "**PRODUCT:**\tObjects, vehicles, foods, etc. (Not services.)<br>\n",
    "**EVENT:**\tNamed hurricanes, battles, wars, sports events, etc.<br>\n",
    "**WORK_OF_ART:**\tTitles of books, songs, etc.<br>\n",
    "**LAW:**\tNamed documents made into laws.<br>\n",
    "**LANGUAGE:**\tAny named language.<br>\n",
    "**DATE:**\tAbsolute or relative dates or periods.<br>\n",
    "**TIME:**\tTimes smaller than a day.<br>\n",
    "**PERCENT:**\tPercentage, including ”%“.<br>\n",
    "**MONEY:**\tMonetary values, including unit.<br>\n",
    "**QUANTITY:**\tMeasurements, as of weight or distance.<br>\n",
    "**ORDINAL:**\t“first”, “second”, etc.<br>\n",
    "**CARDINAL:**\tNumerals that do not fall under another type.<br>\n"
   ]
  },
  {
   "cell_type": "code",
   "execution_count": 30,
   "metadata": {},
   "outputs": [],
   "source": [
    "# Create a list of entities \n",
    "ents = list(tokens.ents)"
   ]
  },
  {
   "cell_type": "code",
   "execution_count": 31,
   "metadata": {},
   "outputs": [],
   "source": [
    "ents_list = []\n",
    "for x in ents:\n",
    "    ents_list.append(str(x))"
   ]
  },
  {
   "cell_type": "code",
   "execution_count": 32,
   "metadata": {},
   "outputs": [],
   "source": [
    "# You can add more stop words at any point then run the cells below again\n",
    "comments_stop_words = [u'-PRON-']\n",
    "# Loops through each new stopword added\n",
    "for word in comments_stop_words:\n",
    "    # Set lexeme to Spacy pipeline's vocab method where each word is passed in\n",
    "    lexeme = nlp.vocab[word]\n",
    "    # is_stop method used to add new word to the stopword list\n",
    "    lexeme.is_stop = True"
   ]
  },
  {
   "cell_type": "code",
   "execution_count": 33,
   "metadata": {},
   "outputs": [],
   "source": [
    "# Create list of word tokens after removing stopwords\n",
    "filtered_ents =[] \n",
    "# Loop through token list\n",
    "for word in ents_list:\n",
    "    # Call vocab \n",
    "    lexeme = nlp.vocab[word]\n",
    "    if lexeme.is_stop == False:\n",
    "        filtered_ents.append(word)"
   ]
  },
  {
   "cell_type": "code",
   "execution_count": 34,
   "metadata": {},
   "outputs": [],
   "source": [
    "# Find most common entities\n",
    "# items = [x.text for x in tokens.ents]\n",
    "entity_frequency = Counter(filtered_ents).most_common(20)\n",
    "entity_df = pd.DataFrame(entity_frequency, columns=['text', 'count'])"
   ]
  },
  {
   "cell_type": "code",
   "execution_count": 35,
   "metadata": {
    "scrolled": true
   },
   "outputs": [
    {
     "data": {
      "image/png": "[encoded data removed]",
      "text/plain": [
       "<Figure size 720x576 with 1 Axes>"
      ]
     },
     "metadata": {
      "needs_background": "light"
     },
     "output_type": "display_data"
    }
   ],
   "source": [
    "entity_df.plot.barh(x='text', y='count', title='Top Entities Frequency', figsize=(10,8)).invert_yaxis()"
   ]
  },
  {
   "cell_type": "markdown",
   "metadata": {},
   "source": [
    "### People"
   ]
  },
  {
   "cell_type": "code",
   "execution_count": 36,
   "metadata": {},
   "outputs": [],
   "source": [
    "# NER for people\n",
    "person_list = []\n",
    "\n",
    "for ent in tokens.ents:\n",
    "    if ent.label_ == 'PERSON':\n",
    "        person_list.append(ent.text)\n",
    "        \n",
    "person_counts = Counter(person_list).most_common(20)\n",
    "df_person = pd.DataFrame(person_counts, columns =['text', 'count'])"
   ]
  },
  {
   "cell_type": "markdown",
   "metadata": {},
   "source": [
    "Shugan Wen school is a high performing dual language k-8 in Manhattan"
   ]
  },
  {
   "cell_type": "code",
   "execution_count": 37,
   "metadata": {},
   "outputs": [
    {
     "data": {
      "image/png": "[encoded data removed]",
      "text/plain": [
       "<Figure size 720x576 with 1 Axes>"
      ]
     },
     "metadata": {
      "needs_background": "light"
     },
     "output_type": "display_data"
    }
   ],
   "source": [
    "df_person.plot.barh(x='text', y='count', title=\"People\", figsize=(10,8)).invert_yaxis()"
   ]
  },
  {
   "cell_type": "markdown",
   "metadata": {},
   "source": [
    "### Products"
   ]
  },
  {
   "cell_type": "code",
   "execution_count": 38,
   "metadata": {},
   "outputs": [],
   "source": [
    "# NER for products\n",
    "product_list = []\n",
    "\n",
    "for ent in tokens.ents:\n",
    "    if ent.label_ == 'PRODUCT':\n",
    "        product_list.append(ent.text)\n",
    "        \n",
    "product_counts = Counter(product_list).most_common(10)\n",
    "df_product = pd.DataFrame(product_counts, columns =['text', 'count'])"
   ]
  },
  {
   "cell_type": "code",
   "execution_count": 39,
   "metadata": {},
   "outputs": [
    {
     "data": {
      "image/png": "[encoded data removed]",
      "text/plain": [
       "<Figure size 720x576 with 1 Axes>"
      ]
     },
     "metadata": {
      "needs_background": "light"
     },
     "output_type": "display_data"
    }
   ],
   "source": [
    "df_product.plot.barh(x='text', y='count', title=\"Product\", figsize=(10,8)).invert_yaxis()"
   ]
  },
  {
   "cell_type": "markdown",
   "metadata": {},
   "source": [
    "### Nationalities or Religious/Political Groups"
   ]
  },
  {
   "cell_type": "markdown",
   "metadata": {},
   "source": [
    "There are no recognized nationalities or religious/political groups."
   ]
  },
  {
   "cell_type": "code",
   "execution_count": 40,
   "metadata": {},
   "outputs": [
    {
     "data": {
      "text/html": [
       "<div>\n",
       "<style scoped>\n",
       "    .dataframe tbody tr th:only-of-type {\n",
       "        vertical-align: middle;\n",
       "    }\n",
       "\n",
       "    .dataframe tbody tr th {\n",
       "        vertical-align: top;\n",
       "    }\n",
       "\n",
       "    .dataframe thead th {\n",
       "        text-align: right;\n",
       "    }\n",
       "</style>\n",
       "<table border=\"1\" class=\"dataframe\">\n",
       "  <thead>\n",
       "    <tr style=\"text-align: right;\">\n",
       "      <th></th>\n",
       "      <th>entity</th>\n",
       "      <th>count</th>\n",
       "    </tr>\n",
       "  </thead>\n",
       "  <tbody>\n",
       "    <tr>\n",
       "      <th>0</th>\n",
       "      <td>spanish</td>\n",
       "      <td>150</td>\n",
       "    </tr>\n",
       "    <tr>\n",
       "      <th>1</th>\n",
       "      <td>french</td>\n",
       "      <td>102</td>\n",
       "    </tr>\n",
       "    <tr>\n",
       "      <th>2</th>\n",
       "      <td>chinese</td>\n",
       "      <td>46</td>\n",
       "    </tr>\n",
       "    <tr>\n",
       "      <th>3</th>\n",
       "      <td>american</td>\n",
       "      <td>37</td>\n",
       "    </tr>\n",
       "    <tr>\n",
       "      <th>4</th>\n",
       "      <td>hispanic</td>\n",
       "      <td>27</td>\n",
       "    </tr>\n",
       "    <tr>\n",
       "      <th>5</th>\n",
       "      <td>herea</td>\n",
       "      <td>17</td>\n",
       "    </tr>\n",
       "    <tr>\n",
       "      <th>6</th>\n",
       "      <td>asians</td>\n",
       "      <td>16</td>\n",
       "    </tr>\n",
       "    <tr>\n",
       "      <th>7</th>\n",
       "      <td>asian</td>\n",
       "      <td>16</td>\n",
       "    </tr>\n",
       "    <tr>\n",
       "      <th>8</th>\n",
       "      <td>latino</td>\n",
       "      <td>16</td>\n",
       "    </tr>\n",
       "    <tr>\n",
       "      <th>9</th>\n",
       "      <td>yearold</td>\n",
       "      <td>15</td>\n",
       "    </tr>\n",
       "    <tr>\n",
       "      <th>10</th>\n",
       "      <td>english</td>\n",
       "      <td>12</td>\n",
       "    </tr>\n",
       "    <tr>\n",
       "      <th>11</th>\n",
       "      <td>african</td>\n",
       "      <td>11</td>\n",
       "    </tr>\n",
       "    <tr>\n",
       "      <th>12</th>\n",
       "      <td>latin</td>\n",
       "      <td>11</td>\n",
       "    </tr>\n",
       "    <tr>\n",
       "      <th>13</th>\n",
       "      <td>russian</td>\n",
       "      <td>9</td>\n",
       "    </tr>\n",
       "    <tr>\n",
       "      <th>14</th>\n",
       "      <td>thgrade</td>\n",
       "      <td>8</td>\n",
       "    </tr>\n",
       "    <tr>\n",
       "      <th>15</th>\n",
       "      <td>jewish</td>\n",
       "      <td>7</td>\n",
       "    </tr>\n",
       "    <tr>\n",
       "      <th>16</th>\n",
       "      <td>catholic</td>\n",
       "      <td>7</td>\n",
       "    </tr>\n",
       "    <tr>\n",
       "      <th>17</th>\n",
       "      <td>covid</td>\n",
       "      <td>7</td>\n",
       "    </tr>\n",
       "    <tr>\n",
       "      <th>18</th>\n",
       "      <td>italian</td>\n",
       "      <td>7</td>\n",
       "    </tr>\n",
       "    <tr>\n",
       "      <th>19</th>\n",
       "      <td>hispanics</td>\n",
       "      <td>6</td>\n",
       "    </tr>\n",
       "  </tbody>\n",
       "</table>\n",
       "</div>"
      ],
      "text/plain": [
       "       entity  count\n",
       "0     spanish    150\n",
       "1      french    102\n",
       "2     chinese     46\n",
       "3    american     37\n",
       "4    hispanic     27\n",
       "5       herea     17\n",
       "6      asians     16\n",
       "7       asian     16\n",
       "8      latino     16\n",
       "9     yearold     15\n",
       "10    english     12\n",
       "11    african     11\n",
       "12      latin     11\n",
       "13    russian      9\n",
       "14    thgrade      8\n",
       "15     jewish      7\n",
       "16   catholic      7\n",
       "17      covid      7\n",
       "18    italian      7\n",
       "19  hispanics      6"
      ]
     },
     "execution_count": 40,
     "metadata": {},
     "output_type": "execute_result"
    }
   ],
   "source": [
    "# NER for nationalities or religious or political groups \n",
    "norp_list = []\n",
    "\n",
    "for ent in tokens.ents:\n",
    "    if ent.label_ == 'NORP':\n",
    "        norp_list.append(ent.text)\n",
    "        \n",
    "norp_counts = Counter(norp_list).most_common(20)\n",
    "df_norp = pd.DataFrame(norp_counts, columns =['entity', 'count'])\n",
    "df_norp"
   ]
  },
  {
   "cell_type": "markdown",
   "metadata": {},
   "source": [
    "### Event"
   ]
  },
  {
   "cell_type": "code",
   "execution_count": 41,
   "metadata": {},
   "outputs": [],
   "source": [
    "# NER for nationalities or religious or political groups \n",
    "event_list = []\n",
    "\n",
    "for ent in tokens.ents:\n",
    "    if ent.label_ == 'EVENT':\n",
    "        event_list.append(ent.text)\n",
    "        \n",
    "event_counts = Counter(event_list).most_common(20)\n",
    "df_event = pd.DataFrame(event_counts, columns =['entity', 'count'])"
   ]
  },
  {
   "cell_type": "code",
   "execution_count": 42,
   "metadata": {},
   "outputs": [
    {
     "data": {
      "text/html": [
       "<div>\n",
       "<style scoped>\n",
       "    .dataframe tbody tr th:only-of-type {\n",
       "        vertical-align: middle;\n",
       "    }\n",
       "\n",
       "    .dataframe tbody tr th {\n",
       "        vertical-align: top;\n",
       "    }\n",
       "\n",
       "    .dataframe thead th {\n",
       "        text-align: right;\n",
       "    }\n",
       "</style>\n",
       "<table border=\"1\" class=\"dataframe\">\n",
       "  <thead>\n",
       "    <tr style=\"text-align: right;\">\n",
       "      <th></th>\n",
       "      <th>entity</th>\n",
       "      <th>count</th>\n",
       "    </tr>\n",
       "  </thead>\n",
       "  <tbody>\n",
       "    <tr>\n",
       "      <th>0</th>\n",
       "      <td>the  school year</td>\n",
       "      <td>23</td>\n",
       "    </tr>\n",
       "    <tr>\n",
       "      <th>1</th>\n",
       "      <td>the  academic year</td>\n",
       "      <td>3</td>\n",
       "    </tr>\n",
       "    <tr>\n",
       "      <th>2</th>\n",
       "      <td>the th grade year</td>\n",
       "      <td>3</td>\n",
       "    </tr>\n",
       "    <tr>\n",
       "      <th>3</th>\n",
       "      <td>hurricane sandy</td>\n",
       "      <td>3</td>\n",
       "    </tr>\n",
       "    <tr>\n",
       "      <th>4</th>\n",
       "      <td>my th grade year</td>\n",
       "      <td>2</td>\n",
       "    </tr>\n",
       "    <tr>\n",
       "      <th>5</th>\n",
       "      <td>the vietnam war</td>\n",
       "      <td>2</td>\n",
       "    </tr>\n",
       "    <tr>\n",
       "      <th>6</th>\n",
       "      <td>the korean war</td>\n",
       "      <td>2</td>\n",
       "    </tr>\n",
       "    <tr>\n",
       "      <th>7</th>\n",
       "      <td>olympics</td>\n",
       "      <td>2</td>\n",
       "    </tr>\n",
       "    <tr>\n",
       "      <th>8</th>\n",
       "      <td>holiday fair spring</td>\n",
       "      <td>1</td>\n",
       "    </tr>\n",
       "    <tr>\n",
       "      <th>9</th>\n",
       "      <td>the  nschool year</td>\n",
       "      <td>1</td>\n",
       "    </tr>\n",
       "    <tr>\n",
       "      <th>10</th>\n",
       "      <td>the th grade ict class</td>\n",
       "      <td>1</td>\n",
       "    </tr>\n",
       "    <tr>\n",
       "      <th>11</th>\n",
       "      <td>nlorena camacho emilia</td>\n",
       "      <td>1</td>\n",
       "    </tr>\n",
       "    <tr>\n",
       "      <th>12</th>\n",
       "      <td>the chinese new year</td>\n",
       "      <td>1</td>\n",
       "    </tr>\n",
       "    <tr>\n",
       "      <th>13</th>\n",
       "      <td>the th graders</td>\n",
       "      <td>1</td>\n",
       "    </tr>\n",
       "    <tr>\n",
       "      <th>14</th>\n",
       "      <td>spanish ii</td>\n",
       "      <td>1</td>\n",
       "    </tr>\n",
       "    <tr>\n",
       "      <th>15</th>\n",
       "      <td>the th annual festival shubert foundation high...</td>\n",
       "      <td>1</td>\n",
       "    </tr>\n",
       "    <tr>\n",
       "      <th>16</th>\n",
       "      <td>mid marchnnthank</td>\n",
       "      <td>1</td>\n",
       "    </tr>\n",
       "    <tr>\n",
       "      <th>17</th>\n",
       "      <td>the american revolution</td>\n",
       "      <td>1</td>\n",
       "    </tr>\n",
       "    <tr>\n",
       "      <th>18</th>\n",
       "      <td>kst</td>\n",
       "      <td>1</td>\n",
       "    </tr>\n",
       "    <tr>\n",
       "      <th>19</th>\n",
       "      <td>my th grade year student</td>\n",
       "      <td>1</td>\n",
       "    </tr>\n",
       "  </tbody>\n",
       "</table>\n",
       "</div>"
      ],
      "text/plain": [
       "                                               entity  count\n",
       "0                                    the  school year     23\n",
       "1                                  the  academic year      3\n",
       "2                                   the th grade year      3\n",
       "3                                     hurricane sandy      3\n",
       "4                                    my th grade year      2\n",
       "5                                     the vietnam war      2\n",
       "6                                      the korean war      2\n",
       "7                                            olympics      2\n",
       "8                                 holiday fair spring      1\n",
       "9                                   the  nschool year      1\n",
       "10                             the th grade ict class      1\n",
       "11                             nlorena camacho emilia      1\n",
       "12                               the chinese new year      1\n",
       "13                                     the th graders      1\n",
       "14                                         spanish ii      1\n",
       "15  the th annual festival shubert foundation high...      1\n",
       "16                                   mid marchnnthank      1\n",
       "17                            the american revolution      1\n",
       "18                                                kst      1\n",
       "19                           my th grade year student      1"
      ]
     },
     "execution_count": 42,
     "metadata": {},
     "output_type": "execute_result"
    }
   ],
   "source": [
    "df_event"
   ]
  },
  {
   "cell_type": "markdown",
   "metadata": {},
   "source": [
    "### Work of Art"
   ]
  },
  {
   "cell_type": "code",
   "execution_count": 43,
   "metadata": {},
   "outputs": [],
   "source": [
    "# NER for nationalities or religious or political groups \n",
    "woa_list = []\n",
    "\n",
    "for ent in tokens.ents:\n",
    "    if ent.label_ == 'WORK_OF_ART':\n",
    "        woa_list.append(ent.text)\n",
    "        \n",
    "woa_counts = Counter(woa_list).most_common(20)\n",
    "df_woa = pd.DataFrame(woa_counts, columns =['entity', 'count'])"
   ]
  },
  {
   "cell_type": "code",
   "execution_count": 44,
   "metadata": {},
   "outputs": [
    {
     "data": {
      "text/html": [
       "<div>\n",
       "<style scoped>\n",
       "    .dataframe tbody tr th:only-of-type {\n",
       "        vertical-align: middle;\n",
       "    }\n",
       "\n",
       "    .dataframe tbody tr th {\n",
       "        vertical-align: top;\n",
       "    }\n",
       "\n",
       "    .dataframe thead th {\n",
       "        text-align: right;\n",
       "    }\n",
       "</style>\n",
       "<table border=\"1\" class=\"dataframe\">\n",
       "  <thead>\n",
       "    <tr style=\"text-align: right;\">\n",
       "      <th></th>\n",
       "      <th>entity</th>\n",
       "      <th>count</th>\n",
       "    </tr>\n",
       "  </thead>\n",
       "  <tbody>\n",
       "    <tr>\n",
       "      <th>0</th>\n",
       "      <td>padlet haiku</td>\n",
       "      <td>2</td>\n",
       "    </tr>\n",
       "    <tr>\n",
       "      <th>1</th>\n",
       "      <td>bible</td>\n",
       "      <td>1</td>\n",
       "    </tr>\n",
       "    <tr>\n",
       "      <th>2</th>\n",
       "      <td>chessintheschools grand prix</td>\n",
       "      <td>1</td>\n",
       "    </tr>\n",
       "    <tr>\n",
       "      <th>3</th>\n",
       "      <td>esl</td>\n",
       "      <td>1</td>\n",
       "    </tr>\n",
       "    <tr>\n",
       "      <th>4</th>\n",
       "      <td>curriculumn</td>\n",
       "      <td>1</td>\n",
       "    </tr>\n",
       "    <tr>\n",
       "      <th>5</th>\n",
       "      <td>booker t washington</td>\n",
       "      <td>1</td>\n",
       "    </tr>\n",
       "    <tr>\n",
       "      <th>6</th>\n",
       "      <td>booker t</td>\n",
       "      <td>1</td>\n",
       "    </tr>\n",
       "    <tr>\n",
       "      <th>7</th>\n",
       "      <td>the s  s doowop group</td>\n",
       "      <td>1</td>\n",
       "    </tr>\n",
       "    <tr>\n",
       "      <th>8</th>\n",
       "      <td>a hrefhttpswwwchalkbeatorgpostsnywhatnewyorkci...</td>\n",
       "      <td>1</td>\n",
       "    </tr>\n",
       "    <tr>\n",
       "      <th>9</th>\n",
       "      <td>the elizabeth rohatyn</td>\n",
       "      <td>1</td>\n",
       "    </tr>\n",
       "    <tr>\n",
       "      <th>10</th>\n",
       "      <td>the billie jean king youth leadership award</td>\n",
       "      <td>1</td>\n",
       "    </tr>\n",
       "    <tr>\n",
       "      <th>11</th>\n",
       "      <td>psis s participation in a big brother big sist...</td>\n",
       "      <td>1</td>\n",
       "    </tr>\n",
       "    <tr>\n",
       "      <th>12</th>\n",
       "      <td>ira victorni</td>\n",
       "      <td>1</td>\n",
       "    </tr>\n",
       "    <tr>\n",
       "      <th>13</th>\n",
       "      <td>a hrefhttpwwwdnainfocomnewyorkfortgreeneprinci...</td>\n",
       "      <td>1</td>\n",
       "    </tr>\n",
       "    <tr>\n",
       "      <th>14</th>\n",
       "      <td>nnuredhook</td>\n",
       "      <td>1</td>\n",
       "    </tr>\n",
       "    <tr>\n",
       "      <th>15</th>\n",
       "      <td>reportsa</td>\n",
       "      <td>1</td>\n",
       "    </tr>\n",
       "    <tr>\n",
       "      <th>16</th>\n",
       "      <td>bcs th grade i</td>\n",
       "      <td>1</td>\n",
       "    </tr>\n",
       "    <tr>\n",
       "      <th>17</th>\n",
       "      <td>ronald e mcnair schoolnnps</td>\n",
       "      <td>1</td>\n",
       "    </tr>\n",
       "    <tr>\n",
       "      <th>18</th>\n",
       "      <td>a hrefhttpschoolsnycgovofficesmediarelationsne...</td>\n",
       "      <td>1</td>\n",
       "    </tr>\n",
       "    <tr>\n",
       "      <th>19</th>\n",
       "      <td>the th  th grade ps  wasis</td>\n",
       "      <td>1</td>\n",
       "    </tr>\n",
       "  </tbody>\n",
       "</table>\n",
       "</div>"
      ],
      "text/plain": [
       "                                               entity  count\n",
       "0                                        padlet haiku      2\n",
       "1                                               bible      1\n",
       "2                        chessintheschools grand prix      1\n",
       "3                                                 esl      1\n",
       "4                                       curriculumn        1\n",
       "5                                 booker t washington      1\n",
       "6                                            booker t      1\n",
       "7                               the s  s doowop group      1\n",
       "8   a hrefhttpswwwchalkbeatorgpostsnywhatnewyorkci...      1\n",
       "9                               the elizabeth rohatyn      1\n",
       "10        the billie jean king youth leadership award      1\n",
       "11  psis s participation in a big brother big sist...      1\n",
       "12                                       ira victorni      1\n",
       "13  a hrefhttpwwwdnainfocomnewyorkfortgreeneprinci...      1\n",
       "14                                         nnuredhook      1\n",
       "15                                           reportsa      1\n",
       "16                                     bcs th grade i      1\n",
       "17                       ronald e mcnair schoolnnps        1\n",
       "18  a hrefhttpschoolsnycgovofficesmediarelationsne...      1\n",
       "19                         the th  th grade ps  wasis      1"
      ]
     },
     "execution_count": 44,
     "metadata": {},
     "output_type": "execute_result"
    }
   ],
   "source": [
    "df_woa"
   ]
  },
  {
   "cell_type": "markdown",
   "metadata": {},
   "source": [
    "### Language"
   ]
  },
  {
   "cell_type": "code",
   "execution_count": 45,
   "metadata": {},
   "outputs": [],
   "source": [
    "# NER for nationalities or religious or political groups \n",
    "lang_list = []\n",
    "\n",
    "for ent in tokens.ents:\n",
    "    if ent.label_ == 'LANGUAGE':\n",
    "        lang_list.append(ent.text)\n",
    "        \n",
    "lang_counts = Counter(lang_list).most_common(20)\n",
    "df_lang = pd.DataFrame(lang_counts, columns =['entities', 'count'])"
   ]
  },
  {
   "cell_type": "code",
   "execution_count": 46,
   "metadata": {},
   "outputs": [
    {
     "data": {
      "image/png": "[encoded data removed]",
      "text/plain": [
       "<Figure size 720x576 with 1 Axes>"
      ]
     },
     "metadata": {
      "needs_background": "light"
     },
     "output_type": "display_data"
    }
   ],
   "source": [
    "df_lang.plot.barh(x='entities', y='count', title=\"Language\", figsize=(10,8)).invert_yaxis()"
   ]
  },
  {
   "cell_type": "markdown",
   "metadata": {},
   "source": [
    "---"
   ]
  },
  {
   "cell_type": "markdown",
   "metadata": {},
   "source": [
    "### Noun Chunks"
   ]
  },
  {
   "cell_type": "code",
   "execution_count": 47,
   "metadata": {},
   "outputs": [],
   "source": [
    "# Find most common noun chunks\n",
    "noun_chunks = [x.text for x in tokens.noun_chunks]\n",
    "noun_chunks_frequency = Counter(noun_chunks).most_common(20)\n",
    "noun_chunks_df = pd.DataFrame(noun_chunks_frequency, columns=['text', 'count'])"
   ]
  },
  {
   "cell_type": "code",
   "execution_count": 48,
   "metadata": {},
   "outputs": [
    {
     "data": {
      "text/html": [
       "<div>\n",
       "<style scoped>\n",
       "    .dataframe tbody tr th:only-of-type {\n",
       "        vertical-align: middle;\n",
       "    }\n",
       "\n",
       "    .dataframe tbody tr th {\n",
       "        vertical-align: top;\n",
       "    }\n",
       "\n",
       "    .dataframe thead th {\n",
       "        text-align: right;\n",
       "    }\n",
       "</style>\n",
       "<table border=\"1\" class=\"dataframe\">\n",
       "  <thead>\n",
       "    <tr style=\"text-align: right;\">\n",
       "      <th></th>\n",
       "      <th>text</th>\n",
       "      <th>count</th>\n",
       "    </tr>\n",
       "  </thead>\n",
       "  <tbody>\n",
       "    <tr>\n",
       "      <th>0</th>\n",
       "      <td>i</td>\n",
       "      <td>11738</td>\n",
       "    </tr>\n",
       "    <tr>\n",
       "      <th>1</th>\n",
       "      <td>you</td>\n",
       "      <td>4818</td>\n",
       "    </tr>\n",
       "    <tr>\n",
       "      <th>2</th>\n",
       "      <td>it</td>\n",
       "      <td>4730</td>\n",
       "    </tr>\n",
       "    <tr>\n",
       "      <th>3</th>\n",
       "      <td>they</td>\n",
       "      <td>4224</td>\n",
       "    </tr>\n",
       "    <tr>\n",
       "      <th>4</th>\n",
       "      <td>the school</td>\n",
       "      <td>3253</td>\n",
       "    </tr>\n",
       "    <tr>\n",
       "      <th>5</th>\n",
       "      <td>we</td>\n",
       "      <td>3030</td>\n",
       "    </tr>\n",
       "    <tr>\n",
       "      <th>6</th>\n",
       "      <td>this school</td>\n",
       "      <td>2689</td>\n",
       "    </tr>\n",
       "    <tr>\n",
       "      <th>7</th>\n",
       "      <td>she</td>\n",
       "      <td>2151</td>\n",
       "    </tr>\n",
       "    <tr>\n",
       "      <th>8</th>\n",
       "      <td>who</td>\n",
       "      <td>2090</td>\n",
       "    </tr>\n",
       "    <tr>\n",
       "      <th>9</th>\n",
       "      <td>he</td>\n",
       "      <td>1686</td>\n",
       "    </tr>\n",
       "    <tr>\n",
       "      <th>10</th>\n",
       "      <td>ps</td>\n",
       "      <td>1635</td>\n",
       "    </tr>\n",
       "    <tr>\n",
       "      <th>11</th>\n",
       "      <td>students</td>\n",
       "      <td>1545</td>\n",
       "    </tr>\n",
       "    <tr>\n",
       "      <th>12</th>\n",
       "      <td>me</td>\n",
       "      <td>1508</td>\n",
       "    </tr>\n",
       "    <tr>\n",
       "      <th>13</th>\n",
       "      <td>what</td>\n",
       "      <td>1290</td>\n",
       "    </tr>\n",
       "    <tr>\n",
       "      <th>14</th>\n",
       "      <td>the teachers</td>\n",
       "      <td>1121</td>\n",
       "    </tr>\n",
       "    <tr>\n",
       "      <th>15</th>\n",
       "      <td>them</td>\n",
       "      <td>1105</td>\n",
       "    </tr>\n",
       "    <tr>\n",
       "      <th>16</th>\n",
       "      <td>parents</td>\n",
       "      <td>1036</td>\n",
       "    </tr>\n",
       "    <tr>\n",
       "      <th>17</th>\n",
       "      <td>the students</td>\n",
       "      <td>788</td>\n",
       "    </tr>\n",
       "    <tr>\n",
       "      <th>18</th>\n",
       "      <td>my son</td>\n",
       "      <td>787</td>\n",
       "    </tr>\n",
       "    <tr>\n",
       "      <th>19</th>\n",
       "      <td>teachers</td>\n",
       "      <td>786</td>\n",
       "    </tr>\n",
       "  </tbody>\n",
       "</table>\n",
       "</div>"
      ],
      "text/plain": [
       "            text  count\n",
       "0              i  11738\n",
       "1            you   4818\n",
       "2             it   4730\n",
       "3           they   4224\n",
       "4     the school   3253\n",
       "5             we   3030\n",
       "6    this school   2689\n",
       "7            she   2151\n",
       "8            who   2090\n",
       "9             he   1686\n",
       "10            ps   1635\n",
       "11      students   1545\n",
       "12            me   1508\n",
       "13          what   1290\n",
       "14  the teachers   1121\n",
       "15          them   1105\n",
       "16       parents   1036\n",
       "17  the students    788\n",
       "18        my son    787\n",
       "19      teachers    786"
      ]
     },
     "execution_count": 48,
     "metadata": {},
     "output_type": "execute_result"
    }
   ],
   "source": [
    "noun_chunks_df"
   ]
  },
  {
   "cell_type": "markdown",
   "metadata": {},
   "source": [
    "---"
   ]
  },
  {
   "cell_type": "markdown",
   "metadata": {},
   "source": [
    "---"
   ]
  },
  {
   "cell_type": "markdown",
   "metadata": {},
   "source": [
    "### Sentence Boundaries"
   ]
  },
  {
   "cell_type": "code",
   "execution_count": 49,
   "metadata": {},
   "outputs": [],
   "source": [
    "# Sentence boundary\n",
    "sentence = [x.root.text for x in tokens.sents]\n",
    "sentence_frequency = Counter(sentence).most_common(20)\n",
    "sentence_df = pd.DataFrame(sentence_frequency, columns=['text', 'count'])"
   ]
  },
  {
   "cell_type": "code",
   "execution_count": 50,
   "metadata": {},
   "outputs": [
    {
     "data": {
      "text/html": [
       "<div>\n",
       "<style scoped>\n",
       "    .dataframe tbody tr th:only-of-type {\n",
       "        vertical-align: middle;\n",
       "    }\n",
       "\n",
       "    .dataframe tbody tr th {\n",
       "        vertical-align: top;\n",
       "    }\n",
       "\n",
       "    .dataframe thead th {\n",
       "        text-align: right;\n",
       "    }\n",
       "</style>\n",
       "<table border=\"1\" class=\"dataframe\">\n",
       "  <thead>\n",
       "    <tr style=\"text-align: right;\">\n",
       "      <th></th>\n",
       "      <th>text</th>\n",
       "      <th>count</th>\n",
       "    </tr>\n",
       "  </thead>\n",
       "  <tbody>\n",
       "    <tr>\n",
       "      <th>0</th>\n",
       "      <td>is</td>\n",
       "      <td>4605</td>\n",
       "    </tr>\n",
       "    <tr>\n",
       "      <th>1</th>\n",
       "      <td>are</td>\n",
       "      <td>1600</td>\n",
       "    </tr>\n",
       "    <tr>\n",
       "      <th>2</th>\n",
       "      <td>was</td>\n",
       "      <td>1312</td>\n",
       "    </tr>\n",
       "    <tr>\n",
       "      <th>3</th>\n",
       "      <td>have</td>\n",
       "      <td>892</td>\n",
       "    </tr>\n",
       "    <tr>\n",
       "      <th>4</th>\n",
       "      <td>am</td>\n",
       "      <td>509</td>\n",
       "    </tr>\n",
       "    <tr>\n",
       "      <th>5</th>\n",
       "      <td>had</td>\n",
       "      <td>474</td>\n",
       "    </tr>\n",
       "    <tr>\n",
       "      <th>6</th>\n",
       "      <td>be</td>\n",
       "      <td>458</td>\n",
       "    </tr>\n",
       "    <tr>\n",
       "      <th>7</th>\n",
       "      <td>m</td>\n",
       "      <td>431</td>\n",
       "    </tr>\n",
       "    <tr>\n",
       "      <th>8</th>\n",
       "      <td>know</td>\n",
       "      <td>430</td>\n",
       "    </tr>\n",
       "    <tr>\n",
       "      <th>9</th>\n",
       "      <td>think</td>\n",
       "      <td>418</td>\n",
       "    </tr>\n",
       "    <tr>\n",
       "      <th>10</th>\n",
       "      <td>been</td>\n",
       "      <td>395</td>\n",
       "    </tr>\n",
       "    <tr>\n",
       "      <th>11</th>\n",
       "      <td>has</td>\n",
       "      <td>384</td>\n",
       "    </tr>\n",
       "    <tr>\n",
       "      <th>12</th>\n",
       "      <td>s</td>\n",
       "      <td>325</td>\n",
       "    </tr>\n",
       "    <tr>\n",
       "      <th>13</th>\n",
       "      <td>were</td>\n",
       "      <td>301</td>\n",
       "    </tr>\n",
       "    <tr>\n",
       "      <th>14</th>\n",
       "      <td>say</td>\n",
       "      <td>277</td>\n",
       "    </tr>\n",
       "    <tr>\n",
       "      <th>15</th>\n",
       "      <td>love</td>\n",
       "      <td>266</td>\n",
       "    </tr>\n",
       "    <tr>\n",
       "      <th>16</th>\n",
       "      <td>read</td>\n",
       "      <td>261</td>\n",
       "    </tr>\n",
       "    <tr>\n",
       "      <th>17</th>\n",
       "      <td>feel</td>\n",
       "      <td>248</td>\n",
       "    </tr>\n",
       "    <tr>\n",
       "      <th>18</th>\n",
       "      <td>said</td>\n",
       "      <td>203</td>\n",
       "    </tr>\n",
       "    <tr>\n",
       "      <th>19</th>\n",
       "      <td>get</td>\n",
       "      <td>203</td>\n",
       "    </tr>\n",
       "  </tbody>\n",
       "</table>\n",
       "</div>"
      ],
      "text/plain": [
       "     text  count\n",
       "0      is   4605\n",
       "1     are   1600\n",
       "2     was   1312\n",
       "3    have    892\n",
       "4      am    509\n",
       "5     had    474\n",
       "6      be    458\n",
       "7       m    431\n",
       "8    know    430\n",
       "9   think    418\n",
       "10   been    395\n",
       "11    has    384\n",
       "12      s    325\n",
       "13   were    301\n",
       "14    say    277\n",
       "15   love    266\n",
       "16   read    261\n",
       "17   feel    248\n",
       "18   said    203\n",
       "19    get    203"
      ]
     },
     "execution_count": 50,
     "metadata": {},
     "output_type": "execute_result"
    }
   ],
   "source": [
    "sentence_df"
   ]
  }
 ],
 "metadata": {
  "kernelspec": {
   "display_name": "Python 3",
   "language": "python",
   "name": "python3"
  },
  "language_info": {
   "codemirror_mode": {
    "name": "ipython",
    "version": 3
   },
   "file_extension": ".py",
   "mimetype": "text/x-python",
   "name": "python",
   "nbconvert_exporter": "python",
   "pygments_lexer": "ipython3",
   "version": "3.7.7"
  }
 },
 "nbformat": 4,
 "nbformat_minor": 4
}
