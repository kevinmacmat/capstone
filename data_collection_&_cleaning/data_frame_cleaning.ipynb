{
 "cells": [
  {
   "cell_type": "markdown",
   "metadata": {},
   "source": [
    "# Data Frame Cleaning Notebook"
   ]
  },
  {
   "cell_type": "markdown",
   "metadata": {},
   "source": [
    "\"School Quality Reports capture important details about student achievement and the learning environment of each school. These reports are based on information from school evaluations, student assessments and other scores. It also utilizes feedback from students, teachers, and parents received through the annual NYC School Survey.\" (https://infohub.nyced.org/reports/school-quality/school-quality-reports-and-resources)"
   ]
  },
  {
   "cell_type": "markdown",
   "metadata": {},
   "source": [
    "---"
   ]
  },
  {
   "cell_type": "markdown",
   "metadata": {},
   "source": [
    "### Import Modules and Read in Data"
   ]
  },
  {
   "cell_type": "code",
   "execution_count": 2,
   "metadata": {},
   "outputs": [
    {
     "ename": "ModuleNotFoundError",
     "evalue": "No module named 'project_functions'",
     "output_type": "error",
     "traceback": [
      "\u001b[0;31m---------------------------------------------------------------------------\u001b[0m",
      "\u001b[0;31mModuleNotFoundError\u001b[0m                       Traceback (most recent call last)",
      "\u001b[0;32m<ipython-input-2-73046d7fdf96>\u001b[0m in \u001b[0;36m<module>\u001b[0;34m\u001b[0m\n\u001b[1;32m      1\u001b[0m \u001b[0;32mimport\u001b[0m \u001b[0mpandas\u001b[0m \u001b[0;32mas\u001b[0m \u001b[0mpd\u001b[0m\u001b[0;34m\u001b[0m\u001b[0;34m\u001b[0m\u001b[0m\n\u001b[1;32m      2\u001b[0m \u001b[0;32mimport\u001b[0m \u001b[0mnumpy\u001b[0m \u001b[0;32mas\u001b[0m \u001b[0mnp\u001b[0m\u001b[0;34m\u001b[0m\u001b[0;34m\u001b[0m\u001b[0m\n\u001b[0;32m----> 3\u001b[0;31m \u001b[0;32mfrom\u001b[0m \u001b[0mproject_functions\u001b[0m \u001b[0;32mimport\u001b[0m \u001b[0;34m*\u001b[0m\u001b[0;34m\u001b[0m\u001b[0;34m\u001b[0m\u001b[0m\n\u001b[0m",
      "\u001b[0;31mModuleNotFoundError\u001b[0m: No module named 'project_functions'"
     ]
    }
   ],
   "source": [
    "import pandas as pd\n",
    "import numpy as np\n",
    "from project_functions import *"
   ]
  },
  {
   "cell_type": "code",
   "execution_count": 2,
   "metadata": {},
   "outputs": [],
   "source": [
    "df = pd.read_excel('csv/201819_ems_sqr_results.xlsx', index_col=2)"
   ]
  },
  {
   "cell_type": "markdown",
   "metadata": {},
   "source": [
    "---"
   ]
  },
  {
   "cell_type": "markdown",
   "metadata": {},
   "source": [
    "### Clean Data Frame"
   ]
  },
  {
   "cell_type": "markdown",
   "metadata": {},
   "source": [
    "Because there are many NaN values surrounding the useful content in the dataframe the NaN-padding around dataframe is removed in the cell below."
   ]
  },
  {
   "cell_type": "code",
   "execution_count": 3,
   "metadata": {},
   "outputs": [],
   "source": [
    "# Drop columns by name\n",
    "df = df.drop(['Unnamed: 0', 'Unnamed: 1'], axis=1)\n",
    "# Drop rows by index\n",
    "df = df.reset_index(drop=True)\n",
    "df = df.drop([0,1,3])\n",
    "# Push up rows \n",
    "df = pd.DataFrame(df.values[1:], columns=df.iloc[0])\n",
    "df = df.reset_index(drop=True)"
   ]
  },
  {
   "cell_type": "markdown",
   "metadata": {},
   "source": [
    "The cell below removes charter schools from data frame. Charter schools were not included because they tend to have more missing values as these schools have the option to follow a different procedure and rating system pending approval by proper DOE authorities. "
   ]
  },
  {
   "cell_type": "code",
   "execution_count": 4,
   "metadata": {},
   "outputs": [],
   "source": [
    "df = df.iloc[:-185,:]"
   ]
  },
  {
   "cell_type": "markdown",
   "metadata": {},
   "source": [
    "Columns with too many missing values    "
   ]
  },
  {
   "cell_type": "code",
   "execution_count": 5,
   "metadata": {},
   "outputs": [],
   "source": [
    "df = df.drop(columns=[\n",
    "                 # Following columns missing 252 values\n",
    "                 'Quality Review - How safe and inclusive is the school while supporting social-emotional growth',\n",
    "                 'Quality Review - How well does the school allocate and manage resources',\n",
    "                 'Quality Review - How well does the school identify, track, and meet its goals',\n",
    "                 'Quality Review - How thoughtful is the school s approach to teacher development and evaluation',\n",
    "                 'Quality Review - How well are school decisions evaluated and adjusted',\n",
    "                 # Following columns missing 770 and 771 values \n",
    "                 'Average Incoming ELA Proficiency (Based on 5th Grade)',\n",
    "                 'Average Incoming Math Proficiency (Based on 5th Grade)',\n",
    "])"
   ]
  },
  {
   "cell_type": "markdown",
   "metadata": {},
   "source": [
    "Imported function to check columns for NaN values"
   ]
  },
  {
   "cell_type": "code",
   "execution_count": 7,
   "metadata": {},
   "outputs": [
    {
     "name": "stdout",
     "output_type": "stream",
     "text": [
      "Student Attendance Rate contains 0 missing values.\n"
     ]
    }
   ],
   "source": [
    "nanCheck(35)"
   ]
  },
  {
   "cell_type": "markdown",
   "metadata": {},
   "source": [
    "Drop and verify that there are no NaN values"
   ]
  },
  {
   "cell_type": "code",
   "execution_count": 8,
   "metadata": {},
   "outputs": [],
   "source": [
    "df = df.dropna()"
   ]
  },
  {
   "cell_type": "code",
   "execution_count": 9,
   "metadata": {},
   "outputs": [
    {
     "data": {
      "text/plain": [
       "False"
      ]
     },
     "execution_count": 9,
     "metadata": {},
     "output_type": "execute_result"
    }
   ],
   "source": [
    "df.isnull().values.any()"
   ]
  },
  {
   "cell_type": "code",
   "execution_count": 10,
   "metadata": {},
   "outputs": [
    {
     "name": "stdout",
     "output_type": "stream",
     "text": [
      "DF Rows: 1076\n",
      "DF Columns: 38\n"
     ]
    }
   ],
   "source": [
    "print('DF Rows: ' + str(df.shape[0]))\n",
    "print('DF Columns: ' + str(df.shape[1]))"
   ]
  },
  {
   "cell_type": "markdown",
   "metadata": {},
   "source": [
    "Rename columns"
   ]
  },
  {
   "cell_type": "code",
   "execution_count": 11,
   "metadata": {},
   "outputs": [],
   "source": [
    "df = df.rename(columns={'DBN': 'dbn', \n",
    "                        'School Name': 'school_name', \n",
    "                        'School Type': 'school_type',\n",
    "                        'Enrollment': 'enrollment',\n",
    "                        'Rigorous Instruction Rating': 'rigor_instruction_rating',\n",
    "                        'Collaborative Teachers Rating': 'collab_teachers_rating',\n",
    "                        'Supportive Environment Rating': 'support_environ_rating',\n",
    "                        'Effective School Leadership Rating': 'effective_lead_rating',\n",
    "                        'Strong Family-Community Ties Rating': 'fam_comm_ties_rating',\n",
    "                        'Trust Rating': 'trust_rating',\n",
    "                        'Supportive Environment - Percent Positive': 'pct_pos_supportive_environ',\n",
    "                        'Effective School Leadership - Percent Positive': 'pct_pos_effective_lead',\n",
    "                        'Quality Review - How interesting and challenging is the curriculum': 'qr_challenge_curriculum',\n",
    "                        'Quality Review - How effective is the teaching and learning': 'qr_effective_teaching_learning',\n",
    "                        'Quality Review - How well does the school assess what students are learning': 'qr_assess_student_learning',\n",
    "                        'Quality Review - How clearly are high expectations communicated to students and staff': 'qr_high_expectations',\n",
    "                        'Quality Review - How well do teachers work with each other': 'qr_teacher_collab',\n",
    "                        'Quality Review - Dates of Review': 'qr_dates_of_review',\n",
    "                        'Years of principal experience at this school': 'yrs_principal_exp',\n",
    "                        'Percent of teachers with 3 or more years of experience': 'pct_teachers_>=3_yrs_exp',\n",
    "                        'Percent of Students Chronically Absent': 'pct_chronic_absent',\n",
    "                        'Teacher Attendance Rate': 'teacher_attendance_rate',\n",
    "                        'Student Achievement Rating': 'student_achieve_rating',\n",
    "                        'Rigorous Instruction - Percent Positive': 'pct_pos_rigor_instruction',\n",
    "                        'Collaborative Teachers - Percent Positive': 'pct_pos_collab_teachers',\n",
    "                        'Strong Family-Community Ties - Percent Positive': 'pct_pos_fam_comm_ties',\n",
    "                        'Trust - Percent Positive':'pct_pos_trust',\n",
    "                        'Percent English Language Learners':'pct_ell',\n",
    "                        'Percent Students with Disabilities':'pct_disabilities',\n",
    "                        'Percent Self-Contained':'pct_self_contained',\n",
    "                        'Economic Need Index':'economic_need_index',\n",
    "                        'Percent in Temp Housing':'pct_temp_housing',\n",
    "                        'Percent HRA Eligible':'pct_hra_eligible',\n",
    "                        'Percent Asian':'pct_asian',\n",
    "                        'Percent Black':'pct_black',\n",
    "                        'Percent Hispanic':'pct_hispanic',\n",
    "                        'Percent White':'pct_white',\n",
    "                        'Student Attendance Rate':'student_attendance_rate',\n",
    "                        })"
   ]
  },
  {
   "cell_type": "code",
   "execution_count": 12,
   "metadata": {},
   "outputs": [],
   "source": [
    "df = df.reset_index(drop=True) # Reset index"
   ]
  },
  {
   "cell_type": "markdown",
   "metadata": {},
   "source": [
    "---"
   ]
  },
  {
   "cell_type": "markdown",
   "metadata": {},
   "source": [
    "### Create sqr_rating Score\n",
    "In order to utilize a more sufficient metric to measure a community's satisfaction/dissatisfaction with a school, the average of the Strong Family-Community Ties and Trust scores are averaged. The reasoning is that many aspects of both scores deal with a community's satisfaction with a school. According to the DOE's 2018-2019 School Quality Reports Educator Guide: \n",
    "\n",
    "<br>\n",
    "\n",
    "https://infohub.nyced.org/docs/default-source/default-document-library/2018-19-educator-guide-ems---11-13-2019.pdf\n",
    "\n",
    "<br>\n",
    "\n",
    "**Strong Family-Community Ties**: This rating reflects how well the school forms effective partnerships with families to improve the school. This section uses data from the Quality Review and the NYC School Survey.\n",
    "\n",
    "<br>\n",
    "\n",
    "**Trust**: This rating reflects whether the relationships between administrators, educators, students, and families are based on trust and respect. This section uses data from the NYC School Survey."
   ]
  },
  {
   "cell_type": "markdown",
   "metadata": {},
   "source": [
    "Below we replace ordinal values for ratings columns with floats."
   ]
  },
  {
   "cell_type": "code",
   "execution_count": 13,
   "metadata": {},
   "outputs": [],
   "source": [
    "df = df.replace({'fam_comm_ties_rating': {'Exceeding Target':1, 'Meeting Target':0.75, 'Approaching Target':0.50, 'Not Meeting Target':0.25}})\n",
    "df = df.replace({'trust_rating': {'Exceeding Target':1, 'Meeting Target':0.75, 'Approaching Target':0.50, 'Not Meeting Target':0.25}})\n",
    "df = df.replace({'rigor_instruction_rating': {'Exceeding Target':1, 'Meeting Target':0.75, 'Approaching Target':0.50, 'Not Meeting Target':0.25}})\n",
    "df = df.replace({'collab_teachers_rating': {'Exceeding Target':1, 'Meeting Target':0.75, 'Approaching Target':0.50, 'Not Meeting Target':0.25}})\n",
    "df = df.replace({'support_environ_rating': {'Exceeding Target':1, 'Meeting Target':0.75, 'Approaching Target':0.50, 'Not Meeting Target':0.25}})\n",
    "df = df.replace({'effective_lead_rating': {'Exceeding Target':1, 'Meeting Target':0.75, 'Approaching Target':0.50, 'Not Meeting Target':0.25}})\n",
    "df = df.replace({'student_achieve_rating': {'Exceeding Target':1, 'Meeting Target':0.75, 'Approaching Target':0.50, 'Not Meeting Target':0.25}})"
   ]
  },
  {
   "cell_type": "markdown",
   "metadata": {},
   "source": [
    "We take the average of the fam_comm_ties_rating and trust_rating scores to obtain one of seven values: .250, .375, .500, .625, .750, .875, 1.00 \n",
    "\n",
    "<br>\n",
    "\n",
    "| |.250|.500|.750|1.00|\n",
    "|-|-|-|-|-|\n",
    "|**.250**|.250|.375|.500|.625|\n",
    "|**.500**|.375|.500|.625|.750|\n",
    "|**.750**|.500|.625|.750|.875|\n",
    "|**1.00**|.625|.750|.875|1.00|\n"
   ]
  },
  {
   "cell_type": "code",
   "execution_count": 14,
   "metadata": {},
   "outputs": [],
   "source": [
    "# Add sqr_score as an average of fam_comm_ties_rating and trust_rating. \n",
    "df['sqr_rating'] = df.loc[:,['fam_comm_ties_rating','trust_rating']].mean(axis=1)"
   ]
  },
  {
   "cell_type": "markdown",
   "metadata": {},
   "source": [
    "The sqr_rating values are converted to a rating system from 1 to 7, where 1 is low community satisfaction and 7 is high community satisfaction."
   ]
  },
  {
   "cell_type": "code",
   "execution_count": 15,
   "metadata": {},
   "outputs": [],
   "source": [
    "df = df.replace({'sqr_rating':{0.250:1, 0.375:2, 0.500:3, 0.625:4, 0.750:5, 0.875:6, 1:7}})"
   ]
  },
  {
   "cell_type": "markdown",
   "metadata": {},
   "source": [
    "Change values ordinal values into new rating system of 0, 0.5, and 1. "
   ]
  },
  {
   "cell_type": "code",
   "execution_count": 16,
   "metadata": {},
   "outputs": [],
   "source": [
    "df = df.replace({'qr_challenge_curriculum': {'Proficient':1, 'Well Developed':0.5, 'Developing':0}})\n",
    "df = df.replace({'qr_effective_teaching_learning': {'Proficient':1, 'Well Developed':0.5, 'Developing':0}})\n",
    "df = df.replace({'qr_assess_student_learning': {'Proficient':1, 'Well Developed':0.5, 'Developing':0}})\n",
    "df = df.replace({'qr_high_expectations': {'Proficient':1, 'Well Developed':0.5, 'Developing':0}})\n",
    "df = df.replace({'qr_teacher_collab': {'Proficient':1, 'Well Developed':0.5, 'Developing':0}})"
   ]
  },
  {
   "cell_type": "markdown",
   "metadata": {},
   "source": [
    "Create a column to show which borough each school belongs to using the letter designations in the data base numbers for each school."
   ]
  },
  {
   "cell_type": "code",
   "execution_count": 17,
   "metadata": {},
   "outputs": [],
   "source": [
    "df['borough'] = df.dbn.str.extract(r'([A-Z]+)',expand=False)\n",
    "# Change dbn letter to borough names\n",
    "df['borough'] = df['borough'].replace('M', 'manhattan')\n",
    "df['borough'] = df['borough'].replace('K', 'brooklyn')\n",
    "df['borough'] = df['borough'].replace('R', 'staten_island')\n",
    "df['borough'] = df['borough'].replace('X', 'bronx')\n",
    "df['borough'] = df['borough'].replace('Q', 'queens')"
   ]
  },
  {
   "cell_type": "markdown",
   "metadata": {},
   "source": [
    "Convert to csv and export"
   ]
  },
  {
   "cell_type": "code",
   "execution_count": 20,
   "metadata": {},
   "outputs": [],
   "source": [
    "df.to_csv('sqr_no_comments.csv', index=False)"
   ]
  }
 ],
 "metadata": {
  "kernelspec": {
   "display_name": "Python 3",
   "language": "python",
   "name": "python3"
  },
  "language_info": {
   "codemirror_mode": {
    "name": "ipython",
    "version": 3
   },
   "file_extension": ".py",
   "mimetype": "text/x-python",
   "name": "python",
   "nbconvert_exporter": "python",
   "pygments_lexer": "ipython3",
   "version": "3.7.6"
  }
 },
 "nbformat": 4,
 "nbformat_minor": 4
}
