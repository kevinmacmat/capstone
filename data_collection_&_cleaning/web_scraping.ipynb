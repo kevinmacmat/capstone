{
 "cells": [
  {
   "cell_type": "markdown",
   "metadata": {},
   "source": [
    "# Web Scraping Notebook"
   ]
  },
  {
   "cell_type": "markdown",
   "metadata": {},
   "source": [
    "---"
   ]
  },
  {
   "cell_type": "markdown",
   "metadata": {},
   "source": [
    "### Import Modules & Read in Data Frame"
   ]
  },
  {
   "cell_type": "code",
   "execution_count": 1,
   "metadata": {},
   "outputs": [],
   "source": [
    "import json\n",
    "import pandas as pd\n",
    "from selenium import webdriver\n",
    "from bs4 import BeautifulSoup"
   ]
  },
  {
   "cell_type": "code",
   "execution_count": 2,
   "metadata": {},
   "outputs": [],
   "source": [
    "df = pd.read_csv('/Users/kevinmacmat/Documents/flatiron/module_projects/capstone/csv/sqr_no_comments.csv')"
   ]
  },
  {
   "cell_type": "markdown",
   "metadata": {},
   "source": [
    "---"
   ]
  },
  {
   "cell_type": "markdown",
   "metadata": {},
   "source": [
    "### Data Base Number (DBN) List"
   ]
  },
  {
   "cell_type": "markdown",
   "metadata": {},
   "source": [
    "Create a list of all DBN's to pass into end of https://insideschools.org/school/ url. "
   ]
  },
  {
   "cell_type": "code",
   "execution_count": 3,
   "metadata": {},
   "outputs": [],
   "source": [
    "dbn_list = list(df.dbn)"
   ]
  },
  {
   "cell_type": "markdown",
   "metadata": {},
   "source": [
    "Adjust dbn_list range in order to scrape and save in batches. Ran into issues when trying to scrape too much at one time. "
   ]
  },
  {
   "cell_type": "code",
   "execution_count": 4,
   "metadata": {},
   "outputs": [],
   "source": [
    "dbn_list = dbn_list[:3]"
   ]
  },
  {
   "cell_type": "markdown",
   "metadata": {},
   "source": [
    "---"
   ]
  },
  {
   "cell_type": "markdown",
   "metadata": {},
   "source": [
    "### Scrape"
   ]
  },
  {
   "cell_type": "markdown",
   "metadata": {},
   "source": [
    "Use Selenium's headless mode option so browser does not continually open with every school's website. Must set a path to Selenium's downloaded chromedriver in order to function properly. "
   ]
  },
  {
   "cell_type": "code",
   "execution_count": 5,
   "metadata": {},
   "outputs": [],
   "source": [
    "# Create an instance of ChromeOptions\n",
    "options = webdriver.ChromeOptions()\n",
    "# Run headless mode \n",
    "options.add_argument(\"headless\")\n",
    "# Instatiate chrome driver and pass in the file path to chromedriver\n",
    "driver = webdriver.Chrome('/Users/kevinmacmat/Documents/flatiron/module_projects/capstone/chromedriver', options=options)"
   ]
  },
  {
   "cell_type": "markdown",
   "metadata": {},
   "source": [
    "Get comments for past 6 years and output them to output_list. The 6 year cutoff was determined due to the SQR's availability for those years."
   ]
  },
  {
   "cell_type": "code",
   "execution_count": 6,
   "metadata": {},
   "outputs": [],
   "source": [
    "output_list = []"
   ]
  },
  {
   "cell_type": "code",
   "execution_count": 7,
   "metadata": {},
   "outputs": [],
   "source": [
    "# Instantiate containers for comment features\n",
    "raw_message = []\n",
    "depth = []\n",
    "dislikes = []\n",
    "likes = []\n",
    "name = []\n",
    "dbns = []\n",
    "\n",
    "for dbn in dbn_list:\n",
    "    # Get website \n",
    "    driver.get('https://insideschools.org/school/' + dbn)\n",
    "    # Switch to iframe containing script tag\n",
    "    driver.switch_to.frame(1)\n",
    "    # Grab the text\n",
    "    text = driver.page_source\n",
    "    # Switch out of iframe\n",
    "    driver.switch_to.default_content()\n",
    "    # Parse and process the source with BeautifulSoup module by creating an BS object\n",
    "    soup = BeautifulSoup(text, 'lxml')\n",
    "    # Access the soup and find the script element's id\n",
    "    thread = soup.find(\"script\", {\"id\": \"disqus-threadData\"})\n",
    "    # Turn the bs4 tag into a string, remove the script tag, and access the json\n",
    "    site_json = json.loads(str(thread)[48:-9])\n",
    "    # Navigate and loop json, filtering comments by date, to append comments to comments_list\n",
    "    for comment in site_json['response']['posts']:\n",
    "        if '2014' in comment['createdAt']:\n",
    "            raw_message.append(comment['raw_message'])\n",
    "            depth.append(comment['depth'])\n",
    "            dislikes.append(comment['dislikes'])\n",
    "            likes.append(comment['likes'])\n",
    "            name.append(comment['author']['name'])\n",
    "            dbns.append(dbn)\n",
    "        elif '2015' in comment['createdAt']:\n",
    "            raw_message.append(comment['raw_message'])\n",
    "            depth.append(comment['depth'])\n",
    "            dislikes.append(comment['dislikes'])\n",
    "            likes.append(comment['likes'])\n",
    "            name.append(comment['author']['name'])\n",
    "            dbns.append(dbn)\n",
    "        elif '2016' in comment['createdAt']:\n",
    "            raw_message.append(comment['raw_message'])\n",
    "            depth.append(comment['depth'])\n",
    "            dislikes.append(comment['dislikes'])\n",
    "            likes.append(comment['likes'])\n",
    "            name.append(comment['author']['name'])\n",
    "            dbns.append(dbn)\n",
    "        elif '2017' in comment['createdAt']:\n",
    "            raw_message.append(comment['raw_message'])\n",
    "            depth.append(comment['depth'])\n",
    "            dislikes.append(comment['dislikes'])\n",
    "            likes.append(comment['likes'])\n",
    "            name.append(comment['author']['name'])\n",
    "            dbns.append(dbn)\n",
    "        elif '2018' in comment['createdAt']:\n",
    "            raw_message.append(comment['raw_message'])\n",
    "            depth.append(comment['depth'])\n",
    "            dislikes.append(comment['dislikes'])\n",
    "            likes.append(comment['likes'])\n",
    "            name.append(comment['author']['name'])\n",
    "            dbns.append(dbn)\n",
    "        elif '2019' in comment['createdAt']:\n",
    "            raw_message.append(comment['raw_message'])\n",
    "            depth.append(comment['depth'])\n",
    "            dislikes.append(comment['dislikes'])\n",
    "            likes.append(comment['likes'])\n",
    "            name.append(comment['author']['name'])\n",
    "            dbns.append(dbn)\n",
    "        elif '2020' in comment['createdAt']:\n",
    "            raw_message.append(comment['raw_message'])\n",
    "            depth.append(comment['depth'])\n",
    "            dislikes.append(comment['dislikes'])\n",
    "            likes.append(comment['likes'])\n",
    "            name.append(comment['author']['name'])\n",
    "            dbns.append(dbn)\n",
    "        else:\n",
    "            continue"
   ]
  },
  {
   "cell_type": "code",
   "execution_count": 16,
   "metadata": {},
   "outputs": [
    {
     "name": "stdout",
     "output_type": "stream",
     "text": [
      "26\n",
      "26\n",
      "26\n",
      "26\n",
      "26\n",
      "26\n"
     ]
    }
   ],
   "source": [
    "print(len(dbns))\n",
    "print(len(name))\n",
    "print(len(raw_message))\n",
    "print(len(likes))\n",
    "print(len(dislikes))\n",
    "print(len(depth))"
   ]
  },
  {
   "cell_type": "code",
   "execution_count": null,
   "metadata": {},
   "outputs": [],
   "source": [
    "# Append data to output_list\n",
    "output_list.append(dbns)\n",
    "output_list.append(name)\n",
    "output_list.append(raw_message)\n",
    "output_list.append(likes)\n",
    "output_list.append(dislikes)\n",
    "output_list.append(depth)"
   ]
  },
  {
   "cell_type": "markdown",
   "metadata": {},
   "source": [
    "---"
   ]
  },
  {
   "cell_type": "markdown",
   "metadata": {},
   "source": [
    "### Make Data Frame"
   ]
  },
  {
   "cell_type": "code",
   "execution_count": 17,
   "metadata": {},
   "outputs": [],
   "source": [
    "batch_df = pd.DataFrame()\n",
    "batch_df['dbn'] = dbns\n",
    "batch_df['username'] = name\n",
    "batch_df['comment'] = raw_message\n",
    "batch_df['likes'] = likes\n",
    "batch_df['dislikes'] = dislikes\n",
    "batch_df['replies'] = depth"
   ]
  },
  {
   "cell_type": "code",
   "execution_count": 18,
   "metadata": {},
   "outputs": [
    {
     "data": {
      "text/html": [
       "<div>\n",
       "<style scoped>\n",
       "    .dataframe tbody tr th:only-of-type {\n",
       "        vertical-align: middle;\n",
       "    }\n",
       "\n",
       "    .dataframe tbody tr th {\n",
       "        vertical-align: top;\n",
       "    }\n",
       "\n",
       "    .dataframe thead th {\n",
       "        text-align: right;\n",
       "    }\n",
       "</style>\n",
       "<table border=\"1\" class=\"dataframe\">\n",
       "  <thead>\n",
       "    <tr style=\"text-align: right;\">\n",
       "      <th></th>\n",
       "      <th>dbn</th>\n",
       "      <th>username</th>\n",
       "      <th>comment</th>\n",
       "      <th>likes</th>\n",
       "      <th>dislikes</th>\n",
       "      <th>replies</th>\n",
       "    </tr>\n",
       "  </thead>\n",
       "  <tbody>\n",
       "    <tr>\n",
       "      <th>0</th>\n",
       "      <td>01M015</td>\n",
       "      <td>P.S. 15 Parent</td>\n",
       "      <td>P.S. 15 is an extraordinary small school that ...</td>\n",
       "      <td>0</td>\n",
       "      <td>0</td>\n",
       "      <td>0</td>\n",
       "    </tr>\n",
       "    <tr>\n",
       "      <th>1</th>\n",
       "      <td>01M015</td>\n",
       "      <td>Houleye Sy</td>\n",
       "      <td>A Hidden Gem!\\nAmazing community school that f...</td>\n",
       "      <td>0</td>\n",
       "      <td>0</td>\n",
       "      <td>0</td>\n",
       "    </tr>\n",
       "    <tr>\n",
       "      <th>2</th>\n",
       "      <td>01M015</td>\n",
       "      <td>newslink</td>\n",
       "      <td>PS 15 is among the schools with the most impro...</td>\n",
       "      <td>0</td>\n",
       "      <td>0</td>\n",
       "      <td>0</td>\n",
       "    </tr>\n",
       "    <tr>\n",
       "      <th>3</th>\n",
       "      <td>01M015</td>\n",
       "      <td>newslink</td>\n",
       "      <td>PS 15 second graders won a city-wide ferry nam...</td>\n",
       "      <td>0</td>\n",
       "      <td>0</td>\n",
       "      <td>0</td>\n",
       "    </tr>\n",
       "    <tr>\n",
       "      <th>4</th>\n",
       "      <td>01M015</td>\n",
       "      <td>newslink</td>\n",
       "      <td>NYC Department of Education officials barred a...</td>\n",
       "      <td>0</td>\n",
       "      <td>0</td>\n",
       "      <td>0</td>\n",
       "    </tr>\n",
       "    <tr>\n",
       "      <th>5</th>\n",
       "      <td>01M015</td>\n",
       "      <td>Newslink</td>\n",
       "      <td>PS 15 is poised to benefit from District 1's p...</td>\n",
       "      <td>0</td>\n",
       "      <td>0</td>\n",
       "      <td>0</td>\n",
       "    </tr>\n",
       "    <tr>\n",
       "      <th>6</th>\n",
       "      <td>01M015</td>\n",
       "      <td>newslink</td>\n",
       "      <td>PS 15 Principal Irene Sanchez supports the Dis...</td>\n",
       "      <td>0</td>\n",
       "      <td>0</td>\n",
       "      <td>1</td>\n",
       "    </tr>\n",
       "    <tr>\n",
       "      <th>7</th>\n",
       "      <td>01M015</td>\n",
       "      <td>newslink</td>\n",
       "      <td>District 1 has proposed a plan to attract more...</td>\n",
       "      <td>0</td>\n",
       "      <td>0</td>\n",
       "      <td>0</td>\n",
       "    </tr>\n",
       "    <tr>\n",
       "      <th>8</th>\n",
       "      <td>01M015</td>\n",
       "      <td>newslink</td>\n",
       "      <td>As public officials urge more schools to addre...</td>\n",
       "      <td>0</td>\n",
       "      <td>0</td>\n",
       "      <td>0</td>\n",
       "    </tr>\n",
       "    <tr>\n",
       "      <th>9</th>\n",
       "      <td>01M015</td>\n",
       "      <td>newslink</td>\n",
       "      <td>“When you have a mix of students and everyone’...</td>\n",
       "      <td>0</td>\n",
       "      <td>0</td>\n",
       "      <td>0</td>\n",
       "    </tr>\n",
       "    <tr>\n",
       "      <th>10</th>\n",
       "      <td>01M015</td>\n",
       "      <td>P.S. Parent</td>\n",
       "      <td>The Gifted and Talent Kindergarten teacher is ...</td>\n",
       "      <td>0</td>\n",
       "      <td>0</td>\n",
       "      <td>0</td>\n",
       "    </tr>\n",
       "    <tr>\n",
       "      <th>11</th>\n",
       "      <td>01M015</td>\n",
       "      <td>PublicSchoolParent</td>\n",
       "      <td>And the G&amp;T Kindergarten Teacher won a well-de...</td>\n",
       "      <td>0</td>\n",
       "      <td>0</td>\n",
       "      <td>1</td>\n",
       "    </tr>\n",
       "    <tr>\n",
       "      <th>12</th>\n",
       "      <td>01M015</td>\n",
       "      <td>newslink</td>\n",
       "      <td>No PS 15 third-grade students passed the 2014 ...</td>\n",
       "      <td>0</td>\n",
       "      <td>0</td>\n",
       "      <td>0</td>\n",
       "    </tr>\n",
       "    <tr>\n",
       "      <th>13</th>\n",
       "      <td>01M015</td>\n",
       "      <td>Insideschools</td>\n",
       "      <td>PS 15 Roberto Clemente has been selected to pa...</td>\n",
       "      <td>0</td>\n",
       "      <td>0</td>\n",
       "      <td>0</td>\n",
       "    </tr>\n",
       "    <tr>\n",
       "      <th>14</th>\n",
       "      <td>01M015</td>\n",
       "      <td>newslink</td>\n",
       "      <td>At a press conference at PS 15 Roberto Clement...</td>\n",
       "      <td>0</td>\n",
       "      <td>0</td>\n",
       "      <td>0</td>\n",
       "    </tr>\n",
       "    <tr>\n",
       "      <th>15</th>\n",
       "      <td>01M015</td>\n",
       "      <td>newslink</td>\n",
       "      <td>Ninety-four low-performing schools are now cal...</td>\n",
       "      <td>0</td>\n",
       "      <td>0</td>\n",
       "      <td>0</td>\n",
       "    </tr>\n",
       "    <tr>\n",
       "      <th>16</th>\n",
       "      <td>01M015</td>\n",
       "      <td>Insideschools</td>\n",
       "      <td>Schools Chancellor Walcott visited PS 15 to in...</td>\n",
       "      <td>0</td>\n",
       "      <td>0</td>\n",
       "      <td>0</td>\n",
       "    </tr>\n",
       "    <tr>\n",
       "      <th>17</th>\n",
       "      <td>01M019</td>\n",
       "      <td>Artupstairs</td>\n",
       "      <td>Wrong person</td>\n",
       "      <td>0</td>\n",
       "      <td>0</td>\n",
       "      <td>0</td>\n",
       "    </tr>\n",
       "    <tr>\n",
       "      <th>18</th>\n",
       "      <td>01M019</td>\n",
       "      <td>Parent101</td>\n",
       "      <td>The negative comments don't do justice to PS 1...</td>\n",
       "      <td>0</td>\n",
       "      <td>0</td>\n",
       "      <td>0</td>\n",
       "    </tr>\n",
       "    <tr>\n",
       "      <th>19</th>\n",
       "      <td>01M019</td>\n",
       "      <td>Alicia</td>\n",
       "      <td>i suggest that all children go to Ps19 that li...</td>\n",
       "      <td>0</td>\n",
       "      <td>0</td>\n",
       "      <td>0</td>\n",
       "    </tr>\n",
       "    <tr>\n",
       "      <th>20</th>\n",
       "      <td>01M019</td>\n",
       "      <td>newslink</td>\n",
       "      <td>Data showed that PS 19 reported no or low numb...</td>\n",
       "      <td>0</td>\n",
       "      <td>0</td>\n",
       "      <td>0</td>\n",
       "    </tr>\n",
       "    <tr>\n",
       "      <th>21</th>\n",
       "      <td>01M019</td>\n",
       "      <td>environment11</td>\n",
       "      <td>Dirtest kept school ever. I can't believe the ...</td>\n",
       "      <td>0</td>\n",
       "      <td>0</td>\n",
       "      <td>0</td>\n",
       "    </tr>\n",
       "    <tr>\n",
       "      <th>22</th>\n",
       "      <td>01M019</td>\n",
       "      <td>Kay</td>\n",
       "      <td>At least it’s not in the schools with our kids...</td>\n",
       "      <td>0</td>\n",
       "      <td>0</td>\n",
       "      <td>1</td>\n",
       "    </tr>\n",
       "    <tr>\n",
       "      <th>23</th>\n",
       "      <td>01M019</td>\n",
       "      <td>Environment11</td>\n",
       "      <td>Toots, I don’t have kids.  I lived near the sc...</td>\n",
       "      <td>0</td>\n",
       "      <td>0</td>\n",
       "      <td>2</td>\n",
       "    </tr>\n",
       "    <tr>\n",
       "      <th>24</th>\n",
       "      <td>01M019</td>\n",
       "      <td>Alicia</td>\n",
       "      <td>i agree!!! i am in 8th grade now and he was am...</td>\n",
       "      <td>0</td>\n",
       "      <td>0</td>\n",
       "      <td>1</td>\n",
       "    </tr>\n",
       "    <tr>\n",
       "      <th>25</th>\n",
       "      <td>01M019</td>\n",
       "      <td>Alicia</td>\n",
       "      <td>i agree!! i was in ps19 3 years ago. im in 8th...</td>\n",
       "      <td>0</td>\n",
       "      <td>0</td>\n",
       "      <td>1</td>\n",
       "    </tr>\n",
       "  </tbody>\n",
       "</table>\n",
       "</div>"
      ],
      "text/plain": [
       "       dbn            username  \\\n",
       "0   01M015      P.S. 15 Parent   \n",
       "1   01M015          Houleye Sy   \n",
       "2   01M015            newslink   \n",
       "3   01M015            newslink   \n",
       "4   01M015            newslink   \n",
       "5   01M015            Newslink   \n",
       "6   01M015            newslink   \n",
       "7   01M015            newslink   \n",
       "8   01M015            newslink   \n",
       "9   01M015            newslink   \n",
       "10  01M015         P.S. Parent   \n",
       "11  01M015  PublicSchoolParent   \n",
       "12  01M015            newslink   \n",
       "13  01M015       Insideschools   \n",
       "14  01M015            newslink   \n",
       "15  01M015            newslink   \n",
       "16  01M015       Insideschools   \n",
       "17  01M019         Artupstairs   \n",
       "18  01M019           Parent101   \n",
       "19  01M019              Alicia   \n",
       "20  01M019            newslink   \n",
       "21  01M019       environment11   \n",
       "22  01M019                 Kay   \n",
       "23  01M019       Environment11   \n",
       "24  01M019              Alicia   \n",
       "25  01M019              Alicia   \n",
       "\n",
       "                                              comment  likes  dislikes  \\\n",
       "0   P.S. 15 is an extraordinary small school that ...      0         0   \n",
       "1   A Hidden Gem!\\nAmazing community school that f...      0         0   \n",
       "2   PS 15 is among the schools with the most impro...      0         0   \n",
       "3   PS 15 second graders won a city-wide ferry nam...      0         0   \n",
       "4   NYC Department of Education officials barred a...      0         0   \n",
       "5   PS 15 is poised to benefit from District 1's p...      0         0   \n",
       "6   PS 15 Principal Irene Sanchez supports the Dis...      0         0   \n",
       "7   District 1 has proposed a plan to attract more...      0         0   \n",
       "8   As public officials urge more schools to addre...      0         0   \n",
       "9   “When you have a mix of students and everyone’...      0         0   \n",
       "10  The Gifted and Talent Kindergarten teacher is ...      0         0   \n",
       "11  And the G&T Kindergarten Teacher won a well-de...      0         0   \n",
       "12  No PS 15 third-grade students passed the 2014 ...      0         0   \n",
       "13  PS 15 Roberto Clemente has been selected to pa...      0         0   \n",
       "14  At a press conference at PS 15 Roberto Clement...      0         0   \n",
       "15  Ninety-four low-performing schools are now cal...      0         0   \n",
       "16  Schools Chancellor Walcott visited PS 15 to in...      0         0   \n",
       "17                                       Wrong person      0         0   \n",
       "18  The negative comments don't do justice to PS 1...      0         0   \n",
       "19  i suggest that all children go to Ps19 that li...      0         0   \n",
       "20  Data showed that PS 19 reported no or low numb...      0         0   \n",
       "21  Dirtest kept school ever. I can't believe the ...      0         0   \n",
       "22  At least it’s not in the schools with our kids...      0         0   \n",
       "23  Toots, I don’t have kids.  I lived near the sc...      0         0   \n",
       "24  i agree!!! i am in 8th grade now and he was am...      0         0   \n",
       "25  i agree!! i was in ps19 3 years ago. im in 8th...      0         0   \n",
       "\n",
       "    replies  \n",
       "0         0  \n",
       "1         0  \n",
       "2         0  \n",
       "3         0  \n",
       "4         0  \n",
       "5         0  \n",
       "6         1  \n",
       "7         0  \n",
       "8         0  \n",
       "9         0  \n",
       "10        0  \n",
       "11        1  \n",
       "12        0  \n",
       "13        0  \n",
       "14        0  \n",
       "15        0  \n",
       "16        0  \n",
       "17        0  \n",
       "18        0  \n",
       "19        0  \n",
       "20        0  \n",
       "21        0  \n",
       "22        1  \n",
       "23        2  \n",
       "24        1  \n",
       "25        1  "
      ]
     },
     "execution_count": 18,
     "metadata": {},
     "output_type": "execute_result"
    }
   ],
   "source": [
    "batch_df"
   ]
  },
  {
   "cell_type": "code",
   "execution_count": null,
   "metadata": {},
   "outputs": [],
   "source": []
  },
  {
   "cell_type": "code",
   "execution_count": null,
   "metadata": {},
   "outputs": [],
   "source": []
  },
  {
   "cell_type": "code",
   "execution_count": null,
   "metadata": {},
   "outputs": [],
   "source": [
    "# Create dataframe with list of data base numbers\n",
    "batch_df = pd.DataFrame(dbn_list, columns=['dbn'])"
   ]
  },
  {
   "cell_type": "code",
   "execution_count": null,
   "metadata": {},
   "outputs": [],
   "source": [
    "# Add comments of recently scraped batch of comments to comments column \n",
    "batch_df['comments'] = output_list"
   ]
  },
  {
   "cell_type": "markdown",
   "metadata": {},
   "source": [
    "---"
   ]
  },
  {
   "cell_type": "markdown",
   "metadata": {},
   "source": [
    "### Convert data frame to CSV and export"
   ]
  },
  {
   "cell_type": "code",
   "execution_count": null,
   "metadata": {},
   "outputs": [],
   "source": [
    "batch_df.to_csv('batch_1000-end_comments.csv', index=False)"
   ]
  }
 ],
 "metadata": {
  "kernelspec": {
   "display_name": "Python 3",
   "language": "python",
   "name": "python3"
  },
  "language_info": {
   "codemirror_mode": {
    "name": "ipython",
    "version": 3
   },
   "file_extension": ".py",
   "mimetype": "text/x-python",
   "name": "python",
   "nbconvert_exporter": "python",
   "pygments_lexer": "ipython3",
   "version": "3.7.6"
  }
 },
 "nbformat": 4,
 "nbformat_minor": 4
}
