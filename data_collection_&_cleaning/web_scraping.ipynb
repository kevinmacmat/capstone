{
 "cells": [
  {
   "cell_type": "markdown",
   "metadata": {},
   "source": [
    "# Web Scraping Notebook"
   ]
  },
  {
   "cell_type": "markdown",
   "metadata": {},
   "source": [
    "---"
   ]
  },
  {
   "cell_type": "markdown",
   "metadata": {},
   "source": [
    "### Import Modules & Read in Data Frame"
   ]
  },
  {
   "cell_type": "code",
   "execution_count": 1,
   "metadata": {},
   "outputs": [],
   "source": [
    "import json\n",
    "import pandas as pd\n",
    "from selenium import webdriver\n",
    "from bs4 import BeautifulSoup"
   ]
  },
  {
   "cell_type": "code",
   "execution_count": 2,
   "metadata": {},
   "outputs": [],
   "source": [
    "df = pd.read_csv('/Users/kevinmacmat/Documents/flatiron/module_projects/capstone/csv/sqr_no_comments.csv')"
   ]
  },
  {
   "cell_type": "markdown",
   "metadata": {},
   "source": [
    "---"
   ]
  },
  {
   "cell_type": "markdown",
   "metadata": {},
   "source": [
    "### Data Base Number (DBN) & Features List"
   ]
  },
  {
   "cell_type": "markdown",
   "metadata": {},
   "source": [
    "Create a list of all DBN's to loop over and pass into end of https://insideschools.org/school/ url. Also instantiate lists for all relevant SQR features to add to the database. "
   ]
  },
  {
   "cell_type": "code",
   "execution_count": 3,
   "metadata": {},
   "outputs": [],
   "source": [
    "dbn_list = list(df.dbn)\n",
    "grade_level_list = list(df.school_type)\n",
    "enrollment_list = list(df.enrollment)\n",
    "fam_comm_ties_list = list(df.fam_comm_ties_rating)\n",
    "pct_ell_list = list(df.pct_ell)\n",
    "pct_disabilities_list = list(df.pct_disabilities)\n",
    "pct_self_contained_list = list(df.pct_self_contained)\n",
    "economic_need_index_list = list(df.economic_need_index)\n",
    "pct_temp_housing_list = list(df.pct_temp_housing)\n",
    "pct_hra_eligible_list = list(df.pct_hra_eligible)\n",
    "pct_asian_list = list(df.pct_asian)\n",
    "pct_black_list = list(df.pct_black)\n",
    "pct_hispanic_list = list(df.pct_hispanic)\n",
    "pct_white_list = list(df.pct_white)\n",
    "pct_chronic_absent_list = list(df.pct_chronic_absent)\n",
    "borough_list = list(df.borough)"
   ]
  },
  {
   "cell_type": "markdown",
   "metadata": {},
   "source": [
    "Adjust dbn_list scraping range in order to scrape/pull info from sqr data and insideschools.org, and save in batches. Ran into issues when trying to scrape too much at one time. "
   ]
  },
  {
   "cell_type": "code",
   "execution_count": 4,
   "metadata": {},
   "outputs": [],
   "source": [
    "# Adjust range to scrape from 1076 dbn entries below\n",
    "scrape_range_start = 925\n",
    "# scrape_range_stop = 950\n",
    "scrape_range_stop = 1076\n",
    "\n",
    "dbn_list = dbn_list[scrape_range_start:scrape_range_stop]\n",
    "grade_level_list = grade_level_list[scrape_range_start:scrape_range_stop]\n",
    "enrollment_list = enrollment_list[scrape_range_start:scrape_range_stop]\n",
    "fam_comm_ties_list = fam_comm_ties_list[scrape_range_start:scrape_range_stop]\n",
    "pct_ell_list = pct_ell_list[scrape_range_start:scrape_range_stop]\n",
    "pct_disabilities_list = pct_disabilities_list[scrape_range_start:scrape_range_stop]\n",
    "pct_self_contained_list = pct_self_contained_list[scrape_range_start:scrape_range_stop]\n",
    "ecomonic_need_index_list = economic_need_index_list[scrape_range_start:scrape_range_stop]\n",
    "pct_temp_housing_list = pct_temp_housing_list[scrape_range_start:scrape_range_stop]\n",
    "pct_hra_eligible_list = pct_hra_eligible_list[scrape_range_start:scrape_range_stop]\n",
    "pct_asian_list = pct_asian_list[scrape_range_start:scrape_range_stop]\n",
    "pct_black_list = pct_black_list[scrape_range_start:scrape_range_stop]\n",
    "pct_hispanic_list = pct_hispanic_list[scrape_range_start:scrape_range_stop]\n",
    "pct_white_list = pct_white_list[scrape_range_start:scrape_range_stop]\n",
    "pct_chronic_absent_list = pct_chronic_absent_list[scrape_range_start:scrape_range_stop]\n",
    "borough_list = borough_list[scrape_range_start:scrape_range_stop]"
   ]
  },
  {
   "cell_type": "markdown",
   "metadata": {},
   "source": [
    "---"
   ]
  },
  {
   "cell_type": "markdown",
   "metadata": {},
   "source": [
    "### Scrape"
   ]
  },
  {
   "cell_type": "markdown",
   "metadata": {},
   "source": [
    "Use Selenium's headless mode option so browser does not continually open with every school's website. Must set a path to Selenium's downloaded chromedriver in order to function properly. "
   ]
  },
  {
   "cell_type": "code",
   "execution_count": 5,
   "metadata": {},
   "outputs": [],
   "source": [
    "# Create an instance of ChromeOptions\n",
    "options = webdriver.ChromeOptions()\n",
    "# Run headless mode \n",
    "options.add_argument(\"headless\")\n",
    "# Instatiate chrome driver and pass in the file path to chromedriver\n",
    "driver = webdriver.Chrome('/Users/kevinmacmat/Documents/flatiron/module_projects/capstone/chromedriver', options=options) "
   ]
  },
  {
   "cell_type": "markdown",
   "metadata": {},
   "source": [
    "Get comments and other metadata for past 6 years and output them to list-containers to make dataframe. The 6 year cutoff was determined due to the SQR's availability for those years."
   ]
  },
  {
   "cell_type": "code",
   "execution_count": 6,
   "metadata": {},
   "outputs": [],
   "source": [
    "# Instantiate containers for comment features\n",
    "raw_message = []\n",
    "depth = []\n",
    "dislikes = []\n",
    "likes = []\n",
    "name = []\n",
    "dbns = []\n",
    "post_date = []\n",
    "borough = []\n",
    "grade_level = []\n",
    "enrollment = []\n",
    "fam_comm_ties = []\n",
    "pct_ell = []\n",
    "pct_disabilities = []\n",
    "pct_self_contained = []\n",
    "economic_need_index = []\n",
    "pct_temp_housing = []\n",
    "pct_hra_eligible = []\n",
    "pct_asian = []\n",
    "pct_black = []\n",
    "pct_hispanic = []\n",
    "pct_white = []\n",
    "pct_chronic_absent = []\n",
    "\n",
    "for index, dbn in enumerate(dbn_list):\n",
    "    # Get website \n",
    "    driver.get('https://insideschools.org/school/' + dbn)\n",
    "    # Switch to iframe containing script tag\n",
    "    driver.switch_to.frame(1)\n",
    "    # Grab the text\n",
    "    text = driver.page_source\n",
    "    # Switch out of iframe\n",
    "    driver.switch_to.default_content()\n",
    "    # Parse and process the source with BeautifulSoup module by creating an BS object\n",
    "    soup = BeautifulSoup(text, 'lxml')\n",
    "    # Access the soup and find the script element's id\n",
    "    thread = soup.find(\"script\", {\"id\": \"disqus-threadData\"})\n",
    "    # Turn the bs4 tag into a string, remove the script tag, and access the json\n",
    "#     json_string = str(thread)[49:-9]\n",
    "    json_string = str(thread)[48:-9]\n",
    "    site_json = json.loads(json_string)\n",
    "    # Navigate and loop json, filtering comments by date, to append comments to comments_list\n",
    "    for comment in site_json['response']['posts']:\n",
    "        if '2014' or '2015' or '2016' or '2017' or '2018' or '2019' or '2020' in comment['createdAt']:\n",
    "            raw_message.append(comment['raw_message'])\n",
    "            depth.append(comment['depth'])\n",
    "            dislikes.append(comment['dislikes'])\n",
    "            likes.append(comment['likes'])\n",
    "            name.append(comment['author']['name'])\n",
    "            post_date.append(comment['createdAt'])\n",
    "            dbns.append(dbn)\n",
    "            borough.append(borough_list[index])\n",
    "            grade_level.append(grade_level_list[index])\n",
    "            enrollment.append(enrollment_list[index])\n",
    "            fam_comm_ties.append(fam_comm_ties_list[index])\n",
    "            pct_ell.append(pct_ell_list[index])\n",
    "            pct_disabilities.append(pct_disabilities_list[index])\n",
    "            pct_self_contained.append(pct_self_contained_list[index])\n",
    "            economic_need_index.append(economic_need_index_list[index])\n",
    "            pct_temp_housing.append(pct_temp_housing_list[index])\n",
    "            pct_hra_eligible.append(pct_hra_eligible_list[index])\n",
    "            pct_asian.append(pct_asian_list[index])\n",
    "            pct_black.append(pct_black_list[index])\n",
    "            pct_hispanic.append(pct_hispanic_list[index])\n",
    "            pct_white.append(pct_white_list[index])\n",
    "            pct_chronic_absent.append(pct_chronic_absent_list[index])\n",
    "        else:\n",
    "            continue"
   ]
  },
  {
   "cell_type": "code",
   "execution_count": 11,
   "metadata": {},
   "outputs": [
    {
     "name": "stdout",
     "output_type": "stream",
     "text": [
      "2257\n",
      "2257\n",
      "2257\n",
      "2257\n",
      "2257\n",
      "2257\n",
      "2257\n",
      "2257\n",
      "2257\n",
      "2257\n",
      "2257\n",
      "2257\n",
      "2257\n",
      "2257\n",
      "2257\n",
      "2257\n",
      "2257\n",
      "2257\n",
      "2257\n",
      "2257\n",
      "2257\n",
      "2257\n"
     ]
    }
   ],
   "source": [
    "# Check that all lists are of the same length before combining into dataframe\n",
    "print(len(dbns))\n",
    "print(len(name))\n",
    "print(len(raw_message))\n",
    "print(len(likes))\n",
    "print(len(dislikes))\n",
    "print(len(depth))\n",
    "print(len(post_date))\n",
    "print(len(borough))\n",
    "print(len(grade_level))\n",
    "print(len(enrollment))\n",
    "print(len(fam_comm_ties))\n",
    "print(len(pct_ell))\n",
    "print(len(pct_disabilities))\n",
    "print(len(pct_self_contained))\n",
    "print(len(economic_need_index))\n",
    "print(len(pct_temp_housing))\n",
    "print(len(pct_hra_eligible))\n",
    "print(len(pct_asian))\n",
    "print(len(pct_black))\n",
    "print(len(pct_hispanic))\n",
    "print(len(pct_white))\n",
    "print(len(pct_chronic_absent))"
   ]
  },
  {
   "cell_type": "markdown",
   "metadata": {},
   "source": [
    "---"
   ]
  },
  {
   "cell_type": "markdown",
   "metadata": {},
   "source": [
    "### Combine Lists To Make Data Frame"
   ]
  },
  {
   "cell_type": "code",
   "execution_count": 12,
   "metadata": {},
   "outputs": [],
   "source": [
    "batch_df = pd.DataFrame()\n",
    "batch_df['dbn'] = dbns\n",
    "batch_df['username'] = name\n",
    "batch_df['borough'] = borough\n",
    "batch_df['grade_level'] = grade_level\n",
    "batch_df['enrollment'] = enrollment\n",
    "batch_df['comment'] = raw_message\n",
    "batch_df['likes'] = likes\n",
    "batch_df['dislikes'] = dislikes\n",
    "batch_df['replies'] = depth\n",
    "batch_df['post_date'] = post_date\n",
    "batch_df['fam_comm_ties'] = fam_comm_ties\n",
    "batch_df['pct_ell'] = pct_ell\n",
    "batch_df['pct_disabilities'] = pct_disabilities\n",
    "batch_df['pct_self_contained'] = pct_self_contained\n",
    "batch_df['economic_need_index'] = economic_need_index\n",
    "batch_df['pct_temp_housing'] = pct_temp_housing\n",
    "batch_df['pct_hra_eligible'] = pct_hra_eligible\n",
    "batch_df['pct_asian'] = pct_asian\n",
    "batch_df['pct_black'] = pct_black\n",
    "batch_df['pct_hispanic'] = pct_hispanic\n",
    "batch_df['pct_white'] = pct_white\n",
    "batch_df['pct_chronic_absent'] = pct_chronic_absent"
   ]
  },
  {
   "cell_type": "code",
   "execution_count": 13,
   "metadata": {},
   "outputs": [
    {
     "data": {
      "text/plain": [
       "(2257, 22)"
      ]
     },
     "execution_count": 13,
     "metadata": {},
     "output_type": "execute_result"
    }
   ],
   "source": [
    "batch_df.shape"
   ]
  },
  {
   "cell_type": "code",
   "execution_count": 14,
   "metadata": {},
   "outputs": [
    {
     "data": {
      "text/html": [
       "<div>\n",
       "<style scoped>\n",
       "    .dataframe tbody tr th:only-of-type {\n",
       "        vertical-align: middle;\n",
       "    }\n",
       "\n",
       "    .dataframe tbody tr th {\n",
       "        vertical-align: top;\n",
       "    }\n",
       "\n",
       "    .dataframe thead th {\n",
       "        text-align: right;\n",
       "    }\n",
       "</style>\n",
       "<table border=\"1\" class=\"dataframe\">\n",
       "  <thead>\n",
       "    <tr style=\"text-align: right;\">\n",
       "      <th></th>\n",
       "      <th>dbn</th>\n",
       "      <th>username</th>\n",
       "      <th>borough</th>\n",
       "      <th>grade_level</th>\n",
       "      <th>enrollment</th>\n",
       "      <th>comment</th>\n",
       "      <th>likes</th>\n",
       "      <th>dislikes</th>\n",
       "      <th>replies</th>\n",
       "      <th>post_date</th>\n",
       "      <th>...</th>\n",
       "      <th>pct_disabilities</th>\n",
       "      <th>pct_self_contained</th>\n",
       "      <th>economic_need_index</th>\n",
       "      <th>pct_temp_housing</th>\n",
       "      <th>pct_hra_eligible</th>\n",
       "      <th>pct_asian</th>\n",
       "      <th>pct_black</th>\n",
       "      <th>pct_hispanic</th>\n",
       "      <th>pct_white</th>\n",
       "      <th>pct_chronic_absent</th>\n",
       "    </tr>\n",
       "  </thead>\n",
       "  <tbody>\n",
       "    <tr>\n",
       "      <th>2252</th>\n",
       "      <td>32K554</td>\n",
       "      <td>Anonymous</td>\n",
       "      <td>brooklyn</td>\n",
       "      <td>Middle</td>\n",
       "      <td>180</td>\n",
       "      <td>&lt;P&gt;\"Students gain leadership experience and co...</td>\n",
       "      <td>0</td>\n",
       "      <td>1</td>\n",
       "      <td>0</td>\n",
       "      <td>2005-06-24T20:40:59</td>\n",
       "      <td>...</td>\n",
       "      <td>0.072</td>\n",
       "      <td>0.000</td>\n",
       "      <td>0.948</td>\n",
       "      <td>0.061</td>\n",
       "      <td>0.522</td>\n",
       "      <td>0.083</td>\n",
       "      <td>0.067</td>\n",
       "      <td>0.694</td>\n",
       "      <td>0.150</td>\n",
       "      <td>0.033</td>\n",
       "    </tr>\n",
       "    <tr>\n",
       "      <th>2253</th>\n",
       "      <td>32K554</td>\n",
       "      <td>X.G</td>\n",
       "      <td>brooklyn</td>\n",
       "      <td>Middle</td>\n",
       "      <td>180</td>\n",
       "      <td>When are the open houses? I am an eith grader ...</td>\n",
       "      <td>0</td>\n",
       "      <td>0</td>\n",
       "      <td>1</td>\n",
       "      <td>2016-10-19T00:59:06</td>\n",
       "      <td>...</td>\n",
       "      <td>0.072</td>\n",
       "      <td>0.000</td>\n",
       "      <td>0.948</td>\n",
       "      <td>0.061</td>\n",
       "      <td>0.522</td>\n",
       "      <td>0.083</td>\n",
       "      <td>0.067</td>\n",
       "      <td>0.694</td>\n",
       "      <td>0.150</td>\n",
       "      <td>0.033</td>\n",
       "    </tr>\n",
       "    <tr>\n",
       "      <th>2254</th>\n",
       "      <td>32K562</td>\n",
       "      <td>Bob</td>\n",
       "      <td>brooklyn</td>\n",
       "      <td>Middle</td>\n",
       "      <td>370</td>\n",
       "      <td>Subbed at this school Twice, admins are rude, ...</td>\n",
       "      <td>0</td>\n",
       "      <td>0</td>\n",
       "      <td>0</td>\n",
       "      <td>2019-12-04T18:02:31</td>\n",
       "      <td>...</td>\n",
       "      <td>0.230</td>\n",
       "      <td>0.057</td>\n",
       "      <td>0.877</td>\n",
       "      <td>0.246</td>\n",
       "      <td>0.843</td>\n",
       "      <td>0.008</td>\n",
       "      <td>0.219</td>\n",
       "      <td>0.754</td>\n",
       "      <td>0.019</td>\n",
       "      <td>0.138</td>\n",
       "    </tr>\n",
       "    <tr>\n",
       "      <th>2255</th>\n",
       "      <td>32K562</td>\n",
       "      <td>Your mad</td>\n",
       "      <td>brooklyn</td>\n",
       "      <td>Middle</td>\n",
       "      <td>370</td>\n",
       "      <td>I’m his school is very good you are just mad b...</td>\n",
       "      <td>0</td>\n",
       "      <td>0</td>\n",
       "      <td>1</td>\n",
       "      <td>2020-03-09T22:35:37</td>\n",
       "      <td>...</td>\n",
       "      <td>0.230</td>\n",
       "      <td>0.057</td>\n",
       "      <td>0.877</td>\n",
       "      <td>0.246</td>\n",
       "      <td>0.843</td>\n",
       "      <td>0.008</td>\n",
       "      <td>0.219</td>\n",
       "      <td>0.754</td>\n",
       "      <td>0.019</td>\n",
       "      <td>0.138</td>\n",
       "    </tr>\n",
       "    <tr>\n",
       "      <th>2256</th>\n",
       "      <td>32K562</td>\n",
       "      <td>Guest</td>\n",
       "      <td>brooklyn</td>\n",
       "      <td>Middle</td>\n",
       "      <td>370</td>\n",
       "      <td>The school is located in Bushwick, not East NY</td>\n",
       "      <td>1</td>\n",
       "      <td>0</td>\n",
       "      <td>0</td>\n",
       "      <td>2013-07-01T20:13:44</td>\n",
       "      <td>...</td>\n",
       "      <td>0.230</td>\n",
       "      <td>0.057</td>\n",
       "      <td>0.877</td>\n",
       "      <td>0.246</td>\n",
       "      <td>0.843</td>\n",
       "      <td>0.008</td>\n",
       "      <td>0.219</td>\n",
       "      <td>0.754</td>\n",
       "      <td>0.019</td>\n",
       "      <td>0.138</td>\n",
       "    </tr>\n",
       "  </tbody>\n",
       "</table>\n",
       "<p>5 rows × 22 columns</p>\n",
       "</div>"
      ],
      "text/plain": [
       "         dbn   username   borough grade_level  enrollment  \\\n",
       "2252  32K554  Anonymous  brooklyn      Middle         180   \n",
       "2253  32K554        X.G  brooklyn      Middle         180   \n",
       "2254  32K562        Bob  brooklyn      Middle         370   \n",
       "2255  32K562   Your mad  brooklyn      Middle         370   \n",
       "2256  32K562      Guest  brooklyn      Middle         370   \n",
       "\n",
       "                                                comment  likes  dislikes  \\\n",
       "2252  <P>\"Students gain leadership experience and co...      0         1   \n",
       "2253  When are the open houses? I am an eith grader ...      0         0   \n",
       "2254  Subbed at this school Twice, admins are rude, ...      0         0   \n",
       "2255  I’m his school is very good you are just mad b...      0         0   \n",
       "2256     The school is located in Bushwick, not East NY      1         0   \n",
       "\n",
       "      replies            post_date  ...  pct_disabilities  pct_self_contained  \\\n",
       "2252        0  2005-06-24T20:40:59  ...             0.072               0.000   \n",
       "2253        1  2016-10-19T00:59:06  ...             0.072               0.000   \n",
       "2254        0  2019-12-04T18:02:31  ...             0.230               0.057   \n",
       "2255        1  2020-03-09T22:35:37  ...             0.230               0.057   \n",
       "2256        0  2013-07-01T20:13:44  ...             0.230               0.057   \n",
       "\n",
       "      economic_need_index  pct_temp_housing  pct_hra_eligible  pct_asian  \\\n",
       "2252                0.948             0.061             0.522      0.083   \n",
       "2253                0.948             0.061             0.522      0.083   \n",
       "2254                0.877             0.246             0.843      0.008   \n",
       "2255                0.877             0.246             0.843      0.008   \n",
       "2256                0.877             0.246             0.843      0.008   \n",
       "\n",
       "      pct_black  pct_hispanic  pct_white  pct_chronic_absent  \n",
       "2252      0.067         0.694      0.150               0.033  \n",
       "2253      0.067         0.694      0.150               0.033  \n",
       "2254      0.219         0.754      0.019               0.138  \n",
       "2255      0.219         0.754      0.019               0.138  \n",
       "2256      0.219         0.754      0.019               0.138  \n",
       "\n",
       "[5 rows x 22 columns]"
      ]
     },
     "execution_count": 14,
     "metadata": {},
     "output_type": "execute_result"
    }
   ],
   "source": [
    "batch_df.tail()"
   ]
  },
  {
   "cell_type": "markdown",
   "metadata": {},
   "source": [
    "---"
   ]
  },
  {
   "cell_type": "markdown",
   "metadata": {},
   "source": [
    "### Convert data frame to CSV and export"
   ]
  },
  {
   "cell_type": "code",
   "execution_count": 20,
   "metadata": {},
   "outputs": [],
   "source": [
    "batch_df.to_csv('925-1076_comments.csv', index=False)"
   ]
  },
  {
   "cell_type": "markdown",
   "metadata": {},
   "source": []
  },
  {
   "cell_type": "markdown",
   "metadata": {},
   "source": []
  },
  {
   "cell_type": "markdown",
   "metadata": {},
   "source": []
  },
  {
   "cell_type": "code",
   "execution_count": 16,
   "metadata": {},
   "outputs": [],
   "source": [
    "# batch_df.loc[(batch_df['dbn'] == '01M019') & (batch_df['replies'] > 0)].iloc[1][2]"
   ]
  },
  {
   "cell_type": "code",
   "execution_count": 17,
   "metadata": {},
   "outputs": [],
   "source": [
    "# batch_df.comment.iloc[0]"
   ]
  },
  {
   "cell_type": "code",
   "execution_count": 18,
   "metadata": {},
   "outputs": [],
   "source": [
    "# batch_df.comment.str.len().max"
   ]
  },
  {
   "cell_type": "code",
   "execution_count": 19,
   "metadata": {},
   "outputs": [],
   "source": [
    "# # Number of comments per school\n",
    "# batch_df.dbn.value_counts()"
   ]
  }
 ],
 "metadata": {
  "kernelspec": {
   "display_name": "Python 3",
   "language": "python",
   "name": "python3"
  },
  "language_info": {
   "codemirror_mode": {
    "name": "ipython",
    "version": 3
   },
   "file_extension": ".py",
   "mimetype": "text/x-python",
   "name": "python",
   "nbconvert_exporter": "python",
   "pygments_lexer": "ipython3",
   "version": "3.7.6"
  }
 },
 "nbformat": 4,
 "nbformat_minor": 4
}
