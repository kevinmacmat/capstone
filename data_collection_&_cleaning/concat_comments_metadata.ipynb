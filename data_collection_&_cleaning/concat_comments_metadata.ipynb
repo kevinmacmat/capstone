{
 "cells": [
  {
   "cell_type": "code",
   "execution_count": 1,
   "metadata": {},
   "outputs": [],
   "source": [
    "import pandas as pd"
   ]
  },
  {
   "cell_type": "code",
   "execution_count": 2,
   "metadata": {},
   "outputs": [],
   "source": [
    "# Read in csv's then concat them into a single dataframe\n",
    "df_1 = pd.read_csv('/Users/kevinmacmat/Documents/flatiron/module_projects/capstone/csv/0-200_comments.csv')\n",
    "df_2 = pd.read_csv('/Users/kevinmacmat/Documents/flatiron/module_projects/capstone/csv/200-300_comments.csv')\n",
    "df_3 = pd.read_csv('/Users/kevinmacmat/Documents/flatiron/module_projects/capstone/csv/300-350_comments.csv')\n",
    "df_4 = pd.read_csv('/Users/kevinmacmat/Documents/flatiron/module_projects/capstone/csv/350-400_comments.csv')\n",
    "df_5 = pd.read_csv('/Users/kevinmacmat/Documents/flatiron/module_projects/capstone/csv/400-425_comments.csv')\n",
    "df_6 = pd.read_csv('/Users/kevinmacmat/Documents/flatiron/module_projects/capstone/csv/425-500_comments.csv')\n",
    "df_7 = pd.read_csv('/Users/kevinmacmat/Documents/flatiron/module_projects/capstone/csv/500-750_comments.csv')\n",
    "df_8 = pd.read_csv('/Users/kevinmacmat/Documents/flatiron/module_projects/capstone/csv/750-800_comments.csv')\n",
    "df_9 = pd.read_csv('/Users/kevinmacmat/Documents/flatiron/module_projects/capstone/csv/800-900_comments.csv')\n",
    "df_10 = pd.read_csv('/Users/kevinmacmat/Documents/flatiron/module_projects/capstone/csv/900-925_comments.csv')\n",
    "df_11 = pd.read_csv('/Users/kevinmacmat/Documents/flatiron/module_projects/capstone/csv/925-1076_comments.csv')\n",
    "df = pd.concat([df_1, df_2, df_3, df_4, df_5, df_6, df_7, df_8, df_9, df_10, df_11], ignore_index = True)"
   ]
  },
  {
   "cell_type": "code",
   "execution_count": 3,
   "metadata": {},
   "outputs": [],
   "source": [
    "# Remove entries with no comments.\n",
    "df = df.dropna()\n",
    "df = df[df['comment'] != '.']"
   ]
  },
  {
   "cell_type": "markdown",
   "metadata": {},
   "source": [
    "---"
   ]
  },
  {
   "cell_type": "markdown",
   "metadata": {},
   "source": [
    "## Cleaning"
   ]
  },
  {
   "cell_type": "markdown",
   "metadata": {},
   "source": [
    "---"
   ]
  },
  {
   "cell_type": "markdown",
   "metadata": {},
   "source": [
    "**Format Date and Time:**"
   ]
  },
  {
   "cell_type": "markdown",
   "metadata": {},
   "source": [
    "Format date and time to include year, month, day, and hour instead of a timestamp."
   ]
  },
  {
   "cell_type": "code",
   "execution_count": 4,
   "metadata": {},
   "outputs": [],
   "source": [
    "# Remove \"T\" character in timestamp to access time\n",
    "df['post_date'] = df['post_date'].str.replace('T', ' ')\n",
    "# Convert series to datetime\n",
    "df['post_date'] = pd.to_datetime(df['post_date'])\n",
    "# Create columns for comments' year, month, day, and hour\n",
    "df['post_year'] = pd.DatetimeIndex(df['post_date']).year\n",
    "df['post_month'] = pd.DatetimeIndex(df['post_date']).month\n",
    "df['post_day'] = pd.DatetimeIndex(df['post_date']).day\n",
    "df['post_hour'] = df['post_date'].dt.hour\n",
    "# Drop post_date column\n",
    "df = df.drop(['post_date'], axis=1)"
   ]
  },
  {
   "cell_type": "markdown",
   "metadata": {},
   "source": [
    "**Remove Unwanted Text:**"
   ]
  },
  {
   "cell_type": "code",
   "execution_count": 5,
   "metadata": {},
   "outputs": [],
   "source": [
    "# Remove paragraph tags\n",
    "df = df.replace(to_replace ='</ ?[pP]>', value = '', regex = True)\n",
    "df = df.replace(to_replace='<[pP]>', value='', regex=True)\n",
    "# Remove hyperlinks\n",
    "df = df.replace(to_replace='<[aA].*</[aA]>', value='', regex=True)\n",
    "# Remove newline\n",
    "df = df.replace(to_replace='\\n', value='', regex=True)\n",
    "# Remove non breaking space\n",
    "df = df.replace(to_replace='\\xa0', value='', regex=True)\n",
    "# Remove characters: &nbsp;\n",
    "df = df.replace(to_replace='&nbsp;', value='', regex=True)\n",
    "# Remove font definitions\n",
    "df = df.replace(to_replace='<!--.*-->', value='', regex=True)"
   ]
  },
  {
   "cell_type": "markdown",
   "metadata": {},
   "source": [
    "---"
   ]
  },
  {
   "cell_type": "markdown",
   "metadata": {},
   "source": [
    "## Create CSV"
   ]
  },
  {
   "cell_type": "markdown",
   "metadata": {},
   "source": [
    "---"
   ]
  },
  {
   "cell_type": "code",
   "execution_count": 7,
   "metadata": {},
   "outputs": [],
   "source": [
    "# Create CSV\n",
    "df.to_csv('comments_metadata.csv', index=False)"
   ]
  }
 ],
 "metadata": {
  "kernelspec": {
   "display_name": "Python 3",
   "language": "python",
   "name": "python3"
  },
  "language_info": {
   "codemirror_mode": {
    "name": "ipython",
    "version": 3
   },
   "file_extension": ".py",
   "mimetype": "text/x-python",
   "name": "python",
   "nbconvert_exporter": "python",
   "pygments_lexer": "ipython3",
   "version": "3.7.6"
  }
 },
 "nbformat": 4,
 "nbformat_minor": 4
}
