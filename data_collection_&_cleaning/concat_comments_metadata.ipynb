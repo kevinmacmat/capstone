{
 "cells": [
  {
   "cell_type": "code",
   "execution_count": 20,
   "metadata": {},
   "outputs": [],
   "source": [
    "import pandas as pd"
   ]
  },
  {
   "cell_type": "code",
   "execution_count": 3,
   "metadata": {},
   "outputs": [],
   "source": [
    "df_1 = pd.read_csv('/Users/kevinmacmat/Documents/flatiron/module_projects/capstone/csv/0-200_comments.csv')"
   ]
  },
  {
   "cell_type": "code",
   "execution_count": 4,
   "metadata": {},
   "outputs": [],
   "source": [
    "df_2 = pd.read_csv('/Users/kevinmacmat/Documents/flatiron/module_projects/capstone/csv/200-300_comments.csv')"
   ]
  },
  {
   "cell_type": "code",
   "execution_count": 5,
   "metadata": {},
   "outputs": [],
   "source": [
    "df_3 = pd.read_csv('/Users/kevinmacmat/Documents/flatiron/module_projects/capstone/csv/300-350_comments.csv')"
   ]
  },
  {
   "cell_type": "code",
   "execution_count": 6,
   "metadata": {},
   "outputs": [],
   "source": [
    "df_4 = pd.read_csv('/Users/kevinmacmat/Documents/flatiron/module_projects/capstone/csv/350-400_comments.csv')"
   ]
  },
  {
   "cell_type": "code",
   "execution_count": 7,
   "metadata": {},
   "outputs": [],
   "source": [
    "df_5 = pd.read_csv('/Users/kevinmacmat/Documents/flatiron/module_projects/capstone/csv/400-425_comments.csv')"
   ]
  },
  {
   "cell_type": "code",
   "execution_count": 8,
   "metadata": {},
   "outputs": [],
   "source": [
    "df_6 = pd.read_csv('/Users/kevinmacmat/Documents/flatiron/module_projects/capstone/csv/425-500_comments.csv')"
   ]
  },
  {
   "cell_type": "code",
   "execution_count": 9,
   "metadata": {},
   "outputs": [],
   "source": [
    "df_7 = pd.read_csv('/Users/kevinmacmat/Documents/flatiron/module_projects/capstone/csv/500-750_comments.csv')"
   ]
  },
  {
   "cell_type": "code",
   "execution_count": 10,
   "metadata": {},
   "outputs": [],
   "source": [
    "df_8 = pd.read_csv('/Users/kevinmacmat/Documents/flatiron/module_projects/capstone/csv/750-800_comments.csv')"
   ]
  },
  {
   "cell_type": "code",
   "execution_count": 11,
   "metadata": {},
   "outputs": [],
   "source": [
    "df_9 = pd.read_csv('/Users/kevinmacmat/Documents/flatiron/module_projects/capstone/csv/800-900_comments.csv')"
   ]
  },
  {
   "cell_type": "code",
   "execution_count": 12,
   "metadata": {},
   "outputs": [],
   "source": [
    "df_10 = pd.read_csv('/Users/kevinmacmat/Documents/flatiron/module_projects/capstone/csv/900-925_comments.csv')"
   ]
  },
  {
   "cell_type": "code",
   "execution_count": 13,
   "metadata": {},
   "outputs": [],
   "source": [
    "df_11 = pd.read_csv('/Users/kevinmacmat/Documents/flatiron/module_projects/capstone/csv/925-1076_comments.csv')"
   ]
  },
  {
   "cell_type": "code",
   "execution_count": 14,
   "metadata": {},
   "outputs": [],
   "source": [
    "df = pd.concat([df_1, df_2, df_3, df_4, df_5, df_6, df_7, df_8, df_9, df_10, df_11], ignore_index = True)"
   ]
  },
  {
   "cell_type": "code",
   "execution_count": 16,
   "metadata": {},
   "outputs": [
    {
     "data": {
      "text/plain": [
       "(22810, 22)"
      ]
     },
     "execution_count": 16,
     "metadata": {},
     "output_type": "execute_result"
    }
   ],
   "source": [
    "df.shape"
   ]
  },
  {
   "cell_type": "code",
   "execution_count": 17,
   "metadata": {},
   "outputs": [
    {
     "data": {
      "text/plain": [
       "Index(['dbn', 'username', 'borough', 'grade_level', 'enrollment', 'comment',\n",
       "       'likes', 'dislikes', 'replies', 'post_date', 'fam_comm_ties', 'pct_ell',\n",
       "       'pct_disabilities', 'pct_self_contained', 'economic_need_index',\n",
       "       'pct_temp_housing', 'pct_hra_eligible', 'pct_asian', 'pct_black',\n",
       "       'pct_hispanic', 'pct_white', 'pct_chronic_absent'],\n",
       "      dtype='object')"
      ]
     },
     "execution_count": 17,
     "metadata": {},
     "output_type": "execute_result"
    }
   ],
   "source": [
    "df.columns"
   ]
  },
  {
   "cell_type": "code",
   "execution_count": 18,
   "metadata": {},
   "outputs": [
    {
     "data": {
      "text/html": [
       "<div>\n",
       "<style scoped>\n",
       "    .dataframe tbody tr th:only-of-type {\n",
       "        vertical-align: middle;\n",
       "    }\n",
       "\n",
       "    .dataframe tbody tr th {\n",
       "        vertical-align: top;\n",
       "    }\n",
       "\n",
       "    .dataframe thead th {\n",
       "        text-align: right;\n",
       "    }\n",
       "</style>\n",
       "<table border=\"1\" class=\"dataframe\">\n",
       "  <thead>\n",
       "    <tr style=\"text-align: right;\">\n",
       "      <th></th>\n",
       "      <th>dbn</th>\n",
       "      <th>username</th>\n",
       "      <th>borough</th>\n",
       "      <th>grade_level</th>\n",
       "      <th>enrollment</th>\n",
       "      <th>comment</th>\n",
       "      <th>likes</th>\n",
       "      <th>dislikes</th>\n",
       "      <th>replies</th>\n",
       "      <th>post_date</th>\n",
       "      <th>...</th>\n",
       "      <th>pct_disabilities</th>\n",
       "      <th>pct_self_contained</th>\n",
       "      <th>economic_need_index</th>\n",
       "      <th>pct_temp_housing</th>\n",
       "      <th>pct_hra_eligible</th>\n",
       "      <th>pct_asian</th>\n",
       "      <th>pct_black</th>\n",
       "      <th>pct_hispanic</th>\n",
       "      <th>pct_white</th>\n",
       "      <th>pct_chronic_absent</th>\n",
       "    </tr>\n",
       "  </thead>\n",
       "  <tbody>\n",
       "    <tr>\n",
       "      <th>22805</th>\n",
       "      <td>32K554</td>\n",
       "      <td>Anonymous</td>\n",
       "      <td>brooklyn</td>\n",
       "      <td>Middle</td>\n",
       "      <td>180</td>\n",
       "      <td>&lt;P&gt;\"Students gain leadership experience and co...</td>\n",
       "      <td>0</td>\n",
       "      <td>1</td>\n",
       "      <td>0</td>\n",
       "      <td>2005-06-24T20:40:59</td>\n",
       "      <td>...</td>\n",
       "      <td>0.072</td>\n",
       "      <td>0.000</td>\n",
       "      <td>0.948</td>\n",
       "      <td>0.061</td>\n",
       "      <td>0.522</td>\n",
       "      <td>0.083</td>\n",
       "      <td>0.067</td>\n",
       "      <td>0.694</td>\n",
       "      <td>0.150</td>\n",
       "      <td>0.033</td>\n",
       "    </tr>\n",
       "    <tr>\n",
       "      <th>22806</th>\n",
       "      <td>32K554</td>\n",
       "      <td>X.G</td>\n",
       "      <td>brooklyn</td>\n",
       "      <td>Middle</td>\n",
       "      <td>180</td>\n",
       "      <td>When are the open houses? I am an eith grader ...</td>\n",
       "      <td>0</td>\n",
       "      <td>0</td>\n",
       "      <td>1</td>\n",
       "      <td>2016-10-19T00:59:06</td>\n",
       "      <td>...</td>\n",
       "      <td>0.072</td>\n",
       "      <td>0.000</td>\n",
       "      <td>0.948</td>\n",
       "      <td>0.061</td>\n",
       "      <td>0.522</td>\n",
       "      <td>0.083</td>\n",
       "      <td>0.067</td>\n",
       "      <td>0.694</td>\n",
       "      <td>0.150</td>\n",
       "      <td>0.033</td>\n",
       "    </tr>\n",
       "    <tr>\n",
       "      <th>22807</th>\n",
       "      <td>32K562</td>\n",
       "      <td>Bob</td>\n",
       "      <td>brooklyn</td>\n",
       "      <td>Middle</td>\n",
       "      <td>370</td>\n",
       "      <td>Subbed at this school Twice, admins are rude, ...</td>\n",
       "      <td>0</td>\n",
       "      <td>0</td>\n",
       "      <td>0</td>\n",
       "      <td>2019-12-04T18:02:31</td>\n",
       "      <td>...</td>\n",
       "      <td>0.230</td>\n",
       "      <td>0.057</td>\n",
       "      <td>0.877</td>\n",
       "      <td>0.246</td>\n",
       "      <td>0.843</td>\n",
       "      <td>0.008</td>\n",
       "      <td>0.219</td>\n",
       "      <td>0.754</td>\n",
       "      <td>0.019</td>\n",
       "      <td>0.138</td>\n",
       "    </tr>\n",
       "    <tr>\n",
       "      <th>22808</th>\n",
       "      <td>32K562</td>\n",
       "      <td>Your mad</td>\n",
       "      <td>brooklyn</td>\n",
       "      <td>Middle</td>\n",
       "      <td>370</td>\n",
       "      <td>I’m his school is very good you are just mad b...</td>\n",
       "      <td>0</td>\n",
       "      <td>0</td>\n",
       "      <td>1</td>\n",
       "      <td>2020-03-09T22:35:37</td>\n",
       "      <td>...</td>\n",
       "      <td>0.230</td>\n",
       "      <td>0.057</td>\n",
       "      <td>0.877</td>\n",
       "      <td>0.246</td>\n",
       "      <td>0.843</td>\n",
       "      <td>0.008</td>\n",
       "      <td>0.219</td>\n",
       "      <td>0.754</td>\n",
       "      <td>0.019</td>\n",
       "      <td>0.138</td>\n",
       "    </tr>\n",
       "    <tr>\n",
       "      <th>22809</th>\n",
       "      <td>32K562</td>\n",
       "      <td>Guest</td>\n",
       "      <td>brooklyn</td>\n",
       "      <td>Middle</td>\n",
       "      <td>370</td>\n",
       "      <td>The school is located in Bushwick, not East NY</td>\n",
       "      <td>1</td>\n",
       "      <td>0</td>\n",
       "      <td>0</td>\n",
       "      <td>2013-07-01T20:13:44</td>\n",
       "      <td>...</td>\n",
       "      <td>0.230</td>\n",
       "      <td>0.057</td>\n",
       "      <td>0.877</td>\n",
       "      <td>0.246</td>\n",
       "      <td>0.843</td>\n",
       "      <td>0.008</td>\n",
       "      <td>0.219</td>\n",
       "      <td>0.754</td>\n",
       "      <td>0.019</td>\n",
       "      <td>0.138</td>\n",
       "    </tr>\n",
       "  </tbody>\n",
       "</table>\n",
       "<p>5 rows × 22 columns</p>\n",
       "</div>"
      ],
      "text/plain": [
       "          dbn   username   borough grade_level  enrollment  \\\n",
       "22805  32K554  Anonymous  brooklyn      Middle         180   \n",
       "22806  32K554        X.G  brooklyn      Middle         180   \n",
       "22807  32K562        Bob  brooklyn      Middle         370   \n",
       "22808  32K562   Your mad  brooklyn      Middle         370   \n",
       "22809  32K562      Guest  brooklyn      Middle         370   \n",
       "\n",
       "                                                 comment  likes  dislikes  \\\n",
       "22805  <P>\"Students gain leadership experience and co...      0         1   \n",
       "22806  When are the open houses? I am an eith grader ...      0         0   \n",
       "22807  Subbed at this school Twice, admins are rude, ...      0         0   \n",
       "22808  I’m his school is very good you are just mad b...      0         0   \n",
       "22809     The school is located in Bushwick, not East NY      1         0   \n",
       "\n",
       "       replies            post_date  ...  pct_disabilities  \\\n",
       "22805        0  2005-06-24T20:40:59  ...             0.072   \n",
       "22806        1  2016-10-19T00:59:06  ...             0.072   \n",
       "22807        0  2019-12-04T18:02:31  ...             0.230   \n",
       "22808        1  2020-03-09T22:35:37  ...             0.230   \n",
       "22809        0  2013-07-01T20:13:44  ...             0.230   \n",
       "\n",
       "       pct_self_contained  economic_need_index  pct_temp_housing  \\\n",
       "22805               0.000                0.948             0.061   \n",
       "22806               0.000                0.948             0.061   \n",
       "22807               0.057                0.877             0.246   \n",
       "22808               0.057                0.877             0.246   \n",
       "22809               0.057                0.877             0.246   \n",
       "\n",
       "       pct_hra_eligible  pct_asian  pct_black  pct_hispanic  pct_white  \\\n",
       "22805             0.522      0.083      0.067         0.694      0.150   \n",
       "22806             0.522      0.083      0.067         0.694      0.150   \n",
       "22807             0.843      0.008      0.219         0.754      0.019   \n",
       "22808             0.843      0.008      0.219         0.754      0.019   \n",
       "22809             0.843      0.008      0.219         0.754      0.019   \n",
       "\n",
       "       pct_chronic_absent  \n",
       "22805               0.033  \n",
       "22806               0.033  \n",
       "22807               0.138  \n",
       "22808               0.138  \n",
       "22809               0.138  \n",
       "\n",
       "[5 rows x 22 columns]"
      ]
     },
     "execution_count": 18,
     "metadata": {},
     "output_type": "execute_result"
    }
   ],
   "source": [
    "df.tail()"
   ]
  },
  {
   "cell_type": "code",
   "execution_count": 40,
   "metadata": {},
   "outputs": [
    {
     "name": "stdout",
     "output_type": "stream",
     "text": [
      "comment contains 0 missing values.\n"
     ]
    }
   ],
   "source": [
    "missing_count = []\n",
    "for x in df.iloc[:,5].isna():\n",
    "    if x:\n",
    "        missing_count.append(x)\n",
    "    else:\n",
    "        continue\n",
    "for x in df.iloc[:,5]:   \n",
    "    if x == '.':\n",
    "        missing_count.append(x)\n",
    "    else:\n",
    "        continue\n",
    "print(str(df.iloc[:,5].name) + ' contains '+ str(len(missing_count)) + ' missing values.')"
   ]
  },
  {
   "cell_type": "code",
   "execution_count": 38,
   "metadata": {},
   "outputs": [
    {
     "data": {
      "text/html": [
       "<div>\n",
       "<style scoped>\n",
       "    .dataframe tbody tr th:only-of-type {\n",
       "        vertical-align: middle;\n",
       "    }\n",
       "\n",
       "    .dataframe tbody tr th {\n",
       "        vertical-align: top;\n",
       "    }\n",
       "\n",
       "    .dataframe thead th {\n",
       "        text-align: right;\n",
       "    }\n",
       "</style>\n",
       "<table border=\"1\" class=\"dataframe\">\n",
       "  <thead>\n",
       "    <tr style=\"text-align: right;\">\n",
       "      <th></th>\n",
       "      <th>dbn</th>\n",
       "      <th>username</th>\n",
       "      <th>borough</th>\n",
       "      <th>grade_level</th>\n",
       "      <th>enrollment</th>\n",
       "      <th>comment</th>\n",
       "      <th>likes</th>\n",
       "      <th>dislikes</th>\n",
       "      <th>replies</th>\n",
       "      <th>post_date</th>\n",
       "      <th>...</th>\n",
       "      <th>pct_disabilities</th>\n",
       "      <th>pct_self_contained</th>\n",
       "      <th>economic_need_index</th>\n",
       "      <th>pct_temp_housing</th>\n",
       "      <th>pct_hra_eligible</th>\n",
       "      <th>pct_asian</th>\n",
       "      <th>pct_black</th>\n",
       "      <th>pct_hispanic</th>\n",
       "      <th>pct_white</th>\n",
       "      <th>pct_chronic_absent</th>\n",
       "    </tr>\n",
       "  </thead>\n",
       "  <tbody>\n",
       "    <tr>\n",
       "      <th>1427</th>\n",
       "      <td>02M130</td>\n",
       "      <td>madmin14</td>\n",
       "      <td>manhattan</td>\n",
       "      <td>Elementary</td>\n",
       "      <td>823</td>\n",
       "      <td>.</td>\n",
       "      <td>2</td>\n",
       "      <td>0</td>\n",
       "      <td>1</td>\n",
       "      <td>2013-04-10T01:53:25</td>\n",
       "      <td>...</td>\n",
       "      <td>0.169</td>\n",
       "      <td>0.023</td>\n",
       "      <td>0.564</td>\n",
       "      <td>0.030</td>\n",
       "      <td>0.429</td>\n",
       "      <td>0.880</td>\n",
       "      <td>0.009</td>\n",
       "      <td>0.049</td>\n",
       "      <td>0.029</td>\n",
       "      <td>0.028</td>\n",
       "    </tr>\n",
       "    <tr>\n",
       "      <th>3998</th>\n",
       "      <td>04M108</td>\n",
       "      <td>Guest</td>\n",
       "      <td>manhattan</td>\n",
       "      <td>K-8</td>\n",
       "      <td>417</td>\n",
       "      <td>.</td>\n",
       "      <td>0</td>\n",
       "      <td>0</td>\n",
       "      <td>0</td>\n",
       "      <td>2014-02-07T15:55:51</td>\n",
       "      <td>...</td>\n",
       "      <td>0.345</td>\n",
       "      <td>0.094</td>\n",
       "      <td>0.942</td>\n",
       "      <td>0.225</td>\n",
       "      <td>0.892</td>\n",
       "      <td>0.034</td>\n",
       "      <td>0.336</td>\n",
       "      <td>0.590</td>\n",
       "      <td>0.026</td>\n",
       "      <td>0.427</td>\n",
       "    </tr>\n",
       "    <tr>\n",
       "      <th>4864</th>\n",
       "      <td>06M115</td>\n",
       "      <td>mickeroni</td>\n",
       "      <td>manhattan</td>\n",
       "      <td>Elementary</td>\n",
       "      <td>418</td>\n",
       "      <td>.</td>\n",
       "      <td>0</td>\n",
       "      <td>0</td>\n",
       "      <td>0</td>\n",
       "      <td>2012-12-04T20:47:21</td>\n",
       "      <td>...</td>\n",
       "      <td>0.215</td>\n",
       "      <td>0.100</td>\n",
       "      <td>0.920</td>\n",
       "      <td>0.280</td>\n",
       "      <td>0.844</td>\n",
       "      <td>0.012</td>\n",
       "      <td>0.007</td>\n",
       "      <td>0.945</td>\n",
       "      <td>0.031</td>\n",
       "      <td>0.340</td>\n",
       "    </tr>\n",
       "    <tr>\n",
       "      <th>8612</th>\n",
       "      <td>11X468</td>\n",
       "      <td>nichaja patterson</td>\n",
       "      <td>bronx</td>\n",
       "      <td>Middle</td>\n",
       "      <td>332</td>\n",
       "      <td>.</td>\n",
       "      <td>0</td>\n",
       "      <td>0</td>\n",
       "      <td>0</td>\n",
       "      <td>2013-04-20T01:51:56</td>\n",
       "      <td>...</td>\n",
       "      <td>0.232</td>\n",
       "      <td>0.048</td>\n",
       "      <td>0.378</td>\n",
       "      <td>0.133</td>\n",
       "      <td>0.699</td>\n",
       "      <td>0.087</td>\n",
       "      <td>0.169</td>\n",
       "      <td>0.611</td>\n",
       "      <td>0.130</td>\n",
       "      <td>0.283</td>\n",
       "    </tr>\n",
       "  </tbody>\n",
       "</table>\n",
       "<p>4 rows × 22 columns</p>\n",
       "</div>"
      ],
      "text/plain": [
       "         dbn           username    borough grade_level  enrollment comment  \\\n",
       "1427  02M130           madmin14  manhattan  Elementary         823       .   \n",
       "3998  04M108              Guest  manhattan         K-8         417       .   \n",
       "4864  06M115          mickeroni  manhattan  Elementary         418       .   \n",
       "8612  11X468  nichaja patterson      bronx      Middle         332       .   \n",
       "\n",
       "      likes  dislikes  replies            post_date  ...  pct_disabilities  \\\n",
       "1427      2         0        1  2013-04-10T01:53:25  ...             0.169   \n",
       "3998      0         0        0  2014-02-07T15:55:51  ...             0.345   \n",
       "4864      0         0        0  2012-12-04T20:47:21  ...             0.215   \n",
       "8612      0         0        0  2013-04-20T01:51:56  ...             0.232   \n",
       "\n",
       "      pct_self_contained  economic_need_index  pct_temp_housing  \\\n",
       "1427               0.023                0.564             0.030   \n",
       "3998               0.094                0.942             0.225   \n",
       "4864               0.100                0.920             0.280   \n",
       "8612               0.048                0.378             0.133   \n",
       "\n",
       "      pct_hra_eligible  pct_asian  pct_black  pct_hispanic  pct_white  \\\n",
       "1427             0.429      0.880      0.009         0.049      0.029   \n",
       "3998             0.892      0.034      0.336         0.590      0.026   \n",
       "4864             0.844      0.012      0.007         0.945      0.031   \n",
       "8612             0.699      0.087      0.169         0.611      0.130   \n",
       "\n",
       "      pct_chronic_absent  \n",
       "1427               0.028  \n",
       "3998               0.427  \n",
       "4864               0.340  \n",
       "8612               0.283  \n",
       "\n",
       "[4 rows x 22 columns]"
      ]
     },
     "execution_count": 38,
     "metadata": {},
     "output_type": "execute_result"
    }
   ],
   "source": [
    "df[df['comment'] == '.']"
   ]
  },
  {
   "cell_type": "code",
   "execution_count": 39,
   "metadata": {},
   "outputs": [],
   "source": [
    "df = df[df['comment'] != '.']"
   ]
  },
  {
   "cell_type": "code",
   "execution_count": 31,
   "metadata": {},
   "outputs": [],
   "source": [
    "df = df.dropna()"
   ]
  },
  {
   "cell_type": "code",
   "execution_count": null,
   "metadata": {},
   "outputs": [],
   "source": []
  }
 ],
 "metadata": {
  "kernelspec": {
   "display_name": "Python 3",
   "language": "python",
   "name": "python3"
  },
  "language_info": {
   "codemirror_mode": {
    "name": "ipython",
    "version": 3
   },
   "file_extension": ".py",
   "mimetype": "text/x-python",
   "name": "python",
   "nbconvert_exporter": "python",
   "pygments_lexer": "ipython3",
   "version": "3.7.6"
  }
 },
 "nbformat": 4,
 "nbformat_minor": 4
}
