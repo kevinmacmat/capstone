{
 "cells": [
  {
   "cell_type": "code",
   "execution_count": 1,
   "metadata": {},
   "outputs": [],
   "source": [
    "import pandas as pd"
   ]
  },
  {
   "cell_type": "code",
   "execution_count": 2,
   "metadata": {},
   "outputs": [],
   "source": [
    "# Read in csv's then concat them into a single dataframe\n",
    "df_1 = pd.read_csv('/Users/kevinmacmat/Documents/flatiron/module_projects/capstone/csv/batch_scraped_csv/0-200_comments.csv')\n",
    "df_2 = pd.read_csv('/Users/kevinmacmat/Documents/flatiron/module_projects/capstone/csv/batch_scraped_csv/200-300_comments.csv')\n",
    "df_3 = pd.read_csv('/Users/kevinmacmat/Documents/flatiron/module_projects/capstone/csv/batch_scraped_csv/300-350_comments.csv')\n",
    "df_4 = pd.read_csv('/Users/kevinmacmat/Documents/flatiron/module_projects/capstone/csv/batch_scraped_csv/350-400_comments.csv')\n",
    "df_5 = pd.read_csv('/Users/kevinmacmat/Documents/flatiron/module_projects/capstone/csv/batch_scraped_csv/400-425_comments.csv')\n",
    "df_6 = pd.read_csv('/Users/kevinmacmat/Documents/flatiron/module_projects/capstone/csv/batch_scraped_csv/425-500_comments.csv')\n",
    "df_7 = pd.read_csv('/Users/kevinmacmat/Documents/flatiron/module_projects/capstone/csv/batch_scraped_csv/500-750_comments.csv')\n",
    "df_8 = pd.read_csv('/Users/kevinmacmat/Documents/flatiron/module_projects/capstone/csv/batch_scraped_csv/750-800_comments.csv')\n",
    "df_9 = pd.read_csv('/Users/kevinmacmat/Documents/flatiron/module_projects/capstone/csv/batch_scraped_csv/800-900_comments.csv')\n",
    "df_10 = pd.read_csv('/Users/kevinmacmat/Documents/flatiron/module_projects/capstone/csv/batch_scraped_csv/900-925_comments.csv')\n",
    "df_11 = pd.read_csv('/Users/kevinmacmat/Documents/flatiron/module_projects/capstone/csv/batch_scraped_csv/925-1076_comments.csv')\n",
    "df = pd.concat([df_1, df_2, df_3, df_4, df_5, df_6, df_7, df_8, df_9, df_10, df_11], ignore_index = True)"
   ]
  },
  {
   "cell_type": "code",
   "execution_count": 12,
   "metadata": {},
   "outputs": [
    {
     "data": {
      "text/html": [
       "<div>\n",
       "<style scoped>\n",
       "    .dataframe tbody tr th:only-of-type {\n",
       "        vertical-align: middle;\n",
       "    }\n",
       "\n",
       "    .dataframe tbody tr th {\n",
       "        vertical-align: top;\n",
       "    }\n",
       "\n",
       "    .dataframe thead th {\n",
       "        text-align: right;\n",
       "    }\n",
       "</style>\n",
       "<table border=\"1\" class=\"dataframe\">\n",
       "  <thead>\n",
       "    <tr style=\"text-align: right;\">\n",
       "      <th></th>\n",
       "      <th>dbn</th>\n",
       "      <th>username</th>\n",
       "      <th>borough</th>\n",
       "      <th>grade_level</th>\n",
       "      <th>enrollment</th>\n",
       "      <th>comment</th>\n",
       "      <th>likes</th>\n",
       "      <th>dislikes</th>\n",
       "      <th>replies</th>\n",
       "      <th>post_date</th>\n",
       "      <th>...</th>\n",
       "      <th>pct_disabilities</th>\n",
       "      <th>pct_self_contained</th>\n",
       "      <th>economic_need_index</th>\n",
       "      <th>pct_temp_housing</th>\n",
       "      <th>pct_hra_eligible</th>\n",
       "      <th>pct_asian</th>\n",
       "      <th>pct_black</th>\n",
       "      <th>pct_hispanic</th>\n",
       "      <th>pct_white</th>\n",
       "      <th>pct_chronic_absent</th>\n",
       "    </tr>\n",
       "  </thead>\n",
       "  <tbody>\n",
       "    <tr>\n",
       "      <th>1427</th>\n",
       "      <td>02M130</td>\n",
       "      <td>madmin14</td>\n",
       "      <td>manhattan</td>\n",
       "      <td>Elementary</td>\n",
       "      <td>823</td>\n",
       "      <td>.</td>\n",
       "      <td>2</td>\n",
       "      <td>0</td>\n",
       "      <td>1</td>\n",
       "      <td>2013-04-10T01:53:25</td>\n",
       "      <td>...</td>\n",
       "      <td>0.169</td>\n",
       "      <td>0.023</td>\n",
       "      <td>0.564</td>\n",
       "      <td>0.030</td>\n",
       "      <td>0.429</td>\n",
       "      <td>0.880</td>\n",
       "      <td>0.009</td>\n",
       "      <td>0.049</td>\n",
       "      <td>0.029</td>\n",
       "      <td>0.028</td>\n",
       "    </tr>\n",
       "    <tr>\n",
       "      <th>3998</th>\n",
       "      <td>04M108</td>\n",
       "      <td>Guest</td>\n",
       "      <td>manhattan</td>\n",
       "      <td>K-8</td>\n",
       "      <td>417</td>\n",
       "      <td>.</td>\n",
       "      <td>0</td>\n",
       "      <td>0</td>\n",
       "      <td>0</td>\n",
       "      <td>2014-02-07T15:55:51</td>\n",
       "      <td>...</td>\n",
       "      <td>0.345</td>\n",
       "      <td>0.094</td>\n",
       "      <td>0.942</td>\n",
       "      <td>0.225</td>\n",
       "      <td>0.892</td>\n",
       "      <td>0.034</td>\n",
       "      <td>0.336</td>\n",
       "      <td>0.590</td>\n",
       "      <td>0.026</td>\n",
       "      <td>0.427</td>\n",
       "    </tr>\n",
       "    <tr>\n",
       "      <th>4864</th>\n",
       "      <td>06M115</td>\n",
       "      <td>mickeroni</td>\n",
       "      <td>manhattan</td>\n",
       "      <td>Elementary</td>\n",
       "      <td>418</td>\n",
       "      <td>.</td>\n",
       "      <td>0</td>\n",
       "      <td>0</td>\n",
       "      <td>0</td>\n",
       "      <td>2012-12-04T20:47:21</td>\n",
       "      <td>...</td>\n",
       "      <td>0.215</td>\n",
       "      <td>0.100</td>\n",
       "      <td>0.920</td>\n",
       "      <td>0.280</td>\n",
       "      <td>0.844</td>\n",
       "      <td>0.012</td>\n",
       "      <td>0.007</td>\n",
       "      <td>0.945</td>\n",
       "      <td>0.031</td>\n",
       "      <td>0.340</td>\n",
       "    </tr>\n",
       "    <tr>\n",
       "      <th>8612</th>\n",
       "      <td>11X468</td>\n",
       "      <td>nichaja patterson</td>\n",
       "      <td>bronx</td>\n",
       "      <td>Middle</td>\n",
       "      <td>332</td>\n",
       "      <td>.</td>\n",
       "      <td>0</td>\n",
       "      <td>0</td>\n",
       "      <td>0</td>\n",
       "      <td>2013-04-20T01:51:56</td>\n",
       "      <td>...</td>\n",
       "      <td>0.232</td>\n",
       "      <td>0.048</td>\n",
       "      <td>0.378</td>\n",
       "      <td>0.133</td>\n",
       "      <td>0.699</td>\n",
       "      <td>0.087</td>\n",
       "      <td>0.169</td>\n",
       "      <td>0.611</td>\n",
       "      <td>0.130</td>\n",
       "      <td>0.283</td>\n",
       "    </tr>\n",
       "  </tbody>\n",
       "</table>\n",
       "<p>4 rows × 22 columns</p>\n",
       "</div>"
      ],
      "text/plain": [
       "         dbn           username    borough grade_level  enrollment comment  \\\n",
       "1427  02M130           madmin14  manhattan  Elementary         823       .   \n",
       "3998  04M108              Guest  manhattan         K-8         417       .   \n",
       "4864  06M115          mickeroni  manhattan  Elementary         418       .   \n",
       "8612  11X468  nichaja patterson      bronx      Middle         332       .   \n",
       "\n",
       "      likes  dislikes  replies            post_date  ...  pct_disabilities  \\\n",
       "1427      2         0        1  2013-04-10T01:53:25  ...             0.169   \n",
       "3998      0         0        0  2014-02-07T15:55:51  ...             0.345   \n",
       "4864      0         0        0  2012-12-04T20:47:21  ...             0.215   \n",
       "8612      0         0        0  2013-04-20T01:51:56  ...             0.232   \n",
       "\n",
       "      pct_self_contained  economic_need_index  pct_temp_housing  \\\n",
       "1427               0.023                0.564             0.030   \n",
       "3998               0.094                0.942             0.225   \n",
       "4864               0.100                0.920             0.280   \n",
       "8612               0.048                0.378             0.133   \n",
       "\n",
       "      pct_hra_eligible  pct_asian  pct_black  pct_hispanic  pct_white  \\\n",
       "1427             0.429      0.880      0.009         0.049      0.029   \n",
       "3998             0.892      0.034      0.336         0.590      0.026   \n",
       "4864             0.844      0.012      0.007         0.945      0.031   \n",
       "8612             0.699      0.087      0.169         0.611      0.130   \n",
       "\n",
       "      pct_chronic_absent  \n",
       "1427               0.028  \n",
       "3998               0.427  \n",
       "4864               0.340  \n",
       "8612               0.283  \n",
       "\n",
       "[4 rows x 22 columns]"
      ]
     },
     "execution_count": 12,
     "metadata": {},
     "output_type": "execute_result"
    }
   ],
   "source": [
    "df[df['comment'] == '.']"
   ]
  },
  {
   "cell_type": "code",
   "execution_count": null,
   "metadata": {},
   "outputs": [],
   "source": [
    "# Remove entries with no comments.\n",
    "df = df.dropna()\n",
    "df = df[df['comment'] != '.']"
   ]
  },
  {
   "cell_type": "markdown",
   "metadata": {},
   "source": [
    "---"
   ]
  },
  {
   "cell_type": "markdown",
   "metadata": {},
   "source": [
    "## Cleaning"
   ]
  },
  {
   "cell_type": "markdown",
   "metadata": {},
   "source": [
    "---"
   ]
  },
  {
   "cell_type": "markdown",
   "metadata": {},
   "source": [
    "**Format Date and Time:**"
   ]
  },
  {
   "cell_type": "markdown",
   "metadata": {},
   "source": [
    "Format date and time to include year, month, day, and hour instead of a timestamp."
   ]
  },
  {
   "cell_type": "code",
   "execution_count": null,
   "metadata": {},
   "outputs": [],
   "source": [
    "# Remove \"T\" character in timestamp to access time\n",
    "df['post_date'] = df['post_date'].str.replace('T', ' ')\n",
    "# Convert series to datetime\n",
    "df['post_date'] = pd.to_datetime(df['post_date'])\n",
    "# Create columns for comments' year, month, day, and hour\n",
    "df['post_year'] = pd.DatetimeIndex(df['post_date']).year\n",
    "df['post_month'] = pd.DatetimeIndex(df['post_date']).month\n",
    "df['post_day'] = pd.DatetimeIndex(df['post_date']).day\n",
    "df['post_hour'] = df['post_date'].dt.hour\n",
    "# Drop post_date column\n",
    "df = df.drop(['post_date'], axis=1)"
   ]
  },
  {
   "cell_type": "markdown",
   "metadata": {},
   "source": [
    "**Remove Unwanted Text:**"
   ]
  },
  {
   "cell_type": "code",
   "execution_count": null,
   "metadata": {},
   "outputs": [],
   "source": [
    "# Remove paragraph tags\n",
    "df = df.replace(to_replace ='</ ?[pP]>', value = '', regex = True)\n",
    "df = df.replace(to_replace='<[pP]>', value='', regex=True)\n",
    "# Remove hyperlinks\n",
    "df = df.replace(to_replace='<[aA].*</[aA]>', value='', regex=True)\n",
    "# Remove newline\n",
    "df = df.replace(to_replace='\\n', value='', regex=True)\n",
    "# Remove non breaking space\n",
    "df = df.replace(to_replace='\\xa0', value='', regex=True)\n",
    "# Remove characters: &nbsp;\n",
    "df = df.replace(to_replace='&nbsp;', value='', regex=True)\n",
    "# Remove html comments\n",
    "df = df.replace(to_replace='<!--.*-->', value='', regex=True)"
   ]
  },
  {
   "cell_type": "markdown",
   "metadata": {},
   "source": [
    "---"
   ]
  },
  {
   "cell_type": "markdown",
   "metadata": {},
   "source": [
    "## Create CSV"
   ]
  },
  {
   "cell_type": "markdown",
   "metadata": {},
   "source": [
    "---"
   ]
  },
  {
   "cell_type": "code",
   "execution_count": null,
   "metadata": {},
   "outputs": [],
   "source": [
    "# Create CSV\n",
    "df.to_csv('comments_metadata.csv', index=False)"
   ]
  }
 ],
 "metadata": {
  "kernelspec": {
   "display_name": "Python 3",
   "language": "python",
   "name": "python3"
  },
  "language_info": {
   "codemirror_mode": {
    "name": "ipython",
    "version": 3
   },
   "file_extension": ".py",
   "mimetype": "text/x-python",
   "name": "python",
   "nbconvert_exporter": "python",
   "pygments_lexer": "ipython3",
   "version": "3.7.6"
  }
 },
 "nbformat": 4,
 "nbformat_minor": 4
}
