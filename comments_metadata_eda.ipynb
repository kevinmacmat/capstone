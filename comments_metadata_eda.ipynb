{
 "cells": [
  {
   "cell_type": "markdown",
   "metadata": {},
   "source": [
    "# <font color='black'>**Comments & Metadata EDA**</font>"
   ]
  },
  {
   "cell_type": "markdown",
   "metadata": {},
   "source": [
    "---"
   ]
  },
  {
   "cell_type": "markdown",
   "metadata": {},
   "source": [
    "## Imports and Reading In Data"
   ]
  },
  {
   "cell_type": "markdown",
   "metadata": {},
   "source": [
    "---"
   ]
  },
  {
   "cell_type": "code",
   "execution_count": 1,
   "metadata": {},
   "outputs": [],
   "source": [
    "import pandas as pd\n",
    "import numpy as np\n",
    "import matplotlib.pyplot as plt\n",
    "import seaborn as sns\n",
    "sns.set_style('darkgrid')"
   ]
  },
  {
   "cell_type": "code",
   "execution_count": 2,
   "metadata": {},
   "outputs": [],
   "source": [
    "df = pd.read_csv('../csv/comments_metadata_sentiment.csv')"
   ]
  },
  {
   "cell_type": "markdown",
   "metadata": {},
   "source": [
    "## Basic Info"
   ]
  },
  {
   "cell_type": "markdown",
   "metadata": {},
   "source": [
    "---"
   ]
  },
  {
   "cell_type": "code",
   "execution_count": 5,
   "metadata": {},
   "outputs": [
    {
     "name": "stdout",
     "output_type": "stream",
     "text": [
      "Rows: 22662\n",
      "Columns: 30\n",
      "\n",
      "Column Names: ['dbn', 'username', 'borough', 'grade_level', 'enrollment', 'comment', 'likes', 'dislikes', 'replies', 'fam_comm_ties', 'pct_ell', 'pct_disabilities', 'pct_self_contained', 'economic_need_index', 'pct_temp_housing', 'pct_hra_eligible', 'pct_asian', 'pct_black', 'pct_hispanic', 'pct_white', 'pct_chronic_absent', 'post_year', 'post_month', 'post_day', 'post_hour', 'pos', 'neg', 'neu', 'compound', 'compound_binary']\n",
      "\n",
      "Unique Schools: 993\n",
      "\n"
     ]
    }
   ],
   "source": [
    "print('{} {}'.format('Rows:', len(df)))\n",
    "print('{} {}\\n'.format('Columns:', len(df.columns)))\n",
    "print('{} {}\\n'.format('Column Names:', list(df.columns)))\n",
    "print('{} {}\\n'.format('Unique Schools:', len(set(df.dbn))))"
   ]
  },
  {
   "cell_type": "markdown",
   "metadata": {},
   "source": [
    "---"
   ]
  },
  {
   "cell_type": "markdown",
   "metadata": {},
   "source": [
    "## Likes "
   ]
  },
  {
   "cell_type": "markdown",
   "metadata": {},
   "source": [
    "---"
   ]
  },
  {
   "cell_type": "markdown",
   "metadata": {},
   "source": [
    "**GENERAL INFO:**"
   ]
  },
  {
   "cell_type": "code",
   "execution_count": 6,
   "metadata": {},
   "outputs": [
    {
     "name": "stdout",
     "output_type": "stream",
     "text": [
      "------------------------------\n",
      "Comments w/ Likes > 0: 6363\n",
      "Percent Comments w/ Likes: 0.281\n",
      "Total Likes: 18402\n",
      "------------------------------\n",
      "Summary Statistics\n",
      "\n",
      "count    22662.000000\n",
      "mean         0.812020\n",
      "std          2.951121\n",
      "min          0.000000\n",
      "25%          0.000000\n",
      "50%          0.000000\n",
      "75%          1.000000\n",
      "max        103.000000\n",
      "Name: likes, dtype: float64\n",
      "------------------------------\n"
     ]
    }
   ],
   "source": [
    "print('{}\\n{} {}\\n{} {}\\n{} {}'.format('---'*10, 'Comments w/ Likes > 0:', len(df[df['likes'] > 0]), 'Percent Comments w/ Likes:', round(len(df[df['likes'] > 0])/len(df), 3), 'Total Likes:', df['likes'].sum()))\n",
    "print('{}\\n{}\\n\\n{}\\n{}'.format('---'*10, 'Summary Statistics', df['likes'].describe(), '---'*10))"
   ]
  },
  {
   "cell_type": "markdown",
   "metadata": {},
   "source": [
    "**GENERAL DISTRIBUTION:** <br><br>\n",
    "A quick look at the boxplot shows us that the majority of the data lies in a very low range with a substantial number of outliers."
   ]
  },
  {
   "cell_type": "code",
   "execution_count": 53,
   "metadata": {},
   "outputs": [
    {
     "data": {
      "image/png": "[encoded data removed]",
      "text/plain": [
       "<Figure size 1440x504 with 1 Axes>"
      ]
     },
     "metadata": {},
     "output_type": "display_data"
    }
   ],
   "source": [
    "plt.figure(figsize=(20,7))\n",
    "sns.set_style('darkgrid')\n",
    "sns.boxplot(df['likes'], fliersize=.9, color='red')\n",
    "plt.title('Likes Distribution', fontweight='bold')\n",
    "plt.xlabel('Number of Likes Per Comment', fontweight='bold')\n",
    "plt.show()"
   ]
  },
  {
   "cell_type": "markdown",
   "metadata": {},
   "source": [
    "**RANGE OF <= 10:**"
   ]
  },
  {
   "cell_type": "markdown",
   "metadata": {},
   "source": [
    "With this range in the distribution we can see that there is a strong positive skew with the large majority of comments not containing any likes. Most comments that do contain likes are in the 1-2 range."
   ]
  },
  {
   "cell_type": "code",
   "execution_count": 8,
   "metadata": {},
   "outputs": [
    {
     "data": {
      "image/png": "[encoded data removed]",
      "text/plain": [
       "<Figure size 432x288 with 1 Axes>"
      ]
     },
     "metadata": {},
     "output_type": "display_data"
    },
    {
     "name": "stdout",
     "output_type": "stream",
     "text": [
      "------------------------------\n",
      "NUMBER OF LIKES:\n",
      "\n",
      "0 Likes:16299\n",
      "1 Likes:3111\n",
      "2 Likes:1252\n",
      "3 Likes:685\n",
      "4 Likes:442\n",
      "5 Likes:263\n",
      "------------------------------\n"
     ]
    }
   ],
   "source": [
    "sns.set_style('darkgrid')\n",
    "plt.hist(df[df['likes'] <= 10]['likes'], histtype='bar', align='left', color='red')\n",
    "plt.title('Likes Distribution (Range <= 10)')\n",
    "plt.xlabel('Likes Per Post')\n",
    "plt.ylabel('Number of Posts')\n",
    "plt.show()\n",
    "\n",
    "# Raw counts for likes up to 5\n",
    "print('{}\\n{}\\n'.format('---'*10,'NUMBER OF LIKES:'))\n",
    "print('{}{}\\n{}{}\\n{}{}\\n{}{}\\n{}{}\\n{}{}'.format(\n",
    "    '0 Likes:', (df['likes'] == 0).sum(),\n",
    "    '1 Likes:', (df['likes'] == 1).sum(),\n",
    "    '2 Likes:', (df['likes'] == 2).sum(),\n",
    "    '3 Likes:', (df['likes'] == 3).sum(),\n",
    "    '4 Likes:', (df['likes'] == 4).sum(),\n",
    "    '5 Likes:', (df['likes'] == 5).sum()\n",
    "))\n",
    "print('---'*10)"
   ]
  },
  {
   "cell_type": "markdown",
   "metadata": {},
   "source": [
    "---"
   ]
  },
  {
   "cell_type": "markdown",
   "metadata": {},
   "source": [
    "## Replies"
   ]
  },
  {
   "cell_type": "markdown",
   "metadata": {},
   "source": [
    "---"
   ]
  },
  {
   "cell_type": "markdown",
   "metadata": {},
   "source": [
    "**GENERAL INFO:**"
   ]
  },
  {
   "cell_type": "code",
   "execution_count": 9,
   "metadata": {},
   "outputs": [
    {
     "name": "stdout",
     "output_type": "stream",
     "text": [
      "------------------------------\n",
      "Comments w/ Replies > 0: 4375\n",
      "Percent Comments w/ Replies: 0.193\n",
      "Total Replies: 6428\n",
      "------------------------------\n",
      "Summary Statistics\n",
      "\n",
      "count    22662.000000\n",
      "mean         0.283647\n",
      "std          0.739748\n",
      "min          0.000000\n",
      "25%          0.000000\n",
      "50%          0.000000\n",
      "75%          0.000000\n",
      "max         16.000000\n",
      "Name: replies, dtype: float64\n",
      "------------------------------\n"
     ]
    }
   ],
   "source": [
    "print('{}\\n{} {}\\n{} {}\\n{} {}'.format('---'*10, 'Comments w/ Replies > 0:', len(df[df['replies'] > 0]), 'Percent Comments w/ Replies:', round(len(df[df['replies'] > 0])/len(df), 3), 'Total Replies:', df['replies'].sum()))\n",
    "print('{}\\n{}\\n\\n{}\\n{}'.format('---'*10, 'Summary Statistics', df['replies'].describe(), '---'*10))"
   ]
  },
  {
   "cell_type": "markdown",
   "metadata": {},
   "source": [
    "**BOXPLOT:** <br><br>\n",
    "A quick look at the boxplot shows us that the majority of the data lies in a very low range with a substantial number of outliers. Looking at the value counts we can show that all non-zero values account for less than a quarter of the data (23.91%). This indicates that most users are not engaging in conversation on the discussion board and are instead making single posts."
   ]
  },
  {
   "cell_type": "code",
   "execution_count": 10,
   "metadata": {},
   "outputs": [
    {
     "data": {
      "image/png": "[encoded data removed]",
      "text/plain": [
       "<Figure size 432x288 with 1 Axes>"
      ]
     },
     "metadata": {},
     "output_type": "display_data"
    },
    {
     "name": "stdout",
     "output_type": "stream",
     "text": [
      "------------------------------\n",
      "Value Counts:\n",
      "\n",
      "0     18287\n",
      "1      3166\n",
      "2       772\n",
      "3       253\n",
      "4        84\n",
      "5        55\n",
      "6        21\n",
      "7         7\n",
      "8         6\n",
      "9         4\n",
      "10        2\n",
      "15        1\n",
      "14        1\n",
      "13        1\n",
      "11        1\n",
      "16        1\n",
      "Name: replies, dtype: int64\n",
      "------------------------------\n",
      "Percent of Non-Zero Replies: 0.23916252118296616\n",
      " ------------------------------\n"
     ]
    }
   ],
   "source": [
    "sns.boxplot(df['replies'])\n",
    "plt.title('Replies Distribution')\n",
    "plt.title('Replies Distribution')\n",
    "plt.xlabel('Number of Replies Per Comment')\n",
    "plt.show()\n",
    "print('{}\\n{}\\n\\n{}\\n{}\\n{} {}\\n'.format('---'*10, 'Value Counts:', df['replies'].value_counts(), '---'*10, 'Percent of Non-Zero Replies:', df['replies'].value_counts()[1:].sum()/18293), '---'*10)"
   ]
  },
  {
   "cell_type": "markdown",
   "metadata": {},
   "source": [
    "---"
   ]
  },
  {
   "cell_type": "markdown",
   "metadata": {},
   "source": [
    "## Users"
   ]
  },
  {
   "cell_type": "markdown",
   "metadata": {},
   "source": [
    "---"
   ]
  },
  {
   "cell_type": "markdown",
   "metadata": {},
   "source": [
    "**Users**"
   ]
  },
  {
   "cell_type": "code",
   "execution_count": 11,
   "metadata": {},
   "outputs": [
    {
     "data": {
      "image/png": "[encoded data removed]",
      "text/plain": [
       "<Figure size 432x288 with 1 Axes>"
      ]
     },
     "metadata": {},
     "output_type": "display_data"
    }
   ],
   "source": [
    "anon = len(df[df['username'] == 'anonymous']) + len(df[df['username'] == 'Anonymous'])\n",
    "newslink = len(df[df['username'] == 'newslink']) + len(df[df['username'] == 'Newslink'])\n",
    "unique_users = len(set(df['username']))\n",
    "total_users = len(df['username'])\n",
    "\n",
    "plt.title('Username Types', fontweight='bold', fontsize=15)\n",
    "plt.bar(['Type of Users'], total_users, width = 1)\n",
    "plt.bar(['Type of Users'], unique_users, width = .95)\n",
    "plt.bar(['Type of Users'], newslink, width=.9)\n",
    "plt.bar(['Type of Users'], anon, width=.85)\n",
    "plt.legend(['Total Users', 'Unique Users', 'Anonymous Users', 'Newslink Articles'])\n",
    "plt.show()"
   ]
  },
  {
   "cell_type": "code",
   "execution_count": 12,
   "metadata": {},
   "outputs": [
    {
     "name": "stdout",
     "output_type": "stream",
     "text": [
      "Total Users: 22662\n",
      "Anonymous Users: 2522\n",
      "Anonymous Users: 3748\n"
     ]
    }
   ],
   "source": [
    "print('{} {}'.format('Total Users:', len(df['username'])))\n",
    "print('{} {}'.format('Anonymous Users:', len(df[df['username'] == 'anonymous']) + len(df[df['username'] == 'Anonymous']))) \n",
    "print('{} {}'.format('Anonymous Users:', len(df[df['username'] == 'newslink']) + len(df[df['username'] == 'Newslink']))) "
   ]
  },
  {
   "cell_type": "markdown",
   "metadata": {},
   "source": [
    "**Unique Users By Borough** <br><br>\n",
    "By comparing the unique users by borough with unique schools by borough we can see that Manhattan has a more active users given the number of schools while the Bronx and Staten Island have noticeably less active users given the number of schools.\n"
   ]
  },
  {
   "cell_type": "code",
   "execution_count": 13,
   "metadata": {},
   "outputs": [
    {
     "data": {
      "image/png": "[encoded data removed]",
      "text/plain": [
       "<Figure size 1080x360 with 2 Axes>"
      ]
     },
     "metadata": {},
     "output_type": "display_data"
    },
    {
     "name": "stdout",
     "output_type": "stream",
     "text": [
      "------------------------------\n",
      "UNIQUE USERS COUNTS\n",
      "\n",
      "Unique Users: 8763\n",
      "Unique Users Manhattan: 2661\n",
      "Unique Users Bronx: 1714\n",
      "Unique Users Brooklyn: 2351\n",
      "Unique Users Queens: 2386\n",
      "Unique Users Staten Island: 135\n",
      "------------------------------\n"
     ]
    }
   ],
   "source": [
    "# graphing data\n",
    "borough_unique_users = [len(set(df[df['borough'] == 'manhattan'].username)), len(set(df[df['borough'] == 'bronx'].username)), len(set(df[df['borough'] == 'brooklyn'].username)), len(set(df[df['borough'] == 'queens'].username)), len(set(df[df['borough'] == 'staten_island'].username))]\n",
    "dbn_per_borough = [len(set(df[df['borough'] == 'manhattan']['dbn'])), len(set(df[df['borough'] == 'bronx']['dbn'])), len(set(df[df['borough'] == 'brooklyn']['dbn'])), len(set(df[df['borough'] == 'queens']['dbn'])), len(set(df[df['borough'] == 'staten_island']['dbn']))]\n",
    "borough_names = ['Manhattan', 'Bronx', 'Brooklyn', 'Queens', 'Staten Island']\n",
    "\n",
    "# plot 1\n",
    "plt.figure(figsize=(15,5))\n",
    "plt.subplot(1,2,1)\n",
    "plt.bar(borough_names, borough_unique_users)\n",
    "plt.title('Unique Users By Borough', fontsize=15, fontweight='bold')\n",
    "plt.ylabel('Users Count')\n",
    "\n",
    "# plot 2\n",
    "plt.subplot(1,2,2)\n",
    "plt.bar(borough_names, dbn_per_borough, color='green')\n",
    "plt.title('Unique Schools By Borough', fontsize=15, fontweight='bold')\n",
    "plt.ylabel('Schools Count')\n",
    "plt.tight_layout()\n",
    "plt.show()\n",
    "\n",
    "# unique user counts\n",
    "print('{}\\n{}\\n\\n{} {}\\n{} {}\\n{} {}\\n{} {}\\n{} {}\\n{} {}\\n{}'.format('---'*10, 'UNIQUE USERS COUNTS','Unique Users:', len(set(df.username)), 'Unique Users Manhattan:', len(set(df[df['borough'] == 'manhattan'].username)), 'Unique Users Bronx:', len(set(df[df['borough'] == 'bronx'].username)), 'Unique Users Brooklyn:', len(set(df[df['borough'] == 'brooklyn'].username)), 'Unique Users Queens:', len(set(df[df['borough'] == 'queens'].username)), 'Unique Users Staten Island:', len(set(df[df['borough'] == 'staten_island'].username)), '---'*10))"
   ]
  },
  {
   "cell_type": "markdown",
   "metadata": {},
   "source": [
    "**Unique Users By Grade**"
   ]
  },
  {
   "cell_type": "code",
   "execution_count": 14,
   "metadata": {},
   "outputs": [
    {
     "data": {
      "image/png": "[encoded data removed]",
      "text/plain": [
       "<Figure size 432x288 with 1 Axes>"
      ]
     },
     "metadata": {},
     "output_type": "display_data"
    }
   ],
   "source": [
    "grade_users_count = [len(set(df[df['grade_level'] == 'Elementary'].username)),len(set(df[df['grade_level'] == 'K-8'].username)),len(set(df[df['grade_level'] == 'Middle'].username))]\n",
    "plt.bar(df.grade_level.unique(), grade_users_count)\n",
    "plt.ylabel('Count')\n",
    "plt.title('Unique Users By Grade Level', fontweight='bold', fontsize=15)\n",
    "plt.show()"
   ]
  },
  {
   "cell_type": "markdown",
   "metadata": {},
   "source": [
    "**DUPLICATE USERS (MORE THAN ONE POST)**"
   ]
  },
  {
   "cell_type": "markdown",
   "metadata": {},
   "source": [
    "insideschools.org appears to allow multiple users to use the same username. For example the \"school staff\" has at least one comment across every borough in NYC and the \"Concerned Parent\" username has posts that stretch from 2011 to 2019 and cover every borough besides Long Island. While this user activity is possible, as a parent could have multiple children in different areas of NYC over the span of 8 years, it seems more likely given the trend from other usernames that these accounts are used by multiple people. There are also organization accounts like \"newslink\", which posts articles (both good and bad) about the given school to the discussion board for that school, or \"Wellness In The Schools\", which is a physical education program. Taking these factors into consideration we can see that the max posts from a general user is 29, given by \"jupiter1991\"."
   ]
  },
  {
   "cell_type": "code",
   "execution_count": 15,
   "metadata": {},
   "outputs": [
    {
     "data": {
      "text/plain": [
       "newslink                   3672\n",
       "Anonymous                  2432\n",
       "parent                      473\n",
       "Insideschools               259\n",
       "Guest                       245\n",
       "other                       180\n",
       "student                     172\n",
       "Parent                      160\n",
       "Student                      96\n",
       "guest                        94\n",
       "anonymous                    90\n",
       "Newslink                     76\n",
       "alumnus                      68\n",
       "school staff                 58\n",
       "Anon                         37\n",
       "Concerned Parent             33\n",
       "jupiter1991                  29\n",
       "Anonymous                    27\n",
       "Sophie                       22\n",
       "Wellness In The Schools      22\n",
       "Name: username, dtype: int64"
      ]
     },
     "execution_count": 15,
     "metadata": {},
     "output_type": "execute_result"
    }
   ],
   "source": [
    "df.username.value_counts()[:20]"
   ]
  },
  {
   "cell_type": "markdown",
   "metadata": {},
   "source": [
    "The box plot below shows us that the majority of users are only posting 1 comment. Even as little as 4 comments is considered an outier lending to the fact that user engagement and conversations with other users is low. "
   ]
  },
  {
   "cell_type": "code",
   "execution_count": 16,
   "metadata": {
    "scrolled": false
   },
   "outputs": [
    {
     "data": {
      "image/png": "[encoded data removed]",
      "text/plain": [
       "<Figure size 720x504 with 1 Axes>"
      ]
     },
     "metadata": {},
     "output_type": "display_data"
    }
   ],
   "source": [
    "dup = df.username.value_counts()[16:].tolist()\n",
    "\n",
    "plt.figure(figsize=(10,7))\n",
    "plt.boxplot(dup, vert=False, widths=.75)\n",
    "plt.title('Number Of Posts Per Unique User')\n",
    "plt.xticks(np.arange(0,30,step=1))\n",
    "plt.show()"
   ]
  },
  {
   "cell_type": "code",
   "execution_count": 17,
   "metadata": {},
   "outputs": [],
   "source": [
    "# df[df['username'] == 'jupiter1991']"
   ]
  },
  {
   "cell_type": "markdown",
   "metadata": {},
   "source": [
    "**Unique Users By Enrollment**"
   ]
  },
  {
   "cell_type": "code",
   "execution_count": 18,
   "metadata": {},
   "outputs": [],
   "source": [
    "# # Create a dictionary of DBN and Usernames\n",
    "# dbn_username_dict = dict(zip(df['dbn'], df['username']))"
   ]
  },
  {
   "cell_type": "code",
   "execution_count": 19,
   "metadata": {},
   "outputs": [],
   "source": [
    "# set(df['username'])"
   ]
  },
  {
   "cell_type": "code",
   "execution_count": 20,
   "metadata": {},
   "outputs": [],
   "source": [
    "# for x in list(set(df['dbn']))"
   ]
  },
  {
   "cell_type": "code",
   "execution_count": 21,
   "metadata": {},
   "outputs": [],
   "source": [
    "# dbn_enroll_dict = dict(zip(df['dbn'], df['enrollment']))"
   ]
  },
  {
   "cell_type": "code",
   "execution_count": 22,
   "metadata": {},
   "outputs": [],
   "source": [
    "# dbn_enroll_dict"
   ]
  },
  {
   "cell_type": "code",
   "execution_count": 23,
   "metadata": {},
   "outputs": [],
   "source": [
    "# len(dbn_enroll_dict)"
   ]
  },
  {
   "cell_type": "code",
   "execution_count": 24,
   "metadata": {},
   "outputs": [],
   "source": [
    "# df['enrollment']))"
   ]
  },
  {
   "cell_type": "code",
   "execution_count": 25,
   "metadata": {},
   "outputs": [],
   "source": [
    "# enrollment = []\n",
    "\n",
    "# for x in set(df['username']):\n",
    "#     for y in df['username']:\n",
    "#         for z in df['enrollment']\n",
    "#         if x == y:\n",
    "#             enrollment.append(x)"
   ]
  },
  {
   "cell_type": "code",
   "execution_count": 26,
   "metadata": {},
   "outputs": [],
   "source": [
    "# enrollment"
   ]
  },
  {
   "cell_type": "markdown",
   "metadata": {},
   "source": [
    "**Unique users in % white/black/hispanic/asian schools**"
   ]
  },
  {
   "cell_type": "code",
   "execution_count": null,
   "metadata": {},
   "outputs": [],
   "source": []
  },
  {
   "cell_type": "markdown",
   "metadata": {},
   "source": [
    "## Comments"
   ]
  },
  {
   "cell_type": "markdown",
   "metadata": {},
   "source": [
    "**ENGINEERING FEATURES**"
   ]
  },
  {
   "cell_type": "code",
   "execution_count": 27,
   "metadata": {},
   "outputs": [],
   "source": [
    "df['num_words'] = [len(x.split(' ')) for x in df.comment]\n",
    "df['num_characters'] = [len(x) for x in df.comment]"
   ]
  },
  {
   "cell_type": "code",
   "execution_count": 28,
   "metadata": {},
   "outputs": [],
   "source": [
    "# # get number of words and characters for each comment\n",
    "# num_words = []\n",
    "# num_characters = []\n",
    "\n",
    "# for x in df.comment:\n",
    "#     num_words.append(len(x.str.split(' ')))\n",
    "#     num_characters.append(len(x))"
   ]
  },
  {
   "cell_type": "code",
   "execution_count": 29,
   "metadata": {},
   "outputs": [],
   "source": [
    "# # add info to dataframe\n",
    "# df['num_words'] = num_words\n",
    "# df['num_characters'] = num_characters"
   ]
  },
  {
   "cell_type": "markdown",
   "metadata": {},
   "source": [
    "**GENERAL INFO**"
   ]
  },
  {
   "cell_type": "code",
   "execution_count": 30,
   "metadata": {},
   "outputs": [
    {
     "name": "stdout",
     "output_type": "stream",
     "text": [
      "------------------------------\n",
      "GENERAL COMMENT INFO\n",
      "\n",
      "Max Words: 2013\n",
      "Min Words: 1\n",
      "Mean Words: 71.92714676551054\n",
      "Max Characters: 12422\n",
      "Min Characters: 1\n",
      "Mean Characters: 405.5592622010414\n",
      "------------------------------\n",
      "SUMMARY STATISTICS: NUM COMMENTS PER SCHOOL\n",
      "\n",
      "count    993.000000\n",
      "mean      22.821752\n",
      "std       20.358566\n",
      "min        1.000000\n",
      "25%        8.000000\n",
      "50%       15.000000\n",
      "75%       32.000000\n",
      "max      100.000000\n",
      "Name: dbn, dtype: float64\n",
      "------------------------------\n"
     ]
    }
   ],
   "source": [
    "print('{}\\n{}\\n\\n{} {}\\n{} {}\\n{} {}\\n{} {}\\n{} {}\\n{} {}'.format('---'*10, 'GENERAL COMMENT INFO', 'Max Words:', df.num_words.max(), 'Min Words:', df.num_words.min(), 'Mean Words:', df.num_words.mean(), 'Max Characters:', df.num_characters.max(), 'Min Characters:', df.num_characters.min(), 'Mean Characters:', df.num_characters.mean()))\n",
    "print('{}\\n{}\\n\\n{}\\n{}'.format('---'*10, 'SUMMARY STATISTICS: NUM COMMENTS PER SCHOOL', df.dbn.value_counts().describe(), '---'*10))"
   ]
  },
  {
   "cell_type": "markdown",
   "metadata": {},
   "source": [
    "**COMMENTS DISTRIBUTIONS**"
   ]
  },
  {
   "cell_type": "code",
   "execution_count": 31,
   "metadata": {},
   "outputs": [
    {
     "data": {
      "image/png": "[encoded data removed]",
      "text/plain": [
       "<Figure size 432x288 with 1 Axes>"
      ]
     },
     "metadata": {},
     "output_type": "display_data"
    }
   ],
   "source": [
    "plt.boxplot(df.num_words, vert=False, widths=.75)\n",
    "plt.show()"
   ]
  },
  {
   "cell_type": "code",
   "execution_count": 32,
   "metadata": {},
   "outputs": [
    {
     "data": {
      "image/png": "[encoded data removed]",
      "text/plain": [
       "<Figure size 432x288 with 1 Axes>"
      ]
     },
     "metadata": {},
     "output_type": "display_data"
    }
   ],
   "source": [
    "plt.hist(df.num_words, bins=200)\n",
    "plt.show()"
   ]
  },
  {
   "cell_type": "code",
   "execution_count": 33,
   "metadata": {},
   "outputs": [
    {
     "data": {
      "image/png": "[encoded data removed]",
      "text/plain": [
       "<Figure size 432x288 with 1 Axes>"
      ]
     },
     "metadata": {},
     "output_type": "display_data"
    }
   ],
   "source": [
    "plt.hist(df[df['num_words'] < 250]['num_words'], bins=100)\n",
    "plt.show()"
   ]
  },
  {
   "cell_type": "markdown",
   "metadata": {},
   "source": [
    "Short comments around a length of 5 tend to be quick replies. Comments up to around 20 appear to be quick responses to signal whether a school is good or bad. Comments around 30 appear to be full of news articles about each school. Comments 50+ appear to be more detailed accounts of people's experiences for a given school."
   ]
  },
  {
   "cell_type": "code",
   "execution_count": 34,
   "metadata": {},
   "outputs": [
    {
     "name": "stdout",
     "output_type": "stream",
     "text": [
      "------------------------------\n",
      "5 Words:\n",
      "Thats me forgot to login\n",
      "------------------------------\n",
      "10 Words:\n",
      "I just read the horrible news about this school. http://nypost.com/2014/10/29/pervy-school-janitor-peeks-on-neighbors-plays-with-his-pickle/\n",
      "------------------------------\n",
      "20 Words:\n",
      "\"We were also told the school generally did not treat boys well. - absolutely CRAZY and UNTRUE, a blatant lie\n",
      "------------------------------\n",
      "30 Words:\n",
      "In Debt for Life - your comment is not a constructive one. I'm very impressed with the variety of schools students are attending and the quality of the college advising.\n",
      "------------------------------\n",
      "50 Words:\n",
      "The school is making an effort to increase physical activities for students, but there is only one gym period a week.The phys ed teacher wishes there were more. He is encouraging kids to exercise every day this summer. Read more: <ahref=\"http://www.nytimes.com/2012/07/11/education/even-as-schools-battle-obesity-physical-education-is-sidelined.html?_r=2&smid=tw-share\">Even as Obesity Concerns Rise, Gym Classes are Cut</a>. \n",
      "------------------------------\n",
      "100 Words:\n",
      "PS 316 is an Elementary School that is filled with constant bullying. It happens in the classrooms and in the lunch room almost everyday. I am a parent of that school and I am not satisfied. I have spoken to other parents who has children in the same said school and I can tell u it's the same problem being said about PS 316. This school principal Ms. Perez is also a bully, rude, has poor professionalism, and she harasses her employees almost everyday. The Guidance Counselor does not sufficiently report or discipline the children who are continuously problematic. \n"
     ]
    }
   ],
   "source": [
    "# some examples of comments of varying word lengths\n",
    "print('{}\\n{}\\n{}'.format('---'*10, '5 Words:', df[df['num_words'] == 5]['comment'].iloc[5]))\n",
    "print('{}\\n{}\\n{}'.format('---'*10, '10 Words:', df[df['num_words'] == 10]['comment'].iloc[15]))\n",
    "print('{}\\n{}\\n{}'.format('---'*10, '20 Words:', df[df['num_words'] == 20]['comment'].iloc[15]))\n",
    "print('{}\\n{}\\n{}'.format('---'*10, '30 Words:', df[df['num_words'] == 30]['comment'].iloc[40]))\n",
    "print('{}\\n{}\\n{}'.format('---'*10, '50 Words:', df[df['num_words'] == 50]['comment'].iloc[40]))\n",
    "print('{}\\n{}\\n{}'.format('---'*10, '100 Words:', df[df['num_words'] == 100]['comment'].iloc[40]))"
   ]
  },
  {
   "cell_type": "markdown",
   "metadata": {},
   "source": [
    "**BY DATE**"
   ]
  },
  {
   "cell_type": "code",
   "execution_count": 35,
   "metadata": {},
   "outputs": [
    {
     "data": {
      "text/html": [
       "<div>\n",
       "<style scoped>\n",
       "    .dataframe tbody tr th:only-of-type {\n",
       "        vertical-align: middle;\n",
       "    }\n",
       "\n",
       "    .dataframe tbody tr th {\n",
       "        vertical-align: top;\n",
       "    }\n",
       "\n",
       "    .dataframe thead th {\n",
       "        text-align: right;\n",
       "    }\n",
       "</style>\n",
       "<table border=\"1\" class=\"dataframe\">\n",
       "  <thead>\n",
       "    <tr style=\"text-align: right;\">\n",
       "      <th></th>\n",
       "      <th>dbn</th>\n",
       "      <th>username</th>\n",
       "      <th>borough</th>\n",
       "      <th>grade_level</th>\n",
       "      <th>enrollment</th>\n",
       "      <th>comment</th>\n",
       "      <th>likes</th>\n",
       "      <th>dislikes</th>\n",
       "      <th>replies</th>\n",
       "      <th>fam_comm_ties</th>\n",
       "      <th>...</th>\n",
       "      <th>post_month</th>\n",
       "      <th>post_day</th>\n",
       "      <th>post_hour</th>\n",
       "      <th>pos</th>\n",
       "      <th>neg</th>\n",
       "      <th>neu</th>\n",
       "      <th>compound</th>\n",
       "      <th>compound_binary</th>\n",
       "      <th>num_words</th>\n",
       "      <th>num_characters</th>\n",
       "    </tr>\n",
       "  </thead>\n",
       "  <tbody>\n",
       "    <tr>\n",
       "      <th>0</th>\n",
       "      <td>01M015</td>\n",
       "      <td>P.S. 15 Parent</td>\n",
       "      <td>manhattan</td>\n",
       "      <td>Elementary</td>\n",
       "      <td>161</td>\n",
       "      <td>P.S. 15 is an extraordinary small school that ...</td>\n",
       "      <td>0</td>\n",
       "      <td>0</td>\n",
       "      <td>0</td>\n",
       "      <td>1.0</td>\n",
       "      <td>...</td>\n",
       "      <td>5</td>\n",
       "      <td>11</td>\n",
       "      <td>14</td>\n",
       "      <td>0.218</td>\n",
       "      <td>0.01</td>\n",
       "      <td>0.772</td>\n",
       "      <td>0.9973</td>\n",
       "      <td>1.0</td>\n",
       "      <td>322</td>\n",
       "      <td>1922</td>\n",
       "    </tr>\n",
       "    <tr>\n",
       "      <th>1</th>\n",
       "      <td>01M015</td>\n",
       "      <td>Houleye Sy</td>\n",
       "      <td>manhattan</td>\n",
       "      <td>Elementary</td>\n",
       "      <td>161</td>\n",
       "      <td>A Hidden Gem!Amazing community school that fee...</td>\n",
       "      <td>0</td>\n",
       "      <td>0</td>\n",
       "      <td>0</td>\n",
       "      <td>1.0</td>\n",
       "      <td>...</td>\n",
       "      <td>4</td>\n",
       "      <td>30</td>\n",
       "      <td>21</td>\n",
       "      <td>0.189</td>\n",
       "      <td>0.00</td>\n",
       "      <td>0.811</td>\n",
       "      <td>0.9761</td>\n",
       "      <td>1.0</td>\n",
       "      <td>123</td>\n",
       "      <td>729</td>\n",
       "    </tr>\n",
       "    <tr>\n",
       "      <th>2</th>\n",
       "      <td>01M015</td>\n",
       "      <td>newslink</td>\n",
       "      <td>manhattan</td>\n",
       "      <td>Elementary</td>\n",
       "      <td>161</td>\n",
       "      <td>PS 15 is among the schools with the most impro...</td>\n",
       "      <td>0</td>\n",
       "      <td>0</td>\n",
       "      <td>0</td>\n",
       "      <td>1.0</td>\n",
       "      <td>...</td>\n",
       "      <td>8</td>\n",
       "      <td>31</td>\n",
       "      <td>15</td>\n",
       "      <td>0.166</td>\n",
       "      <td>0.00</td>\n",
       "      <td>0.834</td>\n",
       "      <td>0.5256</td>\n",
       "      <td>1.0</td>\n",
       "      <td>18</td>\n",
       "      <td>92</td>\n",
       "    </tr>\n",
       "    <tr>\n",
       "      <th>3</th>\n",
       "      <td>01M015</td>\n",
       "      <td>newslink</td>\n",
       "      <td>manhattan</td>\n",
       "      <td>Elementary</td>\n",
       "      <td>161</td>\n",
       "      <td>PS 15 second graders won a city-wide ferry nam...</td>\n",
       "      <td>0</td>\n",
       "      <td>0</td>\n",
       "      <td>0</td>\n",
       "      <td>1.0</td>\n",
       "      <td>...</td>\n",
       "      <td>4</td>\n",
       "      <td>14</td>\n",
       "      <td>15</td>\n",
       "      <td>0.163</td>\n",
       "      <td>0.00</td>\n",
       "      <td>0.837</td>\n",
       "      <td>0.5719</td>\n",
       "      <td>1.0</td>\n",
       "      <td>20</td>\n",
       "      <td>105</td>\n",
       "    </tr>\n",
       "    <tr>\n",
       "      <th>4</th>\n",
       "      <td>01M015</td>\n",
       "      <td>newslink</td>\n",
       "      <td>manhattan</td>\n",
       "      <td>Elementary</td>\n",
       "      <td>161</td>\n",
       "      <td>NYC Department of Education officials barred a...</td>\n",
       "      <td>0</td>\n",
       "      <td>0</td>\n",
       "      <td>0</td>\n",
       "      <td>1.0</td>\n",
       "      <td>...</td>\n",
       "      <td>11</td>\n",
       "      <td>14</td>\n",
       "      <td>21</td>\n",
       "      <td>0.000</td>\n",
       "      <td>0.00</td>\n",
       "      <td>1.000</td>\n",
       "      <td>0.0000</td>\n",
       "      <td>0.0</td>\n",
       "      <td>25</td>\n",
       "      <td>151</td>\n",
       "    </tr>\n",
       "  </tbody>\n",
       "</table>\n",
       "<p>5 rows × 32 columns</p>\n",
       "</div>"
      ],
      "text/plain": [
       "      dbn        username    borough grade_level  enrollment  \\\n",
       "0  01M015  P.S. 15 Parent  manhattan  Elementary         161   \n",
       "1  01M015      Houleye Sy  manhattan  Elementary         161   \n",
       "2  01M015        newslink  manhattan  Elementary         161   \n",
       "3  01M015        newslink  manhattan  Elementary         161   \n",
       "4  01M015        newslink  manhattan  Elementary         161   \n",
       "\n",
       "                                             comment  likes  dislikes  \\\n",
       "0  P.S. 15 is an extraordinary small school that ...      0         0   \n",
       "1  A Hidden Gem!Amazing community school that fee...      0         0   \n",
       "2  PS 15 is among the schools with the most impro...      0         0   \n",
       "3  PS 15 second graders won a city-wide ferry nam...      0         0   \n",
       "4  NYC Department of Education officials barred a...      0         0   \n",
       "\n",
       "   replies  fam_comm_ties  ...  post_month  post_day  post_hour    pos   neg  \\\n",
       "0        0            1.0  ...           5        11         14  0.218  0.01   \n",
       "1        0            1.0  ...           4        30         21  0.189  0.00   \n",
       "2        0            1.0  ...           8        31         15  0.166  0.00   \n",
       "3        0            1.0  ...           4        14         15  0.163  0.00   \n",
       "4        0            1.0  ...          11        14         21  0.000  0.00   \n",
       "\n",
       "     neu  compound  compound_binary  num_words  num_characters  \n",
       "0  0.772    0.9973              1.0        322            1922  \n",
       "1  0.811    0.9761              1.0        123             729  \n",
       "2  0.834    0.5256              1.0         18              92  \n",
       "3  0.837    0.5719              1.0         20             105  \n",
       "4  1.000    0.0000              0.0         25             151  \n",
       "\n",
       "[5 rows x 32 columns]"
      ]
     },
     "execution_count": 35,
     "metadata": {},
     "output_type": "execute_result"
    }
   ],
   "source": [
    "df.head()"
   ]
  },
  {
   "cell_type": "code",
   "execution_count": 36,
   "metadata": {},
   "outputs": [],
   "source": [
    "# df.to_csv('tableau_comments_metadata.csv', index=False)"
   ]
  },
  {
   "cell_type": "code",
   "execution_count": null,
   "metadata": {},
   "outputs": [],
   "source": []
  }
 ],
 "metadata": {
  "kernelspec": {
   "display_name": "Python 3",
   "language": "python",
   "name": "python3"
  },
  "language_info": {
   "codemirror_mode": {
    "name": "ipython",
    "version": 3
   },
   "file_extension": ".py",
   "mimetype": "text/x-python",
   "name": "python",
   "nbconvert_exporter": "python",
   "pygments_lexer": "ipython3",
   "version": "3.7.6"
  }
 },
 "nbformat": 4,
 "nbformat_minor": 4
}
