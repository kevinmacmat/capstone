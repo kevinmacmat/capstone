{
 "cells": [
  {
   "cell_type": "markdown",
   "metadata": {},
   "source": [
    "Schools Data"
   ]
  },
  {
   "cell_type": "markdown",
   "metadata": {},
   "source": [
    "https://infohub.nyced.org/reports/school-quality/school-quality-reports-and-resources"
   ]
  },
  {
   "cell_type": "markdown",
   "metadata": {},
   "source": [
    "Import modules"
   ]
  },
  {
   "cell_type": "code",
   "execution_count": 1,
   "metadata": {},
   "outputs": [],
   "source": [
    "import pandas as pd\n",
    "import numpy as np\n",
    "from project_functions import *"
   ]
  },
  {
   "cell_type": "markdown",
   "metadata": {},
   "source": [
    "Read in data"
   ]
  },
  {
   "cell_type": "code",
   "execution_count": 2,
   "metadata": {},
   "outputs": [],
   "source": [
    "df = pd.read_excel('201819_ems_sqr_results.xlsx', index_col=2)"
   ]
  },
  {
   "cell_type": "markdown",
   "metadata": {},
   "source": [
    "Remove NaN padding around dataframe"
   ]
  },
  {
   "cell_type": "code",
   "execution_count": 3,
   "metadata": {},
   "outputs": [],
   "source": [
    "# Drop columns by name\n",
    "df = df.drop(['Unnamed: 0', 'Unnamed: 1'], axis=1)\n",
    "# Drop rows by index\n",
    "df = df.reset_index(drop=True)\n",
    "df = df.drop([0,1,3])\n",
    "# Push up rows \n",
    "df = pd.DataFrame(df.values[1:], columns=df.iloc[0])\n",
    "df = df.reset_index(drop=True)"
   ]
  },
  {
   "cell_type": "markdown",
   "metadata": {},
   "source": [
    "Remove columns by name"
   ]
  },
  {
   "cell_type": "code",
   "execution_count": 4,
   "metadata": {},
   "outputs": [],
   "source": [
    "df = df.drop(columns=['Enrollment', \n",
    "                 'Rigorous Instruction Rating',\n",
    "                 'Collaborative Teachers Rating',\n",
    "                 'Supportive Environment Rating',\n",
    "                 'Effective School Leadership Rating',\n",
    "                 'Student Achievement Rating',\n",
    "                 'Rigorous Instruction - Percent Positive', \n",
    "                 'Collaborative Teachers - Percent Positive',\n",
    "                 'Supportive Environment - Percent Positive',\n",
    "                 'Effective School Leadership - Percent Positive',\n",
    "                 'Quality Review - How interesting and challenging is the curriculum',\n",
    "                 'Quality Review - How effective is the teaching and learning',\n",
    "                 'Quality Review - How well does the school assess what students are learning',\n",
    "                 'Quality Review - How clearly are high expectations communicated to students and staff',\n",
    "                 'Quality Review - How well do teachers work with each other',\n",
    "                 'Quality Review - How safe and inclusive is the school while supporting social-emotional growth',\n",
    "                 'Quality Review - How well does the school allocate and manage resources',\n",
    "                 'Quality Review - How well does the school identify, track, and meet its goals',\n",
    "                 'Quality Review - How thoughtful is the school s approach to teacher development and evaluation',\n",
    "                 'Quality Review - How well are school decisions evaluated and adjusted',\n",
    "                 'Quality Review - Dates of Review',\n",
    "                 'Average Incoming ELA Proficiency (Based on 5th Grade)',\n",
    "                 'Average Incoming Math Proficiency (Based on 5th Grade)',\n",
    "                 'Percent of teachers with 3 or more years of experience',\n",
    "                 'Percent of Students Chronically Absent',\n",
    "                 'Years of principal experience at this school',\n",
    "                 'Teacher Attendance Rate'])"
   ]
  },
  {
   "cell_type": "markdown",
   "metadata": {},
   "source": [
    "Drop NaN values"
   ]
  },
  {
   "cell_type": "code",
   "execution_count": 5,
   "metadata": {},
   "outputs": [],
   "source": [
    "df = df.dropna()"
   ]
  },
  {
   "cell_type": "markdown",
   "metadata": {},
   "source": [
    "Remove Charter Schools (from bottom of df)"
   ]
  },
  {
   "cell_type": "code",
   "execution_count": 6,
   "metadata": {},
   "outputs": [],
   "source": [
    "df = df.iloc[:-140,:]"
   ]
  },
  {
   "cell_type": "markdown",
   "metadata": {},
   "source": [
    "Rename columns"
   ]
  },
  {
   "cell_type": "code",
   "execution_count": 7,
   "metadata": {},
   "outputs": [],
   "source": [
    "df = df.rename(columns={'DBN': 'dbn', \n",
    "                        'School Name': 'school_name', \n",
    "                        'School Type': 'school_type',\n",
    "                        'Strong Family-Community Ties Rating': 'fam_comm_ties_rating',\n",
    "                        'Trust Rating': 'trust_rating',\n",
    "                        'Strong Family-Community Ties - Percent Positive': 'pct_pos_fam_comm_ties',\n",
    "                        'Trust - Percent Positive':'pct_pos_trust',\n",
    "                        'Percent English Language Learners':'pct_ell',\n",
    "                        'Percent Students with Disabilities':'pct_disabilities',\n",
    "                        'Percent Self-Contained':'pct_self_contained',\n",
    "                        'Economic Need Index':'economic_need_index',\n",
    "                        'Percent in Temp Housing':'pct_temp_housing',\n",
    "                        'Percent HRA Eligible':'pct_hra_eligible',\n",
    "                        'Percent Asian':'pct_asian',\n",
    "                        'Percent Black':'pct_black',\n",
    "                        'Percent Hispanic':'pct_hispanic',\n",
    "                        'Percent White':'pct_white',\n",
    "                        'Student Attendance Rate':'student_attendance_rate',\n",
    "                        })"
   ]
  },
  {
   "cell_type": "markdown",
   "metadata": {},
   "source": [
    "Reset index"
   ]
  },
  {
   "cell_type": "code",
   "execution_count": 8,
   "metadata": {},
   "outputs": [],
   "source": [
    "df = df.reset_index(drop=True)"
   ]
  },
  {
   "cell_type": "markdown",
   "metadata": {},
   "source": [
    "Replace ordinal values for fam_comm_ties_rating and trust_rating with floats."
   ]
  },
  {
   "cell_type": "code",
   "execution_count": 9,
   "metadata": {},
   "outputs": [],
   "source": [
    "df = df.replace({'fam_comm_ties_rating': {'Exceeding Target':1, 'Meeting Target':0.75, 'Approaching Target':0.50, 'Not Meeting Target':0.25}})\n",
    "df = df.replace({'trust_rating': {'Exceeding Target':1, 'Meeting Target':0.75, 'Approaching Target':0.50, 'Not Meeting Target':0.25}})"
   ]
  },
  {
   "cell_type": "markdown",
   "metadata": {},
   "source": [
    "Convert to csv"
   ]
  },
  {
   "cell_type": "code",
   "execution_count": 11,
   "metadata": {},
   "outputs": [],
   "source": [
    "df.to_csv('sqr_no_comments.csv', index=False)"
   ]
  }
 ],
 "metadata": {
  "kernelspec": {
   "display_name": "Python 3",
   "language": "python",
   "name": "python3"
  },
  "language_info": {
   "codemirror_mode": {
    "name": "ipython",
    "version": 3
   },
   "file_extension": ".py",
   "mimetype": "text/x-python",
   "name": "python",
   "nbconvert_exporter": "python",
   "pygments_lexer": "ipython3",
   "version": "3.7.7"
  }
 },
 "nbformat": 4,
 "nbformat_minor": 4
}
