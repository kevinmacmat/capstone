{
 "cells": [
  {
   "cell_type": "markdown",
   "metadata": {},
   "source": [
    "Schools Data"
   ]
  },
  {
   "cell_type": "markdown",
   "metadata": {},
   "source": [
    "https://infohub.nyced.org/reports/school-quality/school-quality-reports-and-resources"
   ]
  },
  {
   "cell_type": "markdown",
   "metadata": {},
   "source": [
    "Import modules"
   ]
  },
  {
   "cell_type": "code",
   "execution_count": 1,
   "metadata": {},
   "outputs": [],
   "source": [
    "import pandas as pd\n",
    "import numpy as np\n",
    "from project_functions import *"
   ]
  },
  {
   "cell_type": "markdown",
   "metadata": {},
   "source": [
    "Read in data"
   ]
  },
  {
   "cell_type": "code",
   "execution_count": 2,
   "metadata": {},
   "outputs": [],
   "source": [
    "df = pd.read_excel('201819_ems_sqr_results.xlsx', index_col=2)"
   ]
  },
  {
   "cell_type": "markdown",
   "metadata": {},
   "source": [
    "Remove NaN padding around dataframe"
   ]
  },
  {
   "cell_type": "code",
   "execution_count": 3,
   "metadata": {},
   "outputs": [],
   "source": [
    "# Drop columns by name\n",
    "df = df.drop(['Unnamed: 0', 'Unnamed: 1'], axis=1)\n",
    "# Drop rows by index\n",
    "df = df.reset_index(drop=True)\n",
    "df = df.drop([0,1,3])\n",
    "# Push up rows \n",
    "df = pd.DataFrame(df.values[1:], columns=df.iloc[0])\n",
    "df = df.reset_index(drop=True)"
   ]
  },
  {
   "cell_type": "markdown",
   "metadata": {},
   "source": [
    "Remove columns by name"
   ]
  },
  {
   "cell_type": "code",
   "execution_count": 4,
   "metadata": {},
   "outputs": [],
   "source": [
    "df = df.drop(columns=['Enrollment', \n",
    "                 'Rigorous Instruction Rating',\n",
    "                 'Collaborative Teachers Rating',\n",
    "                 'Supportive Environment Rating',\n",
    "                 'Effective School Leadership Rating',\n",
    "                 'Student Achievement Rating',\n",
    "                 'Rigorous Instruction - Percent Positive', \n",
    "                 'Collaborative Teachers - Percent Positive',\n",
    "                 'Supportive Environment - Percent Positive',\n",
    "                 'Effective School Leadership - Percent Positive',\n",
    "                 'Quality Review - How interesting and challenging is the curriculum',\n",
    "                 'Quality Review - How effective is the teaching and learning',\n",
    "                 'Quality Review - How well does the school assess what students are learning',\n",
    "                 'Quality Review - How clearly are high expectations communicated to students and staff',\n",
    "                 'Quality Review - How well do teachers work with each other',\n",
    "                 'Quality Review - How safe and inclusive is the school while supporting social-emotional growth',\n",
    "                 'Quality Review - How well does the school allocate and manage resources',\n",
    "                 'Quality Review - How well does the school identify, track, and meet its goals',\n",
    "                 'Quality Review - How thoughtful is the school s approach to teacher development and evaluation',\n",
    "                 'Quality Review - How well are school decisions evaluated and adjusted',\n",
    "                 'Quality Review - Dates of Review',\n",
    "                 'Average Incoming ELA Proficiency (Based on 5th Grade)',\n",
    "                 'Average Incoming Math Proficiency (Based on 5th Grade)',\n",
    "                 'Percent of teachers with 3 or more years of experience',\n",
    "                 'Percent of Students Chronically Absent',\n",
    "                 'Years of principal experience at this school',\n",
    "                 'Teacher Attendance Rate'])"
   ]
  },
  {
   "cell_type": "markdown",
   "metadata": {},
   "source": [
    "Drop NaN values"
   ]
  },
  {
   "cell_type": "code",
   "execution_count": 5,
   "metadata": {},
   "outputs": [],
   "source": [
    "df = df.dropna()"
   ]
  },
  {
   "cell_type": "markdown",
   "metadata": {},
   "source": [
    "Remove Charter Schools (from bottom of df)"
   ]
  },
  {
   "cell_type": "code",
   "execution_count": 6,
   "metadata": {},
   "outputs": [],
   "source": [
    "df = df.iloc[:-140,:]"
   ]
  },
  {
   "cell_type": "code",
   "execution_count": 7,
   "metadata": {},
   "outputs": [],
   "source": [
    "# df = df.drop(df.tail(143).index,inplace=False)"
   ]
  },
  {
   "cell_type": "markdown",
   "metadata": {},
   "source": [
    "Rename columns"
   ]
  },
  {
   "cell_type": "code",
   "execution_count": 15,
   "metadata": {},
   "outputs": [],
   "source": [
    "df = df.rename(columns={'DBN': 'dbn', \n",
    "                        'School Name': 'school_name', \n",
    "                        'School Type': 'school_type',\n",
    "                        'Strong Family-Community Ties Rating': 'fam_comm_ties_rating',\n",
    "                        'Trust Rating': 'trust_rating',\n",
    "                        'Strong Family-Community Ties - Percent Positive': 'pct_pos_fam_comm_ties',\n",
    "                        'Trust - Percent Positive':'pct_pos_trust',\n",
    "                        'Percent English Language Learners':'pct_ell',\n",
    "                        'Percent Students with Disabilities':'pct_disabilities',\n",
    "                        'Percent Self-Contained':'pct_self_contained',\n",
    "                        'Economic Need Index':'economic_need_index',\n",
    "                        'Percent in Temp Housing':'pct_temp_housing',\n",
    "                        'Percent HRA Eligible':'pct_hra_eligible',\n",
    "                        'Percent Asian':'pct_asian',\n",
    "                        'Percent Black':'pct_black',\n",
    "                        'Percent Hispanic':'pct_hispanic',\n",
    "                        'Percent White':'pct_white',\n",
    "                        'Student Attendance Rate':'student_attendance_rate',\n",
    "                        })"
   ]
  },
  {
   "cell_type": "markdown",
   "metadata": {},
   "source": [
    "Reset index"
   ]
  },
  {
   "cell_type": "code",
   "execution_count": 21,
   "metadata": {},
   "outputs": [],
   "source": [
    "df = df.reset_index(drop=True)"
   ]
  },
  {
   "cell_type": "code",
   "execution_count": 29,
   "metadata": {},
   "outputs": [
    {
     "data": {
      "text/html": [
       "<div>\n",
       "<style scoped>\n",
       "    .dataframe tbody tr th:only-of-type {\n",
       "        vertical-align: middle;\n",
       "    }\n",
       "\n",
       "    .dataframe tbody tr th {\n",
       "        vertical-align: top;\n",
       "    }\n",
       "\n",
       "    .dataframe thead th {\n",
       "        text-align: right;\n",
       "    }\n",
       "</style>\n",
       "<table border=\"1\" class=\"dataframe\">\n",
       "  <thead>\n",
       "    <tr style=\"text-align: right;\">\n",
       "      <th>2</th>\n",
       "      <th>dbn</th>\n",
       "      <th>school_name</th>\n",
       "      <th>school_type</th>\n",
       "      <th>fam_comm_ties_rating</th>\n",
       "      <th>trust_rating</th>\n",
       "      <th>pct_pos_fam_comm_ties</th>\n",
       "      <th>pct_pos_trust</th>\n",
       "      <th>pct_ell</th>\n",
       "      <th>pct_disabilities</th>\n",
       "      <th>pct_self_contained</th>\n",
       "      <th>economic_need_index</th>\n",
       "      <th>pct_temp_housing</th>\n",
       "      <th>pct_hra_eligible</th>\n",
       "      <th>pct_asian</th>\n",
       "      <th>pct_black</th>\n",
       "      <th>pct_hispanic</th>\n",
       "      <th>pct_white</th>\n",
       "      <th>student_attendance_rate</th>\n",
       "    </tr>\n",
       "  </thead>\n",
       "  <tbody>\n",
       "    <tr>\n",
       "      <th>1093</th>\n",
       "      <td>32K377</td>\n",
       "      <td>P.S. 377 Alejandrina B. De Gautier</td>\n",
       "      <td>Elementary</td>\n",
       "      <td>Meeting Target</td>\n",
       "      <td>Meeting Target</td>\n",
       "      <td>0.96</td>\n",
       "      <td>0.88</td>\n",
       "      <td>0.133</td>\n",
       "      <td>0.289</td>\n",
       "      <td>0.156</td>\n",
       "      <td>0.824</td>\n",
       "      <td>0.126</td>\n",
       "      <td>0.756</td>\n",
       "      <td>0</td>\n",
       "      <td>0.244</td>\n",
       "      <td>0.748</td>\n",
       "      <td>0.007</td>\n",
       "      <td>0.916</td>\n",
       "    </tr>\n",
       "    <tr>\n",
       "      <th>1094</th>\n",
       "      <td>32K383</td>\n",
       "      <td>J.H.S. 383 Philippa Schuyler</td>\n",
       "      <td>Middle</td>\n",
       "      <td>Approaching Target</td>\n",
       "      <td>Approaching Target</td>\n",
       "      <td>0.88</td>\n",
       "      <td>0.8</td>\n",
       "      <td>0.058</td>\n",
       "      <td>0.167</td>\n",
       "      <td>0.07</td>\n",
       "      <td>0.744</td>\n",
       "      <td>0.103</td>\n",
       "      <td>0.644</td>\n",
       "      <td>0.046</td>\n",
       "      <td>0.345</td>\n",
       "      <td>0.571</td>\n",
       "      <td>0.023</td>\n",
       "      <td>0.944</td>\n",
       "    </tr>\n",
       "    <tr>\n",
       "      <th>1095</th>\n",
       "      <td>32K384</td>\n",
       "      <td>P.S. /I.S. 384 Frances E. Carter</td>\n",
       "      <td>K-8</td>\n",
       "      <td>Meeting Target</td>\n",
       "      <td>Exceeding Target</td>\n",
       "      <td>0.94</td>\n",
       "      <td>0.94</td>\n",
       "      <td>0.265</td>\n",
       "      <td>0.29</td>\n",
       "      <td>0.158</td>\n",
       "      <td>0.899</td>\n",
       "      <td>0.145</td>\n",
       "      <td>0.84</td>\n",
       "      <td>0.006</td>\n",
       "      <td>0.118</td>\n",
       "      <td>0.87</td>\n",
       "      <td>0.004</td>\n",
       "      <td>0.917</td>\n",
       "    </tr>\n",
       "    <tr>\n",
       "      <th>1096</th>\n",
       "      <td>32K554</td>\n",
       "      <td>All City Leadership Secondary School</td>\n",
       "      <td>Middle</td>\n",
       "      <td>Exceeding Target</td>\n",
       "      <td>Exceeding Target</td>\n",
       "      <td>0.96</td>\n",
       "      <td>0.95</td>\n",
       "      <td>0.022</td>\n",
       "      <td>0.072</td>\n",
       "      <td>0</td>\n",
       "      <td>0.645</td>\n",
       "      <td>0.061</td>\n",
       "      <td>0.522</td>\n",
       "      <td>0.083</td>\n",
       "      <td>0.067</td>\n",
       "      <td>0.694</td>\n",
       "      <td>0.15</td>\n",
       "      <td>0.974</td>\n",
       "    </tr>\n",
       "    <tr>\n",
       "      <th>1097</th>\n",
       "      <td>32K562</td>\n",
       "      <td>Evergreen Middle School for Urban Exploration</td>\n",
       "      <td>Middle</td>\n",
       "      <td>Meeting Target</td>\n",
       "      <td>Exceeding Target</td>\n",
       "      <td>0.93</td>\n",
       "      <td>0.93</td>\n",
       "      <td>0.165</td>\n",
       "      <td>0.23</td>\n",
       "      <td>0.057</td>\n",
       "      <td>0.904</td>\n",
       "      <td>0.246</td>\n",
       "      <td>0.843</td>\n",
       "      <td>0.008</td>\n",
       "      <td>0.219</td>\n",
       "      <td>0.754</td>\n",
       "      <td>0.019</td>\n",
       "      <td>0.949</td>\n",
       "    </tr>\n",
       "  </tbody>\n",
       "</table>\n",
       "</div>"
      ],
      "text/plain": [
       "2        dbn                                    school_name school_type  \\\n",
       "1093  32K377             P.S. 377 Alejandrina B. De Gautier  Elementary   \n",
       "1094  32K383                   J.H.S. 383 Philippa Schuyler      Middle   \n",
       "1095  32K384               P.S. /I.S. 384 Frances E. Carter         K-8   \n",
       "1096  32K554           All City Leadership Secondary School      Middle   \n",
       "1097  32K562  Evergreen Middle School for Urban Exploration      Middle   \n",
       "\n",
       "2    fam_comm_ties_rating        trust_rating pct_pos_fam_comm_ties  \\\n",
       "1093       Meeting Target      Meeting Target                  0.96   \n",
       "1094   Approaching Target  Approaching Target                  0.88   \n",
       "1095       Meeting Target    Exceeding Target                  0.94   \n",
       "1096     Exceeding Target    Exceeding Target                  0.96   \n",
       "1097       Meeting Target    Exceeding Target                  0.93   \n",
       "\n",
       "2    pct_pos_trust pct_ell pct_disabilities pct_self_contained  \\\n",
       "1093          0.88   0.133            0.289              0.156   \n",
       "1094           0.8   0.058            0.167               0.07   \n",
       "1095          0.94   0.265             0.29              0.158   \n",
       "1096          0.95   0.022            0.072                  0   \n",
       "1097          0.93   0.165             0.23              0.057   \n",
       "\n",
       "2    economic_need_index pct_temp_housing pct_hra_eligible pct_asian  \\\n",
       "1093               0.824            0.126            0.756         0   \n",
       "1094               0.744            0.103            0.644     0.046   \n",
       "1095               0.899            0.145             0.84     0.006   \n",
       "1096               0.645            0.061            0.522     0.083   \n",
       "1097               0.904            0.246            0.843     0.008   \n",
       "\n",
       "2    pct_black pct_hispanic pct_white student_attendance_rate  \n",
       "1093     0.244        0.748     0.007                   0.916  \n",
       "1094     0.345        0.571     0.023                   0.944  \n",
       "1095     0.118         0.87     0.004                   0.917  \n",
       "1096     0.067        0.694      0.15                   0.974  \n",
       "1097     0.219        0.754     0.019                   0.949  "
      ]
     },
     "execution_count": 29,
     "metadata": {},
     "output_type": "execute_result"
    }
   ],
   "source": [
    "df.tail()"
   ]
  },
  {
   "cell_type": "markdown",
   "metadata": {},
   "source": [
    "Convert to csv"
   ]
  },
  {
   "cell_type": "code",
   "execution_count": 11,
   "metadata": {},
   "outputs": [],
   "source": [
    "# df.to_csv('sqr_no_comments.csv', index=False)"
   ]
  }
 ],
 "metadata": {
  "kernelspec": {
   "display_name": "Python 3",
   "language": "python",
   "name": "python3"
  },
  "language_info": {
   "codemirror_mode": {
    "name": "ipython",
    "version": 3
   },
   "file_extension": ".py",
   "mimetype": "text/x-python",
   "name": "python",
   "nbconvert_exporter": "python",
   "pygments_lexer": "ipython3",
   "version": "3.7.7"
  }
 },
 "nbformat": 4,
 "nbformat_minor": 4
}
