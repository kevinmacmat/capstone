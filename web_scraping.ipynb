{
 "cells": [
  {
   "cell_type": "code",
   "execution_count": 1,
   "metadata": {},
   "outputs": [],
   "source": [
    "import json\n",
    "import pandas as pd\n",
    "from selenium import webdriver\n",
    "from bs4 import BeautifulSoup"
   ]
  },
  {
   "cell_type": "markdown",
   "metadata": {},
   "source": [
    "Read in Data Frame"
   ]
  },
  {
   "cell_type": "code",
   "execution_count": 2,
   "metadata": {},
   "outputs": [],
   "source": [
    "df = pd.read_csv('sqr_no_comments.csv')"
   ]
  },
  {
   "cell_type": "markdown",
   "metadata": {},
   "source": [
    "Create a list of all DBN's"
   ]
  },
  {
   "cell_type": "code",
   "execution_count": 3,
   "metadata": {},
   "outputs": [],
   "source": [
    "dbn_list = list(df.dbn)"
   ]
  },
  {
   "cell_type": "code",
   "execution_count": 4,
   "metadata": {},
   "outputs": [
    {
     "data": {
      "text/plain": [
       "1098"
      ]
     },
     "execution_count": 4,
     "metadata": {},
     "output_type": "execute_result"
    }
   ],
   "source": [
    "len(dbn_list)"
   ]
  },
  {
   "cell_type": "code",
   "execution_count": 5,
   "metadata": {},
   "outputs": [],
   "source": [
    "dbn_list = dbn_list[1000:]"
   ]
  },
  {
   "cell_type": "markdown",
   "metadata": {},
   "source": [
    "Get the website"
   ]
  },
  {
   "cell_type": "code",
   "execution_count": 6,
   "metadata": {},
   "outputs": [],
   "source": [
    "# Create an instance of ChromeOptions\n",
    "options = webdriver.ChromeOptions()\n",
    "# Run headless mode so browser does not continually open with every iteration\n",
    "options.add_argument(\"headless\")\n",
    "# Instatiate chrome driver and pass in the file path to chromedriver\n",
    "driver = webdriver.Chrome('/Users/kevinmacmat/Desktop/capstone/chromedriver', options=options)"
   ]
  },
  {
   "cell_type": "code",
   "execution_count": 7,
   "metadata": {},
   "outputs": [],
   "source": [
    "output_list = []"
   ]
  },
  {
   "cell_type": "markdown",
   "metadata": {},
   "source": [
    "Get comments and output them to output_list"
   ]
  },
  {
   "cell_type": "code",
   "execution_count": 8,
   "metadata": {},
   "outputs": [],
   "source": [
    "for dbn in dbn_list:\n",
    "    # Get website \n",
    "    driver.get('https://insideschools.org/school/' + dbn)\n",
    "    # Switch to iframe containing script tag\n",
    "    driver.switch_to.frame(1)\n",
    "    text = driver.page_source\n",
    "    driver.switch_to.default_content()\n",
    "    # Parse and process the source with BeautifulSoup module by creating an BS object\n",
    "    soup = BeautifulSoup(text, 'lxml')\n",
    "    # Access the soup and find the script element's id\n",
    "    thread = soup.find(\"script\", {\"id\": \"disqus-threadData\"})\n",
    "#     thread = str(thread)\n",
    "    # Turn the bs4 tag into a string, remove the script tag, and access the json\n",
    "#     rm_script = thread.replace('<script id=\"disqus-threadData\"type=\"text/json\">', '')\n",
    "#     rm_script = thread.replace('</script>', '')\n",
    "    site_json=json.loads(str(thread)[48:-9])\n",
    "#     site_json=json.loads(rm_script)\n",
    "    # Instantiate comments list\n",
    "    comments_list = []\n",
    "    # Navigate and loop json, filtering comments by date, to append comments to comments_list\n",
    "    for comment in site_json['response']['posts']:\n",
    "        if '2014' in comment['createdAt']:\n",
    "            comments_list.append(comment['raw_message'])\n",
    "        elif '2015' in comment['createdAt']:\n",
    "            comments_list.append(comment['raw_message'])\n",
    "        elif '2016' in comment['createdAt']:\n",
    "            comments_list.append(comment['raw_message'])\n",
    "        elif '2017' in comment['createdAt']:\n",
    "            comments_list.append(comment['raw_message'])\n",
    "        elif '2018' in comment['createdAt']:\n",
    "            comments_list.append(comment['raw_message'])\n",
    "        elif '2019' in comment['createdAt']:\n",
    "            comments_list.append(comment['raw_message'])\n",
    "        elif '2020' in comment['createdAt']:\n",
    "            comments_list.append(comment['raw_message'])\n",
    "        else:\n",
    "            continue\n",
    "    # Append list of comments to output_list\n",
    "    output_list.append(comments_list)"
   ]
  },
  {
   "cell_type": "code",
   "execution_count": 9,
   "metadata": {},
   "outputs": [
    {
     "data": {
      "text/plain": [
       "98"
      ]
     },
     "execution_count": 9,
     "metadata": {},
     "output_type": "execute_result"
    }
   ],
   "source": [
    "len(output_list)"
   ]
  },
  {
   "cell_type": "code",
   "execution_count": 10,
   "metadata": {},
   "outputs": [],
   "source": [
    "# Export dataframe\n",
    "batch_df = pd.DataFrame(dbn_list, columns=['dbn'])"
   ]
  },
  {
   "cell_type": "code",
   "execution_count": 11,
   "metadata": {},
   "outputs": [],
   "source": [
    "# Add comments column to data frame\n",
    "batch_df['comments'] = output_list"
   ]
  },
  {
   "cell_type": "code",
   "execution_count": 12,
   "metadata": {},
   "outputs": [
    {
     "data": {
      "text/html": [
       "<div>\n",
       "<style scoped>\n",
       "    .dataframe tbody tr th:only-of-type {\n",
       "        vertical-align: middle;\n",
       "    }\n",
       "\n",
       "    .dataframe tbody tr th {\n",
       "        vertical-align: top;\n",
       "    }\n",
       "\n",
       "    .dataframe thead th {\n",
       "        text-align: right;\n",
       "    }\n",
       "</style>\n",
       "<table border=\"1\" class=\"dataframe\">\n",
       "  <thead>\n",
       "    <tr style=\"text-align: right;\">\n",
       "      <th></th>\n",
       "      <th>dbn</th>\n",
       "      <th>comments</th>\n",
       "    </tr>\n",
       "  </thead>\n",
       "  <tbody>\n",
       "    <tr>\n",
       "      <th>0</th>\n",
       "      <td>30Q149</td>\n",
       "      <td>[Hi, I am a former student that graduated in 2...</td>\n",
       "    </tr>\n",
       "    <tr>\n",
       "      <th>1</th>\n",
       "      <td>30Q150</td>\n",
       "      <td>[PS 150 President Carmen Parache has created a...</td>\n",
       "    </tr>\n",
       "    <tr>\n",
       "      <th>2</th>\n",
       "      <td>30Q151</td>\n",
       "      <td>[151 has come a long way, but don't let it foo...</td>\n",
       "    </tr>\n",
       "    <tr>\n",
       "      <th>3</th>\n",
       "      <td>30Q152</td>\n",
       "      <td>[Ps 152 queens, Horrible school! Rude staff, r...</td>\n",
       "    </tr>\n",
       "    <tr>\n",
       "      <th>4</th>\n",
       "      <td>30Q166</td>\n",
       "      <td>[Schools Chancellor Carmen Fariña announced th...</td>\n",
       "    </tr>\n",
       "    <tr>\n",
       "      <th>...</th>\n",
       "      <td>...</td>\n",
       "      <td>...</td>\n",
       "    </tr>\n",
       "    <tr>\n",
       "      <th>93</th>\n",
       "      <td>32K377</td>\n",
       "      <td>[Does anyone remember Mr. Corlito, 6th grade t...</td>\n",
       "    </tr>\n",
       "    <tr>\n",
       "      <th>94</th>\n",
       "      <td>32K383</td>\n",
       "      <td>[The District 32 Community Education Council h...</td>\n",
       "    </tr>\n",
       "    <tr>\n",
       "      <th>95</th>\n",
       "      <td>32K384</td>\n",
       "      <td>[P.S./I.S. 384 principal Phyllis Raulli said c...</td>\n",
       "    </tr>\n",
       "    <tr>\n",
       "      <th>96</th>\n",
       "      <td>32K554</td>\n",
       "      <td>[for the 7th graders are you required to wear ...</td>\n",
       "    </tr>\n",
       "    <tr>\n",
       "      <th>97</th>\n",
       "      <td>32K562</td>\n",
       "      <td>[Subbed at this school Twice, admins are rude,...</td>\n",
       "    </tr>\n",
       "  </tbody>\n",
       "</table>\n",
       "<p>98 rows × 2 columns</p>\n",
       "</div>"
      ],
      "text/plain": [
       "       dbn                                           comments\n",
       "0   30Q149  [Hi, I am a former student that graduated in 2...\n",
       "1   30Q150  [PS 150 President Carmen Parache has created a...\n",
       "2   30Q151  [151 has come a long way, but don't let it foo...\n",
       "3   30Q152  [Ps 152 queens, Horrible school! Rude staff, r...\n",
       "4   30Q166  [Schools Chancellor Carmen Fariña announced th...\n",
       "..     ...                                                ...\n",
       "93  32K377  [Does anyone remember Mr. Corlito, 6th grade t...\n",
       "94  32K383  [The District 32 Community Education Council h...\n",
       "95  32K384  [P.S./I.S. 384 principal Phyllis Raulli said c...\n",
       "96  32K554  [for the 7th graders are you required to wear ...\n",
       "97  32K562  [Subbed at this school Twice, admins are rude,...\n",
       "\n",
       "[98 rows x 2 columns]"
      ]
     },
     "execution_count": 12,
     "metadata": {},
     "output_type": "execute_result"
    }
   ],
   "source": [
    "batch_df"
   ]
  },
  {
   "cell_type": "markdown",
   "metadata": {},
   "source": [
    "Export completed data frame"
   ]
  },
  {
   "cell_type": "code",
   "execution_count": 13,
   "metadata": {},
   "outputs": [],
   "source": [
    "batch_df.to_csv('batch_1000-end_comments.csv', index=False)"
   ]
  }
 ],
 "metadata": {
  "kernelspec": {
   "display_name": "Python 3",
   "language": "python",
   "name": "python3"
  },
  "language_info": {
   "codemirror_mode": {
    "name": "ipython",
    "version": 3
   },
   "file_extension": ".py",
   "mimetype": "text/x-python",
   "name": "python",
   "nbconvert_exporter": "python",
   "pygments_lexer": "ipython3",
   "version": "3.7.7"
  }
 },
 "nbformat": 4,
 "nbformat_minor": 4
}
