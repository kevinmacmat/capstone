{
 "cells": [
  {
   "cell_type": "markdown",
   "metadata": {},
   "source": [
    "# Web Scraping Notebook"
   ]
  },
  {
   "cell_type": "markdown",
   "metadata": {},
   "source": [
    "---"
   ]
  },
  {
   "cell_type": "markdown",
   "metadata": {},
   "source": [
    "### Import Modules & Read in Data Frame"
   ]
  },
  {
   "cell_type": "code",
   "execution_count": 1,
   "metadata": {},
   "outputs": [],
   "source": [
    "import json\n",
    "import pandas as pd\n",
    "from selenium import webdriver\n",
    "from bs4 import BeautifulSoup"
   ]
  },
  {
   "cell_type": "code",
   "execution_count": 2,
   "metadata": {},
   "outputs": [],
   "source": [
    "df = pd.read_csv('sqr_no_comments.csv')"
   ]
  },
  {
   "cell_type": "markdown",
   "metadata": {},
   "source": [
    "---"
   ]
  },
  {
   "cell_type": "markdown",
   "metadata": {},
   "source": [
    "### Data Base Number (DBN) List"
   ]
  },
  {
   "cell_type": "markdown",
   "metadata": {},
   "source": [
    "Create a list of all DBN's to pass into end of https://insideschools.org/school/ url. "
   ]
  },
  {
   "cell_type": "code",
   "execution_count": 3,
   "metadata": {},
   "outputs": [],
   "source": [
    "dbn_list = list(df.dbn)"
   ]
  },
  {
   "cell_type": "markdown",
   "metadata": {},
   "source": [
    "Adjust dbn_list range in order to scrape and save in batches. Ran into issues when trying to scrape too much at one time. "
   ]
  },
  {
   "cell_type": "code",
   "execution_count": 5,
   "metadata": {},
   "outputs": [],
   "source": [
    "dbn_list = dbn_list[1000:]"
   ]
  },
  {
   "cell_type": "markdown",
   "metadata": {},
   "source": [
    "---"
   ]
  },
  {
   "cell_type": "markdown",
   "metadata": {},
   "source": [
    "### Scrape"
   ]
  },
  {
   "cell_type": "markdown",
   "metadata": {},
   "source": [
    "Use Selenium's headless mode option so browser does not continually open with every school's website. Must set a path to Selenium's downloaded chromedriver in order to function properly. "
   ]
  },
  {
   "cell_type": "code",
   "execution_count": 6,
   "metadata": {},
   "outputs": [],
   "source": [
    "# Create an instance of ChromeOptions\n",
    "options = webdriver.ChromeOptions()\n",
    "# Run headless mode \n",
    "options.add_argument(\"headless\")\n",
    "# Instatiate chrome driver and pass in the file path to chromedriver\n",
    "driver = webdriver.Chrome('/Users/kevinmacmat/Desktop/capstone/chromedriver', options=options)"
   ]
  },
  {
   "cell_type": "markdown",
   "metadata": {},
   "source": [
    "Get comments for past 6 years and output them to output_list. The 6 year cutoff was determined due to the SQR's availability for those years."
   ]
  },
  {
   "cell_type": "code",
   "execution_count": 7,
   "metadata": {},
   "outputs": [],
   "source": [
    "output_list = []"
   ]
  },
  {
   "cell_type": "code",
   "execution_count": 8,
   "metadata": {},
   "outputs": [],
   "source": [
    "for dbn in dbn_list:\n",
    "    # Get website \n",
    "    driver.get('https://insideschools.org/school/' + dbn)\n",
    "    # Switch to iframe containing script tag\n",
    "    driver.switch_to.frame(1)\n",
    "    # Grab the text\n",
    "    text = driver.page_source\n",
    "    # Switch out of iframe\n",
    "    driver.switch_to.default_content()\n",
    "    # Parse and process the source with BeautifulSoup module by creating an BS object\n",
    "    soup = BeautifulSoup(text, 'lxml')\n",
    "    # Access the soup and find the script element's id\n",
    "    thread = soup.find(\"script\", {\"id\": \"disqus-threadData\"})\n",
    "    # Turn the bs4 tag into a string, remove the script tag, and access the json\n",
    "    site_json=json.loads(str(thread)[48:-9])\n",
    "    # Instantiate comments list\n",
    "    comments_list = []\n",
    "    # Navigate and loop json, filtering comments by date, to append comments to comments_list\n",
    "    for comment in site_json['response']['posts']:\n",
    "        if '2014' in comment['createdAt']:\n",
    "            comments_list.append(comment['raw_message'])\n",
    "        elif '2015' in comment['createdAt']:\n",
    "            comments_list.append(comment['raw_message'])\n",
    "        elif '2016' in comment['createdAt']:\n",
    "            comments_list.append(comment['raw_message'])\n",
    "        elif '2017' in comment['createdAt']:\n",
    "            comments_list.append(comment['raw_message'])\n",
    "        elif '2018' in comment['createdAt']:\n",
    "            comments_list.append(comment['raw_message'])\n",
    "        elif '2019' in comment['createdAt']:\n",
    "            comments_list.append(comment['raw_message'])\n",
    "        elif '2020' in comment['createdAt']:\n",
    "            comments_list.append(comment['raw_message'])\n",
    "        else:\n",
    "            continue\n",
    "    # Append list of comments to output_list\n",
    "    output_list.append(comments_list)"
   ]
  },
  {
   "cell_type": "markdown",
   "metadata": {},
   "source": [
    "---"
   ]
  },
  {
   "cell_type": "markdown",
   "metadata": {},
   "source": [
    "### Make Data Frame"
   ]
  },
  {
   "cell_type": "code",
   "execution_count": 10,
   "metadata": {},
   "outputs": [],
   "source": [
    "# Create dataframe with list of data base numbers\n",
    "batch_df = pd.DataFrame(dbn_list, columns=['dbn'])"
   ]
  },
  {
   "cell_type": "code",
   "execution_count": 11,
   "metadata": {},
   "outputs": [],
   "source": [
    "# Add comments of recently scraped batch of comments to comments column \n",
    "batch_df['comments'] = output_list"
   ]
  },
  {
   "cell_type": "markdown",
   "metadata": {},
   "source": [
    "---"
   ]
  },
  {
   "cell_type": "markdown",
   "metadata": {},
   "source": [
    "### Convert data frame to CSV and export"
   ]
  },
  {
   "cell_type": "code",
   "execution_count": 13,
   "metadata": {},
   "outputs": [],
   "source": [
    "batch_df.to_csv('batch_1000-end_comments.csv', index=False)"
   ]
  }
 ],
 "metadata": {
  "kernelspec": {
   "display_name": "Python 3",
   "language": "python",
   "name": "python3"
  },
  "language_info": {
   "codemirror_mode": {
    "name": "ipython",
    "version": 3
   },
   "file_extension": ".py",
   "mimetype": "text/x-python",
   "name": "python",
   "nbconvert_exporter": "python",
   "pygments_lexer": "ipython3",
   "version": "3.7.7"
  }
 },
 "nbformat": 4,
 "nbformat_minor": 4
}
