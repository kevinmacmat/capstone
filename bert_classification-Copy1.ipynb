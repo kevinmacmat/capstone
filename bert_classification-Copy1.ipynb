{
 "cells": [
  {
   "cell_type": "code",
   "execution_count": 1,
   "metadata": {},
   "outputs": [],
   "source": [
    "import thinc\n",
    "import random\n",
    "import spacy\n",
    "import GPUtil\n",
    "import torch\n",
    "import pandas as pd\n",
    "from spacy.util import minibatch\n",
    "from tqdm.auto import tqdm\n",
    "import unicodedata\n",
    "import wasabi\n",
    "import numpy\n",
    "from collections import Counter\n",
    "from project_functions import *"
   ]
  },
  {
   "cell_type": "markdown",
   "metadata": {},
   "source": [
    "### Check GPU"
   ]
  },
  {
   "cell_type": "code",
   "execution_count": 2,
   "metadata": {},
   "outputs": [],
   "source": [
    "spacy.util.fix_random_seed(0)\n",
    "is_using_gpu = spacy.prefer_gpu()\n",
    "if is_using_gpu:\n",
    "    torch.set_default_tensor_type(\"torch.cuda.FloatTensor\")\n",
    "    print(\"GPU Usage\")\n",
    "    GPUtil.showUtilization()"
   ]
  },
  {
   "cell_type": "markdown",
   "metadata": {},
   "source": [
    "### Load Data"
   ]
  },
  {
   "cell_type": "code",
   "execution_count": 3,
   "metadata": {},
   "outputs": [],
   "source": [
    "df = pd.read_csv('csv/sqr_comments_sentiment.csv')"
   ]
  },
  {
   "cell_type": "code",
   "execution_count": 4,
   "metadata": {},
   "outputs": [
    {
     "data": {
      "text/plain": [
       "(985, 45)"
      ]
     },
     "execution_count": 4,
     "metadata": {},
     "output_type": "execute_result"
    }
   ],
   "source": [
    "df.shape"
   ]
  },
  {
   "cell_type": "markdown",
   "metadata": {},
   "source": [
    "### Clean comments"
   ]
  },
  {
   "cell_type": "code",
   "execution_count": 5,
   "metadata": {},
   "outputs": [],
   "source": [
    "cleanText(df, 'comments')"
   ]
  },
  {
   "cell_type": "markdown",
   "metadata": {},
   "source": [
    "### Change compound scores to binary"
   ]
  },
  {
   "cell_type": "code",
   "execution_count": 9,
   "metadata": {},
   "outputs": [],
   "source": [
    "df['compound_binary'] = df['compound'].apply(lambda x: 0 if x < 0 else (1 if x > 0 else x))"
   ]
  },
  {
   "cell_type": "markdown",
   "metadata": {},
   "source": [
    "### Create list of tuples column w/ (comments, sqr_rating) for each school"
   ]
  },
  {
   "cell_type": "code",
   "execution_count": 12,
   "metadata": {},
   "outputs": [],
   "source": [
    "df['tuples'] = list(zip(df.comments, df.compound_binary))"
   ]
  },
  {
   "cell_type": "markdown",
   "metadata": {},
   "source": [
    "### Functions for formatting and loading training and evaluation data"
   ]
  },
  {
   "cell_type": "raw",
   "metadata": {},
   "source": [
    "[ ] \"train_data\" should be a list of tuples. Each tuple should contain each document's text in the first index, and each document's label value in the second index. \n",
    "\n",
    "E.G. train_data : list of tuples [('text_1', label_value), ('text_2', label_value), . . .]"
   ]
  },
  {
   "cell_type": "code",
   "execution_count": 15,
   "metadata": {},
   "outputs": [],
   "source": [
    "# Partitions tuples into text and labels for sqr_rating values\n",
    "def _prepare_partition(text_label_tuples, *, preprocess=False):\n",
    "    texts, labels = zip(*text_label_tuples)\n",
    "    cats = [{\"POSITIVE\": bool(y), \"NEGATIVE\": not bool(y)} for y in labels]\n",
    "    return texts, cats\n",
    "\n",
    "# limit: how many examples to load from data, dev_size: size of hold-out set\n",
    "def load_data(df, *, limit=0, dev_size=98): \n",
    "    \"\"\"Load data, splitting off a held-out set.\"\"\"\n",
    "    if limit != 0:\n",
    "        limit += dev_size \n",
    "    assert dev_size != 0\n",
    "    \n",
    "    # load training data\n",
    "    train_data = df    \n",
    "    # len(train_data) = 985 > dev_size = 98\n",
    "    assert len(train_data) > dev_size    \n",
    "    # training data is shuffled\n",
    "    random.shuffle(train_data)\n",
    "    # dev_data = first 98 entries of training data\n",
    "    dev_data = train_data[:dev_size]\n",
    "    # train_data = from 98th entry onwards of training data for length of 887\n",
    "    train_data = train_data[dev_size:]\n",
    "    # partition tuples into text and labels -> train_texts, train_labels\n",
    "    train_texts, train_labels = _prepare_partition(train_data, preprocess=False) \n",
    "    # partition tuples into text and labels -> dev_texts, dev_labels\n",
    "    dev_texts, dev_labels = _prepare_partition(dev_data, preprocess=False)\n",
    "    return (train_texts, train_labels), (dev_texts, dev_labels)"
   ]
  },
  {
   "cell_type": "markdown",
   "metadata": {},
   "source": [
    "### Create training and evaluation text and labels"
   ]
  },
  {
   "cell_type": "code",
   "execution_count": 16,
   "metadata": {},
   "outputs": [
    {
     "name": "stderr",
     "output_type": "stream",
     "text": [
      "/Users/kevinmacmat/opt/anaconda3/envs/capstone_env/lib/python3.7/random.py:278: SettingWithCopyWarning: \n",
      "A value is trying to be set on a copy of a slice from a DataFrame\n",
      "\n",
      "See the caveats in the documentation: https://pandas.pydata.org/pandas-docs/stable/user_guide/indexing.html#returning-a-view-versus-a-copy\n",
      "  x[i], x[j] = x[j], x[i]\n"
     ]
    }
   ],
   "source": [
    "(train_texts, train_cats), (eval_texts, eval_cats) = load_data(df['tuples'])"
   ]
  },
  {
   "cell_type": "markdown",
   "metadata": {},
   "source": [
    "### Load language model"
   ]
  },
  {
   "cell_type": "code",
   "execution_count": 17,
   "metadata": {},
   "outputs": [
    {
     "name": "stdout",
     "output_type": "stream",
     "text": [
      "['sentencizer', 'trf_wordpiecer', 'trf_tok2vec']\n"
     ]
    }
   ],
   "source": [
    "nlp = spacy.load('en_trf_bertbaseuncased_lg')\n",
    "print(nlp.pipe_names)"
   ]
  },
  {
   "cell_type": "markdown",
   "metadata": {},
   "source": [
    "### Instantiate classifier"
   ]
  },
  {
   "cell_type": "code",
   "execution_count": 18,
   "metadata": {},
   "outputs": [],
   "source": [
    "textcat = nlp.create_pipe(\"trf_textcat\", config={\"architecture\": \"softmax_class_vector\"})"
   ]
  },
  {
   "cell_type": "markdown",
   "metadata": {},
   "source": [
    "### Add label to text classifier"
   ]
  },
  {
   "cell_type": "code",
   "execution_count": 19,
   "metadata": {},
   "outputs": [
    {
     "data": {
      "text/plain": [
       "1"
      ]
     },
     "execution_count": 19,
     "metadata": {},
     "output_type": "execute_result"
    }
   ],
   "source": [
    " # add label to text classifier\n",
    "textcat.add_label(\"POSITIVE\")\n",
    "textcat.add_label(\"NEGATIVE\")"
   ]
  },
  {
   "cell_type": "code",
   "execution_count": 20,
   "metadata": {},
   "outputs": [
    {
     "name": "stdout",
     "output_type": "stream",
     "text": [
      "Labels: ('POSITIVE', 'NEGATIVE')\n",
      "Using 887 training docs, 98 evaluation\n"
     ]
    }
   ],
   "source": [
    "print(\"Labels:\", textcat.labels)\n",
    "nlp.add_pipe(textcat, last=True)\n",
    "print(f\"Using {len(train_texts)} training docs, {len(eval_texts)} evaluation\")"
   ]
  },
  {
   "cell_type": "code",
   "execution_count": 21,
   "metadata": {},
   "outputs": [],
   "source": [
    "# total_words = sum(len(text.split()) for text in train_texts)\n",
    "train_data = list(zip(train_texts, [{\"cats\": cats} for cats in train_cats]))"
   ]
  },
  {
   "cell_type": "code",
   "execution_count": 22,
   "metadata": {},
   "outputs": [
    {
     "name": "stdout",
     "output_type": "stream",
     "text": [
      "type(train_data) : <class 'list'> of tuples\n",
      "\n",
      "type(train_data[0]) : <class 'tuple'>\n",
      "type(train_data[0]) : ('hawtree creek middle school has held its first commencement ceremony  the students from the schools first graduating class will be attending close to  different high schools starting in september read more a hrefhttpwwwqchroncomeditionssouthagamblepaysoffforsopstudentsarticleefafdcbbfcebchtmlherea ms  lets students take the lead in parentteacher conferences with resounding success read more a hrefhttpwwwqchroncomeditionssouthmssnewkindofparentteachermeetingarticleaacfbecbccdfehtmlherea', {'cats': {'POSITIVE': True, 'NEGATIVE': False}})\n",
      "\n",
      "type(train_data[0][0]) : <class 'str'>\n",
      "len(train_data[0][0]) : 490\n",
      "train_data[0][0][0:7] : hawtree\n",
      "\n",
      "type(train_data[0][1]) : <class 'dict'>\n",
      "type(train_data[0][1]) : {'cats': {'POSITIVE': True, 'NEGATIVE': False}}\n",
      "type(train_data[0][1]['cats']) : {'POSITIVE': True, 'NEGATIVE': False}\n"
     ]
    },
    {
     "ename": "KeyError",
     "evalue": "'6'",
     "output_type": "error",
     "traceback": [
      "\u001b[0;31m---------------------------------------------------------------------------\u001b[0m",
      "\u001b[0;31mKeyError\u001b[0m                                  Traceback (most recent call last)",
      "\u001b[0;32m<ipython-input-22-c74d05511d4e>\u001b[0m in \u001b[0;36m<module>\u001b[0;34m\u001b[0m\n\u001b[1;32m     11\u001b[0m \u001b[0mprint\u001b[0m\u001b[0;34m(\u001b[0m\u001b[0;34m'type(train_data[0][1]) : {}'\u001b[0m\u001b[0;34m.\u001b[0m\u001b[0mformat\u001b[0m\u001b[0;34m(\u001b[0m\u001b[0mtrain_data\u001b[0m\u001b[0;34m[\u001b[0m\u001b[0;36m0\u001b[0m\u001b[0;34m]\u001b[0m\u001b[0;34m[\u001b[0m\u001b[0;36m1\u001b[0m\u001b[0;34m]\u001b[0m\u001b[0;34m)\u001b[0m\u001b[0;34m)\u001b[0m\u001b[0;34m\u001b[0m\u001b[0;34m\u001b[0m\u001b[0m\n\u001b[1;32m     12\u001b[0m \u001b[0mprint\u001b[0m\u001b[0;34m(\u001b[0m\u001b[0;34m'type(train_data[0][1][\\'cats\\']) : {}'\u001b[0m\u001b[0;34m.\u001b[0m\u001b[0mformat\u001b[0m\u001b[0;34m(\u001b[0m\u001b[0mtrain_data\u001b[0m\u001b[0;34m[\u001b[0m\u001b[0;36m0\u001b[0m\u001b[0;34m]\u001b[0m\u001b[0;34m[\u001b[0m\u001b[0;36m1\u001b[0m\u001b[0;34m]\u001b[0m\u001b[0;34m[\u001b[0m\u001b[0;34m'cats'\u001b[0m\u001b[0;34m]\u001b[0m\u001b[0;34m)\u001b[0m\u001b[0;34m)\u001b[0m\u001b[0;34m\u001b[0m\u001b[0;34m\u001b[0m\u001b[0m\n\u001b[0;32m---> 13\u001b[0;31m \u001b[0mprint\u001b[0m\u001b[0;34m(\u001b[0m\u001b[0;34m'type(train_data[0][1][\\'cats\\'][\\'6\\']) : {}'\u001b[0m\u001b[0;34m.\u001b[0m\u001b[0mformat\u001b[0m\u001b[0;34m(\u001b[0m\u001b[0mtrain_data\u001b[0m\u001b[0;34m[\u001b[0m\u001b[0;36m0\u001b[0m\u001b[0;34m]\u001b[0m\u001b[0;34m[\u001b[0m\u001b[0;36m1\u001b[0m\u001b[0;34m]\u001b[0m\u001b[0;34m[\u001b[0m\u001b[0;34m'cats'\u001b[0m\u001b[0;34m]\u001b[0m\u001b[0;34m[\u001b[0m\u001b[0;34m'6'\u001b[0m\u001b[0;34m]\u001b[0m\u001b[0;34m)\u001b[0m\u001b[0;34m)\u001b[0m\u001b[0;34m\u001b[0m\u001b[0;34m\u001b[0m\u001b[0m\n\u001b[0m",
      "\u001b[0;31mKeyError\u001b[0m: '6'"
     ]
    }
   ],
   "source": [
    "print('type(train_data) : {} of tuples'.format(type(train_data)))\n",
    "print('')\n",
    "print('type(train_data[0]) : {}'.format(type(train_data[0])))\n",
    "print('type(train_data[0]) : {}'.format(train_data[0]))\n",
    "print('')\n",
    "print('type(train_data[0][0]) : {}'.format(type(train_data[0][0])))\n",
    "print('len(train_data[0][0]) : {}'.format(len(train_data[0][0])))\n",
    "print('train_data[0][0][0:7] : {}'.format(train_data[0][0][0:7]))\n",
    "print('')\n",
    "print('type(train_data[0][1]) : {}'.format(type(train_data[0][1])))\n",
    "print('type(train_data[0][1]) : {}'.format(train_data[0][1]))\n",
    "print('type(train_data[0][1][\\'cats\\']) : {}'.format(train_data[0][1]['cats']))\n",
    "print('type(train_data[0][1][\\'cats\\'][\\'6\\']) : {}'.format(train_data[0][1]['cats']['6']))"
   ]
  },
  {
   "cell_type": "markdown",
   "metadata": {},
   "source": [
    "---"
   ]
  },
  {
   "cell_type": "markdown",
   "metadata": {},
   "source": [
    "### Set hyperparameters"
   ]
  },
  {
   "cell_type": "code",
   "execution_count": 23,
   "metadata": {},
   "outputs": [],
   "source": [
    "n_iter=4\n",
    "n_texts=1000 #Changed number of texts to 75 to relieve pressue on GPU memory\n",
    "batch_size=8 #batch-szie changed to 4 to relieve pressure on GPU memory\n",
    "learn_rate=2e-5\n",
    "max_wpb=1000\n",
    "pos_label=\"POSITIVE\""
   ]
  },
  {
   "cell_type": "markdown",
   "metadata": {},
   "source": [
    "### Adaptive learning rate function"
   ]
  },
  {
   "cell_type": "code",
   "execution_count": 24,
   "metadata": {},
   "outputs": [],
   "source": [
    "def cyclic_triangular_rate(min_lr, max_lr, period):\n",
    "    it = 1\n",
    "    while True:\n",
    "        # https://towardsdatascience.com/adaptive-and-cyclical-learning-rates-using-pytorch-2bf904d18dee\n",
    "        cycle = numpy.floor(1 + it / (2 * period))\n",
    "        x = numpy.abs(it / period - 2 * cycle + 1)\n",
    "        relative = max(0, 1 - x)\n",
    "        yield min_lr + (max_lr - min_lr) * relative\n",
    "        it += 1"
   ]
  },
  {
   "cell_type": "markdown",
   "metadata": {},
   "source": [
    "### Evaluation function (precision, recall, f1)"
   ]
  },
  {
   "cell_type": "code",
   "execution_count": 25,
   "metadata": {},
   "outputs": [],
   "source": [
    "# nlp = spaCy Language Transformer, texts = eval_texts, cats = eval_cats, pos_label = 'POSITIVE'\n",
    "def evaluate(nlp, texts, cats, pos_label):\n",
    "    tp = 0.0  # True positives\n",
    "    fp = 0.0  # False positives\n",
    "    fn = 0.0  # False negatives\n",
    "    tn = 0.0  # True negatives\n",
    "    total_words = sum(len(text.split()) for text in texts)\n",
    "    with tqdm(total=total_words, leave=False) as pbar:\n",
    "        for i, doc in enumerate(nlp.pipe(texts, batch_size=batch_size)):\n",
    "            gold = cats[i]\n",
    "            for label, score in doc.cats.items():\n",
    "                if label not in gold:\n",
    "                    continue\n",
    "                if label != pos_label:\n",
    "                    continue\n",
    "                if score >= 0.5 and gold[label] >= 0.5:\n",
    "                    tp += 1.0\n",
    "                elif score >= 0.5 and gold[label] < 0.5:\n",
    "                    fp += 1.0\n",
    "                elif score < 0.5 and gold[label] < 0.5:\n",
    "                    tn += 1\n",
    "                elif score < 0.5 and gold[label] >= 0.5:\n",
    "                    fn += 1\n",
    "            pbar.update(len(doc.text.split()))\n",
    "    precision = tp / (tp + fp + 1e-8)\n",
    "    recall = tp / (tp + fn + 1e-8)\n",
    "    if (precision + recall) == 0:\n",
    "        f_score = 0.0\n",
    "    else:\n",
    "        f_score = 2 * (precision * recall) / (precision + recall)\n",
    "    return {\"textcat_p\": precision, \"textcat_r\": recall, \"textcat_f\": f_score}"
   ]
  },
  {
   "cell_type": "markdown",
   "metadata": {},
   "source": [
    "### Initialize the TextCategorizer, and create an optimizer."
   ]
  },
  {
   "cell_type": "code",
   "execution_count": 26,
   "metadata": {},
   "outputs": [
    {
     "name": "stdout",
     "output_type": "stream",
     "text": [
      "Training the model...\n",
      "LOSS \t  P  \t  R  \t  F  \n"
     ]
    },
    {
     "data": {
      "application/vnd.jupyter.widget-view+json": {
       "model_id": "",
       "version_major": 2,
       "version_minor": 0
      },
      "text/plain": [
       "HBox(children=(FloatProgress(value=0.0), HTML(value='')))"
      ]
     },
     "metadata": {},
     "output_type": "display_data"
    },
    {
     "data": {
      "application/vnd.jupyter.widget-view+json": {
       "model_id": "",
       "version_major": 2,
       "version_minor": 0
      },
      "text/plain": [
       "HBox(children=(FloatProgress(value=0.0, max=70064.0), HTML(value='')))"
      ]
     },
     "metadata": {},
     "output_type": "display_data"
    },
    {
     "name": "stdout",
     "output_type": "stream",
     "text": [
      "0.497\t0.765\t1.000\t0.867\n"
     ]
    },
    {
     "data": {
      "application/vnd.jupyter.widget-view+json": {
       "model_id": "60651a59d284428892c771b61966a4b9",
       "version_major": 2,
       "version_minor": 0
      },
      "text/plain": [
       "HBox(children=(FloatProgress(value=0.0), HTML(value='')))"
      ]
     },
     "metadata": {},
     "output_type": "display_data"
    },
    {
     "name": "stdout",
     "output_type": "stream",
     "text": [
      "epoch 1\n",
      "best score: 0.8670520230211501  best_step : 100  best epoch : 0 \n",
      "break clause: 0\n",
      "\u001b[38;5;4mℹ Best scoring checkpoints\u001b[0m\n",
      "Epoch   Step   Score \n",
      "--   ----   ------\n",
      "0    100    86.71 \n",
      "child safety is not their concern children are being lined up outside the school with no supervision parents standing around in cluster where as children are unable to get in line because of this  security guard is either inside the school or standing at the top of the stairs the parent coordinator is never outside you only see her once in a while standing outside with the children they have a empty school yard where the children can line up by class just like they use to what going to happen come winter snow and the rain not to mention the cold they have to stand outside until the parent coordinator come out and tell them to go in  thats another thing she will tell the th graders to go into the school first while the nd graders have to stand outside you see there is many men shelters in the area as a parent and grand parent you see all types of people hanging around the school so you dont know if these are the parents or pedophiles looking to snatch up and child child safety should be the principal and the parent coordinator priority im so happy my grands will be transfer out of this school even though they excel in all area academically safety is more our concern especially when you unable to drop them off and have to wait with them being late even when you get there on time every morning still going to report this to the school chancellor media and my elected official this need to be address as i drive to work other schools are so organized in the morning lining up and discharging the student ps  a change need to be made ps  used theater to teach english to  new immigrants including those who speak bengali see pp  of brooklyn college newsletter from summer nnhttpwwwbrooklyncunyeduwebacaeducationgeneralchalkboardspringsummerpdf the a hrefhttpschoolsnycgovofficesmediarelationsnewsandspeecheschancellorfarinaannouncesnewbilingualprogramshtmdepartment of education has announceda that ps  will have a spanish dual language program from the start of the  school year we tells you this school ps is start  and dismissal  chancellor carmen fariña announced  schools selected to joinnthe learning partners program an innovative and collaborativeninitiative that brings schools together to share practices to improve learningnin the classroom and raise student outcomes through the program one host school with strong practices in a particular focus area will support two partner schools seeking to strengthen their own practices in that area ps  william penn was chosen to host ps  teunis g bergen and ps  read more a hrefhttpschoolsnycgovofficesmediarelationsnewsandspeecheschancellorfariñaannouncesschoolsinlearningpartnersprogramforschoolyearhtmherea {'POSITIVE': 0.8802008628845215, 'NEGATIVE': 0.11979921162128448}\n"
     ]
    },
    {
     "data": {
      "application/vnd.jupyter.widget-view+json": {
       "model_id": "",
       "version_major": 2,
       "version_minor": 0
      },
      "text/plain": [
       "HBox(children=(FloatProgress(value=0.0, max=70064.0), HTML(value='')))"
      ]
     },
     "metadata": {},
     "output_type": "display_data"
    },
    {
     "name": "stdout",
     "output_type": "stream",
     "text": [
      "0.006\t0.765\t1.000\t0.867\n"
     ]
    },
    {
     "data": {
      "application/vnd.jupyter.widget-view+json": {
       "model_id": "",
       "version_major": 2,
       "version_minor": 0
      },
      "text/plain": [
       "HBox(children=(FloatProgress(value=0.0), HTML(value='')))"
      ]
     },
     "metadata": {},
     "output_type": "display_data"
    },
    {
     "data": {
      "application/vnd.jupyter.widget-view+json": {
       "model_id": "",
       "version_major": 2,
       "version_minor": 0
      },
      "text/plain": [
       "HBox(children=(FloatProgress(value=0.0, max=70064.0), HTML(value='')))"
      ]
     },
     "metadata": {},
     "output_type": "display_data"
    },
    {
     "name": "stdout",
     "output_type": "stream",
     "text": [
      "0.524\t0.773\t1.000\t0.872\n"
     ]
    },
    {
     "data": {
      "application/vnd.jupyter.widget-view+json": {
       "model_id": "432fe9aa52754fe58cccec0367b330c5",
       "version_major": 2,
       "version_minor": 0
      },
      "text/plain": [
       "HBox(children=(FloatProgress(value=0.0), HTML(value='')))"
      ]
     },
     "metadata": {},
     "output_type": "display_data"
    },
    {
     "name": "stdout",
     "output_type": "stream",
     "text": [
      "epoch 1\n",
      "best score: 0.8720930231544078  best_step : 200  best epoch : 0 \n",
      "break clause: 0\n",
      "\u001b[38;5;4mℹ Best scoring checkpoints\u001b[0m\n",
      "Epoch   Step   Score \n",
      "--   ----   ------\n",
      "0    200    87.21 \n",
      "0    100    86.71 \n",
      "0    100    86.71 \n",
      "child safety is not their concern children are being lined up outside the school with no supervision parents standing around in cluster where as children are unable to get in line because of this  security guard is either inside the school or standing at the top of the stairs the parent coordinator is never outside you only see her once in a while standing outside with the children they have a empty school yard where the children can line up by class just like they use to what going to happen come winter snow and the rain not to mention the cold they have to stand outside until the parent coordinator come out and tell them to go in  thats another thing she will tell the th graders to go into the school first while the nd graders have to stand outside you see there is many men shelters in the area as a parent and grand parent you see all types of people hanging around the school so you dont know if these are the parents or pedophiles looking to snatch up and child child safety should be the principal and the parent coordinator priority im so happy my grands will be transfer out of this school even though they excel in all area academically safety is more our concern especially when you unable to drop them off and have to wait with them being late even when you get there on time every morning still going to report this to the school chancellor media and my elected official this need to be address as i drive to work other schools are so organized in the morning lining up and discharging the student ps  a change need to be made ps  used theater to teach english to  new immigrants including those who speak bengali see pp  of brooklyn college newsletter from summer nnhttpwwwbrooklyncunyeduwebacaeducationgeneralchalkboardspringsummerpdf the a hrefhttpschoolsnycgovofficesmediarelationsnewsandspeecheschancellorfarinaannouncesnewbilingualprogramshtmdepartment of education has announceda that ps  will have a spanish dual language program from the start of the  school year we tells you this school ps is start  and dismissal  chancellor carmen fariña announced  schools selected to joinnthe learning partners program an innovative and collaborativeninitiative that brings schools together to share practices to improve learningnin the classroom and raise student outcomes through the program one host school with strong practices in a particular focus area will support two partner schools seeking to strengthen their own practices in that area ps  william penn was chosen to host ps  teunis g bergen and ps  read more a hrefhttpschoolsnycgovofficesmediarelationsnewsandspeecheschancellorfariñaannouncesschoolsinlearningpartnersprogramforschoolyearhtmherea {'POSITIVE': 0.8059431910514832, 'NEGATIVE': 0.19405686855316162}\n"
     ]
    },
    {
     "data": {
      "application/vnd.jupyter.widget-view+json": {
       "model_id": "",
       "version_major": 2,
       "version_minor": 0
      },
      "text/plain": [
       "HBox(children=(FloatProgress(value=0.0, max=70064.0), HTML(value='')))"
      ]
     },
     "metadata": {},
     "output_type": "display_data"
    },
    {
     "name": "stdout",
     "output_type": "stream",
     "text": [
      "0.008\t0.773\t1.000\t0.872\n"
     ]
    },
    {
     "data": {
      "application/vnd.jupyter.widget-view+json": {
       "model_id": "",
       "version_major": 2,
       "version_minor": 0
      },
      "text/plain": [
       "HBox(children=(FloatProgress(value=0.0), HTML(value='')))"
      ]
     },
     "metadata": {},
     "output_type": "display_data"
    },
    {
     "data": {
      "application/vnd.jupyter.widget-view+json": {
       "model_id": "",
       "version_major": 2,
       "version_minor": 0
      },
      "text/plain": [
       "HBox(children=(FloatProgress(value=0.0, max=70064.0), HTML(value='')))"
      ]
     },
     "metadata": {},
     "output_type": "display_data"
    },
    {
     "name": "stdout",
     "output_type": "stream",
     "text": [
      "0.484\t0.773\t1.000\t0.872\n"
     ]
    },
    {
     "data": {
      "application/vnd.jupyter.widget-view+json": {
       "model_id": "d8698bffc52b4c17b562104a1f964fd5",
       "version_major": 2,
       "version_minor": 0
      },
      "text/plain": [
       "HBox(children=(FloatProgress(value=0.0), HTML(value='')))"
      ]
     },
     "metadata": {},
     "output_type": "display_data"
    },
    {
     "name": "stdout",
     "output_type": "stream",
     "text": [
      "epoch 1\n",
      "best score: 0.8720930231544078  best_step : 200  best epoch : 0 \n",
      "break clause: 0\n",
      "\u001b[38;5;4mℹ Best scoring checkpoints\u001b[0m\n",
      "Epoch   Step   Score \n",
      "--   ----   ------\n",
      "0    200    87.21 \n",
      "0    200    87.21 \n",
      "0    100    87.21 \n",
      "0    100    86.71 \n",
      "0    100    86.71 \n",
      "child safety is not their concern children are being lined up outside the school with no supervision parents standing around in cluster where as children are unable to get in line because of this  security guard is either inside the school or standing at the top of the stairs the parent coordinator is never outside you only see her once in a while standing outside with the children they have a empty school yard where the children can line up by class just like they use to what going to happen come winter snow and the rain not to mention the cold they have to stand outside until the parent coordinator come out and tell them to go in  thats another thing she will tell the th graders to go into the school first while the nd graders have to stand outside you see there is many men shelters in the area as a parent and grand parent you see all types of people hanging around the school so you dont know if these are the parents or pedophiles looking to snatch up and child child safety should be the principal and the parent coordinator priority im so happy my grands will be transfer out of this school even though they excel in all area academically safety is more our concern especially when you unable to drop them off and have to wait with them being late even when you get there on time every morning still going to report this to the school chancellor media and my elected official this need to be address as i drive to work other schools are so organized in the morning lining up and discharging the student ps  a change need to be made ps  used theater to teach english to  new immigrants including those who speak bengali see pp  of brooklyn college newsletter from summer nnhttpwwwbrooklyncunyeduwebacaeducationgeneralchalkboardspringsummerpdf the a hrefhttpschoolsnycgovofficesmediarelationsnewsandspeecheschancellorfarinaannouncesnewbilingualprogramshtmdepartment of education has announceda that ps  will have a spanish dual language program from the start of the  school year we tells you this school ps is start  and dismissal  chancellor carmen fariña announced  schools selected to joinnthe learning partners program an innovative and collaborativeninitiative that brings schools together to share practices to improve learningnin the classroom and raise student outcomes through the program one host school with strong practices in a particular focus area will support two partner schools seeking to strengthen their own practices in that area ps  william penn was chosen to host ps  teunis g bergen and ps  read more a hrefhttpschoolsnycgovofficesmediarelationsnewsandspeecheschancellorfariñaannouncesschoolsinlearningpartnersprogramforschoolyearhtmherea {'POSITIVE': 0.8381561636924744, 'NEGATIVE': 0.16184383630752563}\n"
     ]
    },
    {
     "data": {
      "application/vnd.jupyter.widget-view+json": {
       "model_id": "",
       "version_major": 2,
       "version_minor": 0
      },
      "text/plain": [
       "HBox(children=(FloatProgress(value=0.0, max=70064.0), HTML(value='')))"
      ]
     },
     "metadata": {},
     "output_type": "display_data"
    },
    {
     "name": "stdout",
     "output_type": "stream",
     "text": [
      "0.008\t0.765\t1.000\t0.867\n"
     ]
    },
    {
     "data": {
      "application/vnd.jupyter.widget-view+json": {
       "model_id": "",
       "version_major": 2,
       "version_minor": 0
      },
      "text/plain": [
       "HBox(children=(FloatProgress(value=0.0), HTML(value='')))"
      ]
     },
     "metadata": {},
     "output_type": "display_data"
    },
    {
     "data": {
      "application/vnd.jupyter.widget-view+json": {
       "model_id": "",
       "version_major": 2,
       "version_minor": 0
      },
      "text/plain": [
       "HBox(children=(FloatProgress(value=0.0, max=70064.0), HTML(value='')))"
      ]
     },
     "metadata": {},
     "output_type": "display_data"
    },
    {
     "name": "stdout",
     "output_type": "stream",
     "text": [
      "0.481\t0.765\t1.000\t0.867\n"
     ]
    },
    {
     "data": {
      "application/vnd.jupyter.widget-view+json": {
       "model_id": "c42a3bf2057647f79e0c79a01df8a27c",
       "version_major": 2,
       "version_minor": 0
      },
      "text/plain": [
       "HBox(children=(FloatProgress(value=0.0), HTML(value='')))"
      ]
     },
     "metadata": {},
     "output_type": "display_data"
    },
    {
     "name": "stdout",
     "output_type": "stream",
     "text": [
      "epoch 1\n",
      "best score: 0.8720930231544078  best_step : 200  best epoch : 0 \n",
      "break clause: 0\n",
      "\u001b[38;5;4mℹ Best scoring checkpoints\u001b[0m\n",
      "Epoch   Step   Score \n",
      "--   ----   ------\n",
      "0    200    87.21 \n",
      "0    200    87.21 \n",
      "0    100    87.21 \n",
      "0    200    86.71 \n",
      "0    100    86.71 \n",
      "0    100    86.71 \n",
      "0    100    86.71 \n",
      "child safety is not their concern children are being lined up outside the school with no supervision parents standing around in cluster where as children are unable to get in line because of this  security guard is either inside the school or standing at the top of the stairs the parent coordinator is never outside you only see her once in a while standing outside with the children they have a empty school yard where the children can line up by class just like they use to what going to happen come winter snow and the rain not to mention the cold they have to stand outside until the parent coordinator come out and tell them to go in  thats another thing she will tell the th graders to go into the school first while the nd graders have to stand outside you see there is many men shelters in the area as a parent and grand parent you see all types of people hanging around the school so you dont know if these are the parents or pedophiles looking to snatch up and child child safety should be the principal and the parent coordinator priority im so happy my grands will be transfer out of this school even though they excel in all area academically safety is more our concern especially when you unable to drop them off and have to wait with them being late even when you get there on time every morning still going to report this to the school chancellor media and my elected official this need to be address as i drive to work other schools are so organized in the morning lining up and discharging the student ps  a change need to be made ps  used theater to teach english to  new immigrants including those who speak bengali see pp  of brooklyn college newsletter from summer nnhttpwwwbrooklyncunyeduwebacaeducationgeneralchalkboardspringsummerpdf the a hrefhttpschoolsnycgovofficesmediarelationsnewsandspeecheschancellorfarinaannouncesnewbilingualprogramshtmdepartment of education has announceda that ps  will have a spanish dual language program from the start of the  school year we tells you this school ps is start  and dismissal  chancellor carmen fariña announced  schools selected to joinnthe learning partners program an innovative and collaborativeninitiative that brings schools together to share practices to improve learningnin the classroom and raise student outcomes through the program one host school with strong practices in a particular focus area will support two partner schools seeking to strengthen their own practices in that area ps  william penn was chosen to host ps  teunis g bergen and ps  read more a hrefhttpschoolsnycgovofficesmediarelationsnewsandspeecheschancellorfariñaannouncesschoolsinlearningpartnersprogramforschoolyearhtmherea {'POSITIVE': 0.7572058439254761, 'NEGATIVE': 0.24279415607452393}\n"
     ]
    },
    {
     "data": {
      "application/vnd.jupyter.widget-view+json": {
       "model_id": "",
       "version_major": 2,
       "version_minor": 0
      },
      "text/plain": [
       "HBox(children=(FloatProgress(value=0.0, max=70064.0), HTML(value='')))"
      ]
     },
     "metadata": {},
     "output_type": "display_data"
    },
    {
     "name": "stdout",
     "output_type": "stream",
     "text": [
      "0.010\t0.765\t1.000\t0.867\n"
     ]
    },
    {
     "data": {
      "application/vnd.jupyter.widget-view+json": {
       "model_id": "",
       "version_major": 2,
       "version_minor": 0
      },
      "text/plain": [
       "HBox(children=(FloatProgress(value=0.0), HTML(value='')))"
      ]
     },
     "metadata": {},
     "output_type": "display_data"
    },
    {
     "data": {
      "application/vnd.jupyter.widget-view+json": {
       "model_id": "",
       "version_major": 2,
       "version_minor": 0
      },
      "text/plain": [
       "HBox(children=(FloatProgress(value=0.0, max=70064.0), HTML(value='')))"
      ]
     },
     "metadata": {},
     "output_type": "display_data"
    },
    {
     "name": "stdout",
     "output_type": "stream",
     "text": [
      "0.511\t0.765\t1.000\t0.867\n"
     ]
    },
    {
     "data": {
      "application/vnd.jupyter.widget-view+json": {
       "model_id": "6df2a51b87764db29a59dba89b7b2238",
       "version_major": 2,
       "version_minor": 0
      },
      "text/plain": [
       "HBox(children=(FloatProgress(value=0.0), HTML(value='')))"
      ]
     },
     "metadata": {},
     "output_type": "display_data"
    },
    {
     "name": "stdout",
     "output_type": "stream",
     "text": [
      "epoch 1\n",
      "best score: 0.8720930231544078  best_step : 200  best epoch : 0 \n",
      "break clause: 0\n",
      "\u001b[38;5;4mℹ Best scoring checkpoints\u001b[0m\n",
      "Epoch   Step   Score \n",
      "--   ----   ------\n",
      "0    200    87.21 \n",
      "0    200    87.21 \n",
      "0    100    87.21 \n",
      "0    200    86.71 \n",
      "0    200    86.71 \n",
      "0    100    86.71 \n",
      "0    100    86.71 \n",
      "0    100    86.71 \n",
      "0    100    86.71 \n",
      "child safety is not their concern children are being lined up outside the school with no supervision parents standing around in cluster where as children are unable to get in line because of this  security guard is either inside the school or standing at the top of the stairs the parent coordinator is never outside you only see her once in a while standing outside with the children they have a empty school yard where the children can line up by class just like they use to what going to happen come winter snow and the rain not to mention the cold they have to stand outside until the parent coordinator come out and tell them to go in  thats another thing she will tell the th graders to go into the school first while the nd graders have to stand outside you see there is many men shelters in the area as a parent and grand parent you see all types of people hanging around the school so you dont know if these are the parents or pedophiles looking to snatch up and child child safety should be the principal and the parent coordinator priority im so happy my grands will be transfer out of this school even though they excel in all area academically safety is more our concern especially when you unable to drop them off and have to wait with them being late even when you get there on time every morning still going to report this to the school chancellor media and my elected official this need to be address as i drive to work other schools are so organized in the morning lining up and discharging the student ps  a change need to be made ps  used theater to teach english to  new immigrants including those who speak bengali see pp  of brooklyn college newsletter from summer nnhttpwwwbrooklyncunyeduwebacaeducationgeneralchalkboardspringsummerpdf the a hrefhttpschoolsnycgovofficesmediarelationsnewsandspeecheschancellorfarinaannouncesnewbilingualprogramshtmdepartment of education has announceda that ps  will have a spanish dual language program from the start of the  school year we tells you this school ps is start  and dismissal  chancellor carmen fariña announced  schools selected to joinnthe learning partners program an innovative and collaborativeninitiative that brings schools together to share practices to improve learningnin the classroom and raise student outcomes through the program one host school with strong practices in a particular focus area will support two partner schools seeking to strengthen their own practices in that area ps  william penn was chosen to host ps  teunis g bergen and ps  read more a hrefhttpschoolsnycgovofficesmediarelationsnewsandspeecheschancellorfariñaannouncesschoolsinlearningpartnersprogramforschoolyearhtmherea {'POSITIVE': 0.8653389811515808, 'NEGATIVE': 0.13466103374958038}\n"
     ]
    },
    {
     "data": {
      "application/vnd.jupyter.widget-view+json": {
       "model_id": "",
       "version_major": 2,
       "version_minor": 0
      },
      "text/plain": [
       "HBox(children=(FloatProgress(value=0.0, max=70064.0), HTML(value='')))"
      ]
     },
     "metadata": {},
     "output_type": "display_data"
    },
    {
     "name": "stdout",
     "output_type": "stream",
     "text": [
      "0.009\t0.765\t1.000\t0.867\n"
     ]
    },
    {
     "data": {
      "application/vnd.jupyter.widget-view+json": {
       "model_id": "",
       "version_major": 2,
       "version_minor": 0
      },
      "text/plain": [
       "HBox(children=(FloatProgress(value=0.0), HTML(value='')))"
      ]
     },
     "metadata": {},
     "output_type": "display_data"
    },
    {
     "data": {
      "application/vnd.jupyter.widget-view+json": {
       "model_id": "",
       "version_major": 2,
       "version_minor": 0
      },
      "text/plain": [
       "HBox(children=(FloatProgress(value=0.0, max=70064.0), HTML(value='')))"
      ]
     },
     "metadata": {},
     "output_type": "display_data"
    },
    {
     "name": "stdout",
     "output_type": "stream",
     "text": [
      "0.503\t0.765\t1.000\t0.867\n"
     ]
    },
    {
     "data": {
      "application/vnd.jupyter.widget-view+json": {
       "model_id": "a15991fe82b44bd5995c08e129be9e8b",
       "version_major": 2,
       "version_minor": 0
      },
      "text/plain": [
       "HBox(children=(FloatProgress(value=0.0), HTML(value='')))"
      ]
     },
     "metadata": {},
     "output_type": "display_data"
    },
    {
     "ename": "KeyboardInterrupt",
     "evalue": "",
     "output_type": "error",
     "traceback": [
      "\u001b[0;31m---------------------------------------------------------------------------\u001b[0m",
      "\u001b[0;31mKeyboardInterrupt\u001b[0m                         Traceback (most recent call last)",
      "\u001b[0;32m<ipython-input-26-59c0b95b87de>\u001b[0m in \u001b[0;36m<module>\u001b[0;34m\u001b[0m\n\u001b[1;32m     23\u001b[0m         \u001b[0moptimizer\u001b[0m\u001b[0;34m.\u001b[0m\u001b[0mtrf_lr\u001b[0m \u001b[0;34m=\u001b[0m \u001b[0mnext\u001b[0m\u001b[0;34m(\u001b[0m\u001b[0mlearn_rates\u001b[0m\u001b[0;34m)\u001b[0m\u001b[0;34m\u001b[0m\u001b[0;34m\u001b[0m\u001b[0m\n\u001b[1;32m     24\u001b[0m         \u001b[0mtexts\u001b[0m\u001b[0;34m,\u001b[0m \u001b[0mannotations\u001b[0m \u001b[0;34m=\u001b[0m \u001b[0mzip\u001b[0m\u001b[0;34m(\u001b[0m\u001b[0;34m*\u001b[0m\u001b[0mbatch\u001b[0m\u001b[0;34m)\u001b[0m\u001b[0;34m\u001b[0m\u001b[0;34m\u001b[0m\u001b[0m\n\u001b[0;32m---> 25\u001b[0;31m         \u001b[0mnlp\u001b[0m\u001b[0;34m.\u001b[0m\u001b[0mupdate\u001b[0m\u001b[0;34m(\u001b[0m\u001b[0mtexts\u001b[0m\u001b[0;34m,\u001b[0m \u001b[0mannotations\u001b[0m\u001b[0;34m,\u001b[0m \u001b[0msgd\u001b[0m\u001b[0;34m=\u001b[0m\u001b[0moptimizer\u001b[0m\u001b[0;34m,\u001b[0m \u001b[0mdrop\u001b[0m\u001b[0;34m=\u001b[0m\u001b[0;36m0.1\u001b[0m\u001b[0;34m,\u001b[0m \u001b[0mlosses\u001b[0m\u001b[0;34m=\u001b[0m\u001b[0mlosses\u001b[0m\u001b[0;34m)\u001b[0m\u001b[0;34m\u001b[0m\u001b[0;34m\u001b[0m\u001b[0m\n\u001b[0m\u001b[1;32m     26\u001b[0m         \u001b[0mpbar\u001b[0m\u001b[0;34m.\u001b[0m\u001b[0mupdate\u001b[0m\u001b[0;34m(\u001b[0m\u001b[0;36m1\u001b[0m\u001b[0;34m)\u001b[0m\u001b[0;34m\u001b[0m\u001b[0;34m\u001b[0m\u001b[0m\n\u001b[1;32m     27\u001b[0m         \u001b[0;32mif\u001b[0m \u001b[0mstep\u001b[0m \u001b[0;32mand\u001b[0m \u001b[0;34m(\u001b[0m\u001b[0mstep\u001b[0m \u001b[0;34m%\u001b[0m \u001b[0meval_every\u001b[0m\u001b[0;34m)\u001b[0m \u001b[0;34m==\u001b[0m \u001b[0;36m0\u001b[0m\u001b[0;34m:\u001b[0m\u001b[0;34m\u001b[0m\u001b[0;34m\u001b[0m\u001b[0m\n",
      "\u001b[0;32m~/opt/anaconda3/envs/capstone_env/lib/python3.7/site-packages/spacy_transformers/language.py\u001b[0m in \u001b[0;36mupdate\u001b[0;34m(self, docs, golds, drop, sgd, losses, component_cfg)\u001b[0m\n\u001b[1;32m    109\u001b[0m                 \u001b[0mcomponent_cfg\u001b[0m\u001b[0;34m=\u001b[0m\u001b[0mcomponent_cfg\u001b[0m\u001b[0;34m,\u001b[0m\u001b[0;34m\u001b[0m\u001b[0;34m\u001b[0m\u001b[0m\n\u001b[1;32m    110\u001b[0m             )\n\u001b[0;32m--> 111\u001b[0;31m         \u001b[0mbackprop_tok2vec\u001b[0m\u001b[0;34m(\u001b[0m\u001b[0mdocs\u001b[0m\u001b[0;34m,\u001b[0m \u001b[0msgd\u001b[0m\u001b[0;34m=\u001b[0m\u001b[0msgd\u001b[0m\u001b[0;34m)\u001b[0m\u001b[0;34m\u001b[0m\u001b[0;34m\u001b[0m\u001b[0m\n\u001b[0m\u001b[1;32m    112\u001b[0m \u001b[0;34m\u001b[0m\u001b[0m\n\u001b[1;32m    113\u001b[0m     \u001b[0;32mdef\u001b[0m \u001b[0mresume_training\u001b[0m\u001b[0;34m(\u001b[0m\u001b[0mself\u001b[0m\u001b[0;34m,\u001b[0m \u001b[0msgd\u001b[0m\u001b[0;34m=\u001b[0m\u001b[0;32mNone\u001b[0m\u001b[0;34m,\u001b[0m \u001b[0mcomponent_cfg\u001b[0m\u001b[0;34m=\u001b[0m\u001b[0;32mNone\u001b[0m\u001b[0;34m,\u001b[0m \u001b[0;34m**\u001b[0m\u001b[0mkwargs\u001b[0m\u001b[0;34m)\u001b[0m\u001b[0;34m:\u001b[0m\u001b[0;34m\u001b[0m\u001b[0;34m\u001b[0m\u001b[0m\n",
      "\u001b[0;32m~/opt/anaconda3/envs/capstone_env/lib/python3.7/site-packages/spacy_transformers/pipeline/tok2vec.py\u001b[0m in \u001b[0;36mfinish_update\u001b[0;34m(docs, sgd)\u001b[0m\n\u001b[1;32m    146\u001b[0m                 \u001b[0mRaggedArray\u001b[0m\u001b[0;34m(\u001b[0m\u001b[0mxp\u001b[0m\u001b[0;34m.\u001b[0m\u001b[0mvstack\u001b[0m\u001b[0;34m(\u001b[0m\u001b[0md_po\u001b[0m\u001b[0;34m)\u001b[0m\u001b[0;34m,\u001b[0m \u001b[0mpo_lengths\u001b[0m\u001b[0;34m)\u001b[0m\u001b[0;34m,\u001b[0m\u001b[0;34m\u001b[0m\u001b[0;34m\u001b[0m\u001b[0m\n\u001b[1;32m    147\u001b[0m             )\n\u001b[0;32m--> 148\u001b[0;31m             \u001b[0mbackprop\u001b[0m\u001b[0;34m(\u001b[0m\u001b[0mgradients\u001b[0m\u001b[0;34m,\u001b[0m \u001b[0msgd\u001b[0m\u001b[0;34m=\u001b[0m\u001b[0msgd\u001b[0m\u001b[0;34m)\u001b[0m\u001b[0;34m\u001b[0m\u001b[0;34m\u001b[0m\u001b[0m\n\u001b[0m\u001b[1;32m    149\u001b[0m             \u001b[0;32mfor\u001b[0m \u001b[0mdoc\u001b[0m \u001b[0;32min\u001b[0m \u001b[0mdocs\u001b[0m\u001b[0;34m:\u001b[0m\u001b[0;34m\u001b[0m\u001b[0;34m\u001b[0m\u001b[0m\n\u001b[1;32m    150\u001b[0m                 \u001b[0mdoc\u001b[0m\u001b[0;34m.\u001b[0m\u001b[0m_\u001b[0m\u001b[0;34m.\u001b[0m\u001b[0mget\u001b[0m\u001b[0;34m(\u001b[0m\u001b[0mATTRS\u001b[0m\u001b[0;34m.\u001b[0m\u001b[0md_last_hidden_state\u001b[0m\u001b[0;34m)\u001b[0m\u001b[0;34m.\u001b[0m\u001b[0mfill\u001b[0m\u001b[0;34m(\u001b[0m\u001b[0;36m0\u001b[0m\u001b[0;34m)\u001b[0m\u001b[0;34m\u001b[0m\u001b[0;34m\u001b[0m\u001b[0m\n",
      "\u001b[0;32m~/opt/anaconda3/envs/capstone_env/lib/python3.7/site-packages/spacy_transformers/model_registry.py\u001b[0m in \u001b[0;36msentence_bwd\u001b[0;34m(d_acts, sgd)\u001b[0m\n\u001b[1;32m    420\u001b[0m             \u001b[0md_acts\u001b[0m\u001b[0;34m.\u001b[0m\u001b[0mlh\u001b[0m\u001b[0;34m.\u001b[0m\u001b[0mlengths\u001b[0m \u001b[0;34m=\u001b[0m \u001b[0mwords_per_sent\u001b[0m\u001b[0;34m\u001b[0m\u001b[0;34m\u001b[0m\u001b[0m\n\u001b[1;32m    421\u001b[0m             \u001b[0md_acts\u001b[0m\u001b[0;34m.\u001b[0m\u001b[0mpo\u001b[0m\u001b[0;34m.\u001b[0m\u001b[0mlengths\u001b[0m \u001b[0;34m=\u001b[0m \u001b[0;34m[\u001b[0m\u001b[0;36m1\u001b[0m \u001b[0;32mfor\u001b[0m \u001b[0m_\u001b[0m \u001b[0;32min\u001b[0m \u001b[0mwords_per_sent\u001b[0m\u001b[0;34m]\u001b[0m\u001b[0;34m\u001b[0m\u001b[0;34m\u001b[0m\u001b[0m\n\u001b[0;32m--> 422\u001b[0;31m             \u001b[0md_ids\u001b[0m \u001b[0;34m=\u001b[0m \u001b[0mbp_acts\u001b[0m\u001b[0;34m(\u001b[0m\u001b[0md_acts\u001b[0m\u001b[0;34m,\u001b[0m \u001b[0msgd\u001b[0m\u001b[0;34m=\u001b[0m\u001b[0msgd\u001b[0m\u001b[0;34m)\u001b[0m\u001b[0;34m\u001b[0m\u001b[0;34m\u001b[0m\u001b[0m\n\u001b[0m\u001b[1;32m    423\u001b[0m             \u001b[0;32mif\u001b[0m \u001b[0;32mnot\u001b[0m \u001b[0;34m(\u001b[0m\u001b[0md_ids\u001b[0m \u001b[0;32mis\u001b[0m \u001b[0;32mNone\u001b[0m \u001b[0;32mor\u001b[0m \u001b[0mall\u001b[0m\u001b[0;34m(\u001b[0m\u001b[0mds\u001b[0m \u001b[0;32mis\u001b[0m \u001b[0;32mNone\u001b[0m \u001b[0;32mfor\u001b[0m \u001b[0mds\u001b[0m \u001b[0;32min\u001b[0m \u001b[0md_ids\u001b[0m\u001b[0;34m)\u001b[0m\u001b[0;34m)\u001b[0m\u001b[0;34m:\u001b[0m\u001b[0;34m\u001b[0m\u001b[0;34m\u001b[0m\u001b[0m\n\u001b[1;32m    424\u001b[0m                 \u001b[0;32mraise\u001b[0m \u001b[0mValueError\u001b[0m\u001b[0;34m(\u001b[0m\u001b[0;34m\"Expected gradient of sentence to be None\"\u001b[0m\u001b[0;34m)\u001b[0m\u001b[0;34m\u001b[0m\u001b[0;34m\u001b[0m\u001b[0m\n",
      "\u001b[0;32m~/opt/anaconda3/envs/capstone_env/lib/python3.7/site-packages/thinc/neural/_classes/feed_forward.py\u001b[0m in \u001b[0;36mcontinue_update\u001b[0;34m(gradient, sgd)\u001b[0m\n\u001b[1;32m     51\u001b[0m                 \u001b[0;32mif\u001b[0m \u001b[0mgradient\u001b[0m \u001b[0;32mis\u001b[0m \u001b[0;32mNone\u001b[0m \u001b[0;32mor\u001b[0m \u001b[0mcallback\u001b[0m \u001b[0;32mis\u001b[0m \u001b[0;32mNone\u001b[0m\u001b[0;34m:\u001b[0m\u001b[0;34m\u001b[0m\u001b[0;34m\u001b[0m\u001b[0m\n\u001b[1;32m     52\u001b[0m                     \u001b[0;32mbreak\u001b[0m\u001b[0;34m\u001b[0m\u001b[0;34m\u001b[0m\u001b[0m\n\u001b[0;32m---> 53\u001b[0;31m                 \u001b[0mgradient\u001b[0m \u001b[0;34m=\u001b[0m \u001b[0mcallback\u001b[0m\u001b[0;34m(\u001b[0m\u001b[0mgradient\u001b[0m\u001b[0;34m,\u001b[0m \u001b[0msgd\u001b[0m\u001b[0;34m)\u001b[0m\u001b[0;34m\u001b[0m\u001b[0;34m\u001b[0m\u001b[0m\n\u001b[0m\u001b[1;32m     54\u001b[0m             \u001b[0;32mreturn\u001b[0m \u001b[0mgradient\u001b[0m\u001b[0;34m\u001b[0m\u001b[0;34m\u001b[0m\u001b[0m\n\u001b[1;32m     55\u001b[0m \u001b[0;34m\u001b[0m\u001b[0m\n",
      "\u001b[0;32m~/opt/anaconda3/envs/capstone_env/lib/python3.7/site-packages/spacy_transformers/model_registry.py\u001b[0m in \u001b[0;36mbackprop_batched\u001b[0;34m(d_outputs, sgd)\u001b[0m\n\u001b[1;32m    386\u001b[0m                     \u001b[0mpo_lengths\u001b[0m \u001b[0;34m=\u001b[0m \u001b[0;34m[\u001b[0m\u001b[0;34m]\u001b[0m\u001b[0;34m\u001b[0m\u001b[0;34m\u001b[0m\u001b[0m\n\u001b[1;32m    387\u001b[0m                 \u001b[0mdY\u001b[0m \u001b[0;34m=\u001b[0m \u001b[0mActs\u001b[0m\u001b[0;34m(\u001b[0m\u001b[0mRaggedArray\u001b[0m\u001b[0;34m(\u001b[0m\u001b[0md_lh\u001b[0m\u001b[0;34m,\u001b[0m \u001b[0mlh_lengths\u001b[0m\u001b[0;34m)\u001b[0m\u001b[0;34m,\u001b[0m \u001b[0mRaggedArray\u001b[0m\u001b[0;34m(\u001b[0m\u001b[0md_po\u001b[0m\u001b[0;34m,\u001b[0m \u001b[0mpo_lengths\u001b[0m\u001b[0;34m)\u001b[0m\u001b[0;34m)\u001b[0m\u001b[0;34m\u001b[0m\u001b[0;34m\u001b[0m\u001b[0m\n\u001b[0;32m--> 388\u001b[0;31m                 \u001b[0mdX\u001b[0m \u001b[0;34m=\u001b[0m \u001b[0mget_dX\u001b[0m\u001b[0;34m(\u001b[0m\u001b[0mdY\u001b[0m\u001b[0;34m,\u001b[0m \u001b[0msgd\u001b[0m\u001b[0;34m=\u001b[0m\u001b[0msgd\u001b[0m\u001b[0;34m)\u001b[0m\u001b[0;34m\u001b[0m\u001b[0;34m\u001b[0m\u001b[0m\n\u001b[0m\u001b[1;32m    389\u001b[0m                 \u001b[0;32massert\u001b[0m \u001b[0mdX\u001b[0m \u001b[0;32mis\u001b[0m \u001b[0;32mNone\u001b[0m\u001b[0;34m\u001b[0m\u001b[0;34m\u001b[0m\u001b[0m\n\u001b[1;32m    390\u001b[0m             \u001b[0;32mreturn\u001b[0m \u001b[0;32mNone\u001b[0m\u001b[0;34m\u001b[0m\u001b[0;34m\u001b[0m\u001b[0m\n",
      "\u001b[0;32m~/opt/anaconda3/envs/capstone_env/lib/python3.7/site-packages/spacy_transformers/wrapper.py\u001b[0m in \u001b[0;36mbackward_pytorch\u001b[0;34m(d_output, sgd)\u001b[0m\n\u001b[1;32m    120\u001b[0m                 \u001b[0my_for_bwd\u001b[0m\u001b[0;34m.\u001b[0m\u001b[0mappend\u001b[0m\u001b[0;34m(\u001b[0m\u001b[0my_var\u001b[0m\u001b[0;34m[\u001b[0m\u001b[0;36m1\u001b[0m\u001b[0;34m]\u001b[0m\u001b[0;34m)\u001b[0m\u001b[0;34m\u001b[0m\u001b[0;34m\u001b[0m\u001b[0m\n\u001b[1;32m    121\u001b[0m             \u001b[0;32mif\u001b[0m \u001b[0mFINE_TUNE\u001b[0m\u001b[0;34m:\u001b[0m\u001b[0;34m\u001b[0m\u001b[0;34m\u001b[0m\u001b[0m\n\u001b[0;32m--> 122\u001b[0;31m                 \u001b[0mtorch\u001b[0m\u001b[0;34m.\u001b[0m\u001b[0mautograd\u001b[0m\u001b[0;34m.\u001b[0m\u001b[0mbackward\u001b[0m\u001b[0;34m(\u001b[0m\u001b[0my_for_bwd\u001b[0m\u001b[0;34m,\u001b[0m \u001b[0mgrad_tensors\u001b[0m\u001b[0;34m=\u001b[0m\u001b[0mdy_for_bwd\u001b[0m\u001b[0;34m)\u001b[0m\u001b[0;34m\u001b[0m\u001b[0;34m\u001b[0m\u001b[0m\n\u001b[0m\u001b[1;32m    123\u001b[0m                 \u001b[0;32mif\u001b[0m \u001b[0msgd\u001b[0m \u001b[0;32mis\u001b[0m \u001b[0;32mnot\u001b[0m \u001b[0;32mNone\u001b[0m\u001b[0;34m:\u001b[0m\u001b[0;34m\u001b[0m\u001b[0;34m\u001b[0m\u001b[0m\n\u001b[1;32m    124\u001b[0m                     \u001b[0;32mif\u001b[0m \u001b[0mself\u001b[0m\u001b[0;34m.\u001b[0m\u001b[0m_optimizer\u001b[0m \u001b[0;32mis\u001b[0m \u001b[0;32mNone\u001b[0m\u001b[0;34m:\u001b[0m\u001b[0;34m\u001b[0m\u001b[0;34m\u001b[0m\u001b[0m\n",
      "\u001b[0;32m~/opt/anaconda3/envs/capstone_env/lib/python3.7/site-packages/torch/autograd/__init__.py\u001b[0m in \u001b[0;36mbackward\u001b[0;34m(tensors, grad_tensors, retain_graph, create_graph, grad_variables)\u001b[0m\n\u001b[1;32m     91\u001b[0m     Variable._execution_engine.run_backward(\n\u001b[1;32m     92\u001b[0m         \u001b[0mtensors\u001b[0m\u001b[0;34m,\u001b[0m \u001b[0mgrad_tensors\u001b[0m\u001b[0;34m,\u001b[0m \u001b[0mretain_graph\u001b[0m\u001b[0;34m,\u001b[0m \u001b[0mcreate_graph\u001b[0m\u001b[0;34m,\u001b[0m\u001b[0;34m\u001b[0m\u001b[0;34m\u001b[0m\u001b[0m\n\u001b[0;32m---> 93\u001b[0;31m         allow_unreachable=True)  # allow_unreachable flag\n\u001b[0m\u001b[1;32m     94\u001b[0m \u001b[0;34m\u001b[0m\u001b[0m\n\u001b[1;32m     95\u001b[0m \u001b[0;34m\u001b[0m\u001b[0m\n",
      "\u001b[0;31mKeyboardInterrupt\u001b[0m: "
     ]
    }
   ],
   "source": [
    "optimizer = nlp.resume_training()\n",
    "optimizer.alpha = 0.001\n",
    "optimizer.trf_weight_decay = 0.005\n",
    "optimizer.L2 = 0.0\n",
    "learn_rates = cyclic_triangular_rate(\n",
    "    learn_rate / 3, learn_rate * 3, 2 * len(train_data) // batch_size\n",
    "    )\n",
    "print(\"Training the model...\")\n",
    "print(\"{:^5}\\t{:^5}\\t{:^5}\\t{:^5}\".format(\"LOSS\", \"P\", \"R\", \"F\"))\n",
    "\n",
    "pbar = tqdm(total=100, leave=False)\n",
    "results = []\n",
    "epoch = 0\n",
    "step = 0\n",
    "eval_every = 100\n",
    "patience = 3\n",
    "while True:\n",
    "    # Train and evaluate\n",
    "    losses = Counter()\n",
    "    random.shuffle(train_data)\n",
    "    batches = minibatch(train_data, size=batch_size)\n",
    "    for batch in batches:\n",
    "        optimizer.trf_lr = next(learn_rates)\n",
    "        texts, annotations = zip(*batch)\n",
    "        nlp.update(texts, annotations, sgd=optimizer, drop=0.1, losses=losses)\n",
    "        pbar.update(1)\n",
    "        if step and (step % eval_every) == 0:\n",
    "            pbar.close()\n",
    "            with nlp.use_params(optimizer.averages):\n",
    "                # nlp = spaCy Language Transformer\n",
    "                scores = evaluate(nlp, eval_texts, eval_cats, pos_label)\n",
    "            results.append((scores[\"textcat_f\"], step, epoch))\n",
    "            print(\n",
    "                \"{0:.3f}\\t{1:.3f}\\t{2:.3f}\\t{3:.3f}\".format(\n",
    "                    losses[\"trf_textcat\"],\n",
    "                    scores[\"textcat_p\"],\n",
    "                    scores[\"textcat_r\"],\n",
    "                    scores[\"textcat_f\"],\n",
    "                )\n",
    "            )\n",
    "            pbar = tqdm(total=eval_every, leave=False)\n",
    "        step += 1\n",
    "    epoch += 1\n",
    "    print(f\"epoch {epoch}\")\n",
    "    # Stop if no improvement in HP.patience checkpoints\n",
    "    if results:\n",
    "        best_score, best_step, best_epoch = max(results)\n",
    "        print(f\"best score: {best_score}  best_step : {best_step}  best epoch : {best_epoch} \")\n",
    "        print(f\"break clause: {((step - best_step) // eval_every)}\")\n",
    "        if ((step - best_step) // eval_every) >= patience:\n",
    "            break\n",
    "\n",
    "    msg = wasabi.Printer()\n",
    "    table_widths = [2, 4, 6]\n",
    "    msg.info(f\"Best scoring checkpoints\")\n",
    "    msg.row([\"Epoch\", \"Step\", \"Score\"], widths=table_widths)\n",
    "    msg.row([\"-\" * width for width in table_widths])\n",
    "    for score, step, epoch in sorted(results, reverse=True)[:10]:\n",
    "        msg.row([epoch, step, \"%.2f\" % (score * 100)], widths=table_widths)\n",
    "\n",
    "    # Test the trained model\n",
    "    test_text = eval_texts[0]\n",
    "    doc = nlp(test_text)\n",
    "    print(test_text, doc.cats)"
   ]
  }
 ],
 "metadata": {
  "kernelspec": {
   "display_name": "Python 3",
   "language": "python",
   "name": "python3"
  },
  "language_info": {
   "codemirror_mode": {
    "name": "ipython",
    "version": 3
   },
   "file_extension": ".py",
   "mimetype": "text/x-python",
   "name": "python",
   "nbconvert_exporter": "python",
   "pygments_lexer": "ipython3",
   "version": "3.7.7"
  }
 },
 "nbformat": 4,
 "nbformat_minor": 4
}
